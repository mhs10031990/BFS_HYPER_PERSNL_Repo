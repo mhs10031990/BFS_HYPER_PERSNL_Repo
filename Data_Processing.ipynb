{
 "cells": [
  {
   "cell_type": "markdown",
   "id": "eb02e1f9-3f94-4bd3-83b8-450ae8f6a97c",
   "metadata": {},
   "source": [
    "# Use HYPER_PERSNL_Template Customized Notebook Template"
   ]
  },
  {
   "cell_type": "code",
   "execution_count": 2,
   "id": "110ab7e7-fd1a-4d75-a870-37a09c8cbcf4",
   "metadata": {},
   "outputs": [],
   "source": [
    "import pandas as pd\n",
    "from datetime import datetime\n",
    "from datetime import timedelta\n",
    "infer_datetime_format=True\n",
    "\n",
    "import numpy as np\n",
    "import random\n",
    "\n",
    "import matplotlib.pyplot as plt\n",
    "plt.rcParams.update({'figure.figsize':(9,7), 'figure.dpi':120})\n",
    "\n",
    "random.seed(0)\n",
    "\n",
    "now1 = datetime.now()"
   ]
  },
  {
   "cell_type": "code",
   "execution_count": 3,
   "id": "9a6fc60c-070f-4023-95ce-2df4269fdcd4",
   "metadata": {},
   "outputs": [],
   "source": [
    "from fosforml.model_manager.snowflakesession import get_session\n",
    "my_session = get_session()"
   ]
  },
  {
   "cell_type": "code",
   "execution_count": 4,
   "id": "ee8d81f6-1842-496b-8975-42cd31745073",
   "metadata": {},
   "outputs": [],
   "source": [
    "table_name = 'CUSTOMER_ACCOUNT_DETAILS'\n",
    "\n",
    "sf_df = my_session.sql(\"select * from {}\".format(table_name))\n",
    "account = sf_df.to_pandas()"
   ]
  },
  {
   "cell_type": "code",
   "execution_count": 6,
   "id": "abf442fb-8aec-4183-811e-712c568d0867",
   "metadata": {},
   "outputs": [],
   "source": [
    "table_name = 'CUSTOMER_TRANSACTION_DETAILS'\n",
    "\n",
    "sf_df = my_session.sql(\"select * from {}\".format(table_name))\n",
    "transactions = sf_df.to_pandas()"
   ]
  },
  {
   "cell_type": "code",
   "execution_count": 7,
   "id": "ebcd4dc5-81d8-44e4-87d2-5ef7b5258ee0",
   "metadata": {
    "scrolled": true
   },
   "outputs": [
    {
     "data": {
      "text/plain": [
       "Index(['ACC_BBAN', 'ACC_IBAN', 'ACC_OPEN_DT', 'BALANCE', 'CUST_ID', 'EXPENSE',\n",
       "       'EXPENSE_CATEGORY', 'BROWSER', 'DEVICE', 'DR_CR', 'LOGIN_TIME',\n",
       "       'LOGOUT_TIME', 'TXN_DT', 'TXN_ID', 'TXN_AMOUNT', 'TXN_CODE',\n",
       "       'TXN_REMARKS', 'TXN_TIME', 'TXN_TYPE'],\n",
       "      dtype='object')"
      ]
     },
     "execution_count": 7,
     "metadata": {},
     "output_type": "execute_result"
    }
   ],
   "source": [
    "transactions.columns"
   ]
  },
  {
   "cell_type": "code",
   "execution_count": 8,
   "id": "3f86cfa4-eace-4b3b-9bd7-99a1696f28fc",
   "metadata": {},
   "outputs": [],
   "source": [
    "transactions.sort_values(by=['CUST_ID', 'ACC_BBAN', 'TXN_DT', 'TXN_TIME'], inplace=True) "
   ]
  },
  {
   "cell_type": "code",
   "execution_count": 9,
   "id": "eca3a691-3b58-4c27-93c3-558fd4dce81c",
   "metadata": {},
   "outputs": [],
   "source": [
    "table_name = 'CUSTOMER_FINANCE_BREAKDOWN'\n",
    "\n",
    "sf_df = my_session.sql(\"select * from {}\".format(table_name))\n",
    "financials = sf_df.to_pandas()"
   ]
  },
  {
   "cell_type": "code",
   "execution_count": 10,
   "id": "b3278d13-69bd-43f1-9c52-9d85f2337417",
   "metadata": {},
   "outputs": [],
   "source": [
    "table_name = 'CUSTOMER_SUBSCRIPTION_DETAILS'\n",
    "\n",
    "sf_df = my_session.sql(\"select * from {}\".format(table_name))\n",
    "subscriptions = sf_df.to_pandas()\n",
    "subscriptions_orig = subscriptions.copy(deep=True)"
   ]
  },
  {
   "cell_type": "code",
   "execution_count": 11,
   "id": "53254bd9-dbf2-49db-b0cc-6cb0e18d30ec",
   "metadata": {},
   "outputs": [],
   "source": [
    "table_name = 'CUSTOMER_TERM_DEPOSIT_DETAILS'\n",
    "\n",
    "sf_df = my_session.sql(\"select * from {}\".format(table_name))\n",
    "term_deposit = sf_df.to_pandas()"
   ]
  },
  {
   "cell_type": "code",
   "execution_count": 12,
   "id": "5983e53d-9929-4ca5-9148-d6228d83c0b8",
   "metadata": {},
   "outputs": [],
   "source": [
    "table_name = 'CUSTOMER_LOAN_DETAILS'\n",
    "\n",
    "sf_df = my_session.sql(\"select * from {}\".format(table_name))\n",
    "loan = sf_df.to_pandas()"
   ]
  },
  {
   "cell_type": "code",
   "execution_count": 13,
   "id": "549b5927-7f78-42cd-84c1-1a1970da78f1",
   "metadata": {},
   "outputs": [],
   "source": [
    "table_name = 'CUSTOMER_CREDITCARD_DETAILS'\n",
    "\n",
    "sf_df = my_session.sql(\"select * from {}\".format(table_name))\n",
    "credit_card = sf_df.to_pandas()"
   ]
  },
  {
   "cell_type": "code",
   "execution_count": 15,
   "id": "ab5219fc-7d0d-4965-ae92-3f53899d60e4",
   "metadata": {},
   "outputs": [],
   "source": [
    "x1 = list(set(transactions['CUST_ID']))"
   ]
  },
  {
   "cell_type": "code",
   "execution_count": 19,
   "id": "08e91efe-afea-44cd-95f7-f889b87beb11",
   "metadata": {},
   "outputs": [
    {
     "data": {
      "text/html": [
       "<div>\n",
       "<style scoped>\n",
       "    .dataframe tbody tr th:only-of-type {\n",
       "        vertical-align: middle;\n",
       "    }\n",
       "\n",
       "    .dataframe tbody tr th {\n",
       "        vertical-align: top;\n",
       "    }\n",
       "\n",
       "    .dataframe thead th {\n",
       "        text-align: right;\n",
       "    }\n",
       "</style>\n",
       "<table border=\"1\" class=\"dataframe\">\n",
       "  <thead>\n",
       "    <tr style=\"text-align: right;\">\n",
       "      <th></th>\n",
       "      <th>CUST_ID</th>\n",
       "      <th>ACC_IBAN</th>\n",
       "      <th>ACC_BBAN</th>\n",
       "      <th>ACC_OPEN_DT</th>\n",
       "      <th>BALANCE</th>\n",
       "      <th>ACC_STATUS</th>\n",
       "      <th>ACC_TYPE</th>\n",
       "    </tr>\n",
       "  </thead>\n",
       "  <tbody>\n",
       "    <tr>\n",
       "      <th>0</th>\n",
       "      <td>4185</td>\n",
       "      <td>GB90EMIC89482763544524</td>\n",
       "      <td>GDJY66571183273954</td>\n",
       "      <td>2001-03-22</td>\n",
       "      <td>$50.57</td>\n",
       "      <td>Active</td>\n",
       "      <td>Credit</td>\n",
       "    </tr>\n",
       "    <tr>\n",
       "      <th>1</th>\n",
       "      <td>291</td>\n",
       "      <td>GB83VYSJ52094207716710</td>\n",
       "      <td>OVWN34297715684777</td>\n",
       "      <td>2010-08-29</td>\n",
       "      <td>$74,111.13</td>\n",
       "      <td>Closed</td>\n",
       "      <td>Current</td>\n",
       "    </tr>\n",
       "    <tr>\n",
       "      <th>2</th>\n",
       "      <td>7497</td>\n",
       "      <td>GB17OCSO08226852523762</td>\n",
       "      <td>DLFO12501444293678</td>\n",
       "      <td>2000-09-04</td>\n",
       "      <td>$669.14</td>\n",
       "      <td>Active</td>\n",
       "      <td>Loan</td>\n",
       "    </tr>\n",
       "    <tr>\n",
       "      <th>3</th>\n",
       "      <td>7497</td>\n",
       "      <td>GB26RRMJ41734703010562</td>\n",
       "      <td>SZPN32742192244415</td>\n",
       "      <td>2010-09-05</td>\n",
       "      <td>$0.03</td>\n",
       "      <td>Active</td>\n",
       "      <td>Credit</td>\n",
       "    </tr>\n",
       "    <tr>\n",
       "      <th>4</th>\n",
       "      <td>7497</td>\n",
       "      <td>GB13JBDZ14742645466984</td>\n",
       "      <td>DAGC95804976124339</td>\n",
       "      <td>2006-02-14</td>\n",
       "      <td>$0.71</td>\n",
       "      <td>Closed</td>\n",
       "      <td>Credit</td>\n",
       "    </tr>\n",
       "    <tr>\n",
       "      <th>...</th>\n",
       "      <td>...</td>\n",
       "      <td>...</td>\n",
       "      <td>...</td>\n",
       "      <td>...</td>\n",
       "      <td>...</td>\n",
       "      <td>...</td>\n",
       "      <td>...</td>\n",
       "    </tr>\n",
       "    <tr>\n",
       "      <th>3101</th>\n",
       "      <td>2137</td>\n",
       "      <td>GB79MEEM68164816755595</td>\n",
       "      <td>JGQZ63653199537639</td>\n",
       "      <td>2020-07-08</td>\n",
       "      <td>$191.20</td>\n",
       "      <td>Active</td>\n",
       "      <td>Savings</td>\n",
       "    </tr>\n",
       "    <tr>\n",
       "      <th>3102</th>\n",
       "      <td>2137</td>\n",
       "      <td>GB72FWKV94464237567600</td>\n",
       "      <td>LCGK26173403352193</td>\n",
       "      <td>2011-06-05</td>\n",
       "      <td>$54,340.79</td>\n",
       "      <td>Closed</td>\n",
       "      <td>Savings</td>\n",
       "    </tr>\n",
       "    <tr>\n",
       "      <th>3103</th>\n",
       "      <td>3899</td>\n",
       "      <td>GB97XFCA41641435894700</td>\n",
       "      <td>IQWX43085486211593</td>\n",
       "      <td>2006-01-08</td>\n",
       "      <td>$906.56</td>\n",
       "      <td>Active</td>\n",
       "      <td>Loan</td>\n",
       "    </tr>\n",
       "    <tr>\n",
       "      <th>3104</th>\n",
       "      <td>3899</td>\n",
       "      <td>GB72HHTA49364267690196</td>\n",
       "      <td>PFVP16819625415314</td>\n",
       "      <td>2014-10-14</td>\n",
       "      <td>$17.61</td>\n",
       "      <td>Closed</td>\n",
       "      <td>Loan</td>\n",
       "    </tr>\n",
       "    <tr>\n",
       "      <th>3105</th>\n",
       "      <td>3899</td>\n",
       "      <td>GB62SCTO34024769359008</td>\n",
       "      <td>ADMB58970770088995</td>\n",
       "      <td>2009-06-10</td>\n",
       "      <td>$8.71</td>\n",
       "      <td>Active</td>\n",
       "      <td>Savings</td>\n",
       "    </tr>\n",
       "  </tbody>\n",
       "</table>\n",
       "<p>3106 rows × 7 columns</p>\n",
       "</div>"
      ],
      "text/plain": [
       "      CUST_ID                ACC_IBAN            ACC_BBAN ACC_OPEN_DT  \\\n",
       "0        4185  GB90EMIC89482763544524  GDJY66571183273954  2001-03-22   \n",
       "1         291  GB83VYSJ52094207716710  OVWN34297715684777  2010-08-29   \n",
       "2        7497  GB17OCSO08226852523762  DLFO12501444293678  2000-09-04   \n",
       "3        7497  GB26RRMJ41734703010562  SZPN32742192244415  2010-09-05   \n",
       "4        7497  GB13JBDZ14742645466984  DAGC95804976124339  2006-02-14   \n",
       "...       ...                     ...                 ...         ...   \n",
       "3101     2137  GB79MEEM68164816755595  JGQZ63653199537639  2020-07-08   \n",
       "3102     2137  GB72FWKV94464237567600  LCGK26173403352193  2011-06-05   \n",
       "3103     3899  GB97XFCA41641435894700  IQWX43085486211593  2006-01-08   \n",
       "3104     3899  GB72HHTA49364267690196  PFVP16819625415314  2014-10-14   \n",
       "3105     3899  GB62SCTO34024769359008  ADMB58970770088995  2009-06-10   \n",
       "\n",
       "         BALANCE ACC_STATUS ACC_TYPE  \n",
       "0         $50.57     Active   Credit  \n",
       "1     $74,111.13     Closed  Current  \n",
       "2        $669.14     Active     Loan  \n",
       "3          $0.03     Active   Credit  \n",
       "4          $0.71     Closed   Credit  \n",
       "...          ...        ...      ...  \n",
       "3101     $191.20     Active  Savings  \n",
       "3102  $54,340.79     Closed  Savings  \n",
       "3103     $906.56     Active     Loan  \n",
       "3104      $17.61     Closed     Loan  \n",
       "3105       $8.71     Active  Savings  \n",
       "\n",
       "[3106 rows x 7 columns]"
      ]
     },
     "execution_count": 19,
     "metadata": {},
     "output_type": "execute_result"
    }
   ],
   "source": [
    "account"
   ]
  },
  {
   "cell_type": "code",
   "execution_count": 18,
   "id": "fba93299-fbf4-4c4c-a16c-ada050692f89",
   "metadata": {},
   "outputs": [
    {
     "ename": "KeyError",
     "evalue": "'BANK_NAME'",
     "output_type": "error",
     "traceback": [
      "\u001b[0;31m---------------------------------------------------------------------------\u001b[0m",
      "\u001b[0;31mKeyError\u001b[0m                                  Traceback (most recent call last)",
      "File \u001b[0;32m/opt/conda/lib/python3.9/site-packages/pandas/core/indexes/base.py:3802\u001b[0m, in \u001b[0;36mIndex.get_loc\u001b[0;34m(self, key)\u001b[0m\n\u001b[1;32m   3801\u001b[0m \u001b[38;5;28;01mtry\u001b[39;00m:\n\u001b[0;32m-> 3802\u001b[0m     \u001b[38;5;28;01mreturn\u001b[39;00m \u001b[38;5;28;43mself\u001b[39;49m\u001b[38;5;241;43m.\u001b[39;49m\u001b[43m_engine\u001b[49m\u001b[38;5;241;43m.\u001b[39;49m\u001b[43mget_loc\u001b[49m\u001b[43m(\u001b[49m\u001b[43mcasted_key\u001b[49m\u001b[43m)\u001b[49m\n\u001b[1;32m   3803\u001b[0m \u001b[38;5;28;01mexcept\u001b[39;00m \u001b[38;5;167;01mKeyError\u001b[39;00m \u001b[38;5;28;01mas\u001b[39;00m err:\n",
      "File \u001b[0;32mindex.pyx:153\u001b[0m, in \u001b[0;36mpandas._libs.index.IndexEngine.get_loc\u001b[0;34m()\u001b[0m\n",
      "File \u001b[0;32mindex.pyx:182\u001b[0m, in \u001b[0;36mpandas._libs.index.IndexEngine.get_loc\u001b[0;34m()\u001b[0m\n",
      "File \u001b[0;32mpandas/_libs/hashtable_class_helper.pxi:7081\u001b[0m, in \u001b[0;36mpandas._libs.hashtable.PyObjectHashTable.get_item\u001b[0;34m()\u001b[0m\n",
      "File \u001b[0;32mpandas/_libs/hashtable_class_helper.pxi:7089\u001b[0m, in \u001b[0;36mpandas._libs.hashtable.PyObjectHashTable.get_item\u001b[0;34m()\u001b[0m\n",
      "\u001b[0;31mKeyError\u001b[0m: 'BANK_NAME'",
      "\nThe above exception was the direct cause of the following exception:\n",
      "\u001b[0;31mKeyError\u001b[0m                                  Traceback (most recent call last)",
      "Cell \u001b[0;32mIn[18], line 1\u001b[0m\n\u001b[0;32m----> 1\u001b[0m bank_name \u001b[38;5;241m=\u001b[39m \u001b[38;5;28mlist\u001b[39m(\u001b[38;5;28mset\u001b[39m(\u001b[43maccount\u001b[49m\u001b[43m[\u001b[49m\u001b[38;5;124;43m'\u001b[39;49m\u001b[38;5;124;43mBANK_NAME\u001b[39;49m\u001b[38;5;124;43m'\u001b[39;49m\u001b[43m]\u001b[49m))  \u001b[38;5;66;03m## Open banking - list of bank names\u001b[39;00m\n",
      "File \u001b[0;32m/opt/conda/lib/python3.9/site-packages/pandas/core/frame.py:4090\u001b[0m, in \u001b[0;36mDataFrame.__getitem__\u001b[0;34m(self, key)\u001b[0m\n\u001b[1;32m   4088\u001b[0m \u001b[38;5;28;01mif\u001b[39;00m \u001b[38;5;28mself\u001b[39m\u001b[38;5;241m.\u001b[39mcolumns\u001b[38;5;241m.\u001b[39mnlevels \u001b[38;5;241m>\u001b[39m \u001b[38;5;241m1\u001b[39m:\n\u001b[1;32m   4089\u001b[0m     \u001b[38;5;28;01mreturn\u001b[39;00m \u001b[38;5;28mself\u001b[39m\u001b[38;5;241m.\u001b[39m_getitem_multilevel(key)\n\u001b[0;32m-> 4090\u001b[0m indexer \u001b[38;5;241m=\u001b[39m \u001b[38;5;28;43mself\u001b[39;49m\u001b[38;5;241;43m.\u001b[39;49m\u001b[43mcolumns\u001b[49m\u001b[38;5;241;43m.\u001b[39;49m\u001b[43mget_loc\u001b[49m\u001b[43m(\u001b[49m\u001b[43mkey\u001b[49m\u001b[43m)\u001b[49m\n\u001b[1;32m   4091\u001b[0m \u001b[38;5;28;01mif\u001b[39;00m is_integer(indexer):\n\u001b[1;32m   4092\u001b[0m     indexer \u001b[38;5;241m=\u001b[39m [indexer]\n",
      "File \u001b[0;32m/opt/conda/lib/python3.9/site-packages/pandas/core/indexes/base.py:3809\u001b[0m, in \u001b[0;36mIndex.get_loc\u001b[0;34m(self, key)\u001b[0m\n\u001b[1;32m   3804\u001b[0m     \u001b[38;5;28;01mif\u001b[39;00m \u001b[38;5;28misinstance\u001b[39m(casted_key, \u001b[38;5;28mslice\u001b[39m) \u001b[38;5;129;01mor\u001b[39;00m (\n\u001b[1;32m   3805\u001b[0m         \u001b[38;5;28misinstance\u001b[39m(casted_key, abc\u001b[38;5;241m.\u001b[39mIterable)\n\u001b[1;32m   3806\u001b[0m         \u001b[38;5;129;01mand\u001b[39;00m \u001b[38;5;28many\u001b[39m(\u001b[38;5;28misinstance\u001b[39m(x, \u001b[38;5;28mslice\u001b[39m) \u001b[38;5;28;01mfor\u001b[39;00m x \u001b[38;5;129;01min\u001b[39;00m casted_key)\n\u001b[1;32m   3807\u001b[0m     ):\n\u001b[1;32m   3808\u001b[0m         \u001b[38;5;28;01mraise\u001b[39;00m InvalidIndexError(key)\n\u001b[0;32m-> 3809\u001b[0m     \u001b[38;5;28;01mraise\u001b[39;00m \u001b[38;5;167;01mKeyError\u001b[39;00m(key) \u001b[38;5;28;01mfrom\u001b[39;00m \u001b[38;5;21;01merr\u001b[39;00m\n\u001b[1;32m   3810\u001b[0m \u001b[38;5;28;01mexcept\u001b[39;00m \u001b[38;5;167;01mTypeError\u001b[39;00m:\n\u001b[1;32m   3811\u001b[0m     \u001b[38;5;66;03m# If we have a listlike key, _check_indexing_error will raise\u001b[39;00m\n\u001b[1;32m   3812\u001b[0m     \u001b[38;5;66;03m#  InvalidIndexError. Otherwise we fall through and re-raise\u001b[39;00m\n\u001b[1;32m   3813\u001b[0m     \u001b[38;5;66;03m#  the TypeError.\u001b[39;00m\n\u001b[1;32m   3814\u001b[0m     \u001b[38;5;28mself\u001b[39m\u001b[38;5;241m.\u001b[39m_check_indexing_error(key)\n",
      "\u001b[0;31mKeyError\u001b[0m: 'BANK_NAME'"
     ]
    }
   ],
   "source": [
    "bank_name = list(set(account['BANK_NAME']))  ## Open banking - list of bank names"
   ]
  },
  {
   "cell_type": "code",
   "execution_count": null,
   "id": "c2caa413-29a2-4d0d-af64-bba3be00f210",
   "metadata": {},
   "outputs": [],
   "source": []
  },
  {
   "cell_type": "code",
   "execution_count": null,
   "id": "d3adccea-1c80-4ba2-ad51-ee3f4dbacc67",
   "metadata": {},
   "outputs": [],
   "source": []
  },
  {
   "cell_type": "code",
   "execution_count": null,
   "id": "098acf84-ef28-4351-9197-f1dfe9dbdf9d",
   "metadata": {},
   "outputs": [],
   "source": []
  },
  {
   "cell_type": "code",
   "execution_count": null,
   "id": "bec943cb-82fe-40c4-8768-72a5d76e4e7b",
   "metadata": {},
   "outputs": [],
   "source": []
  },
  {
   "cell_type": "code",
   "execution_count": null,
   "id": "5d1b2119-6622-495a-a2bd-77a722d21050",
   "metadata": {},
   "outputs": [],
   "source": []
  },
  {
   "cell_type": "code",
   "execution_count": null,
   "id": "77b62690-5686-49a1-a184-5eadca263151",
   "metadata": {},
   "outputs": [],
   "source": []
  },
  {
   "cell_type": "code",
   "execution_count": null,
   "id": "914af00b-1f7e-4b79-82bb-e883967a4931",
   "metadata": {},
   "outputs": [],
   "source": []
  },
  {
   "cell_type": "code",
   "execution_count": null,
   "id": "42da0026-2289-4978-85bf-68887da6e52a",
   "metadata": {},
   "outputs": [],
   "source": []
  },
  {
   "cell_type": "code",
   "execution_count": null,
   "id": "a6e7c6ea-716a-4354-9bf2-dab9290c2d2b",
   "metadata": {},
   "outputs": [],
   "source": []
  },
  {
   "cell_type": "code",
   "execution_count": null,
   "id": "54839254-511d-40ac-9e01-689d1a643162",
   "metadata": {},
   "outputs": [],
   "source": []
  },
  {
   "cell_type": "code",
   "execution_count": null,
   "id": "8e3396be-a80c-4f8b-831a-cf15179e783b",
   "metadata": {},
   "outputs": [],
   "source": []
  },
  {
   "cell_type": "code",
   "execution_count": null,
   "id": "2fdeb60f-8864-4a09-bc1f-ca741edbcba8",
   "metadata": {},
   "outputs": [],
   "source": []
  },
  {
   "cell_type": "code",
   "execution_count": null,
   "id": "645cca21-d48a-4832-8eeb-57b681b27596",
   "metadata": {},
   "outputs": [],
   "source": []
  },
  {
   "cell_type": "code",
   "execution_count": null,
   "id": "60970abe-70c0-4351-be38-604a00238153",
   "metadata": {},
   "outputs": [],
   "source": []
  },
  {
   "cell_type": "code",
   "execution_count": null,
   "id": "494c1d13-fee6-4da7-ab0e-aac367ae5d81",
   "metadata": {},
   "outputs": [],
   "source": []
  },
  {
   "cell_type": "code",
   "execution_count": null,
   "id": "f7a895f3-b373-46f4-ada3-e92d3b86fc7e",
   "metadata": {},
   "outputs": [],
   "source": []
  },
  {
   "cell_type": "code",
   "execution_count": null,
   "id": "8b7d2705-c4da-45fe-9f47-aaf1d407c332",
   "metadata": {},
   "outputs": [],
   "source": []
  },
  {
   "cell_type": "code",
   "execution_count": null,
   "id": "55638ecf-115f-4a6a-84f2-1b80907e902b",
   "metadata": {},
   "outputs": [],
   "source": []
  },
  {
   "cell_type": "code",
   "execution_count": null,
   "id": "ac4a9fbb-f075-4a51-b251-9b59b5562c6e",
   "metadata": {},
   "outputs": [],
   "source": []
  },
  {
   "cell_type": "code",
   "execution_count": null,
   "id": "3726f4df-c39e-47ca-9eed-c81ad12283a9",
   "metadata": {},
   "outputs": [],
   "source": []
  },
  {
   "cell_type": "code",
   "execution_count": null,
   "id": "912ba5eb-eec7-44a6-8c65-a090046519c7",
   "metadata": {},
   "outputs": [],
   "source": []
  }
 ],
 "metadata": {
  "kernelspec": {
   "display_name": "Python 3 (ipykernel)",
   "language": "python",
   "name": "python3"
  },
  "language_info": {
   "codemirror_mode": {
    "name": "ipython",
    "version": 3
   },
   "file_extension": ".py",
   "mimetype": "text/x-python",
   "name": "python",
   "nbconvert_exporter": "python",
   "pygments_lexer": "ipython3",
   "version": "3.9.19"
  }
 },
 "nbformat": 4,
 "nbformat_minor": 5
}
