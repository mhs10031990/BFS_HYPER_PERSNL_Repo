{
 "cells": [
  {
   "cell_type": "markdown",
   "id": "eb02e1f9-3f94-4bd3-83b8-450ae8f6a97c",
   "metadata": {},
   "source": [
    "# Use HYPER_PERSNL_Template Customized Notebook Template"
   ]
  },
  {
   "cell_type": "code",
   "execution_count": 2,
   "id": "110ab7e7-fd1a-4d75-a870-37a09c8cbcf4",
   "metadata": {},
   "outputs": [],
   "source": [
    "import pandas as pd\n",
    "from datetime import datetime\n",
    "from datetime import timedelta\n",
    "infer_datetime_format=True\n",
    "\n",
    "import numpy as np\n",
    "import random\n",
    "\n",
    "import matplotlib.pyplot as plt\n",
    "plt.rcParams.update({'figure.figsize':(9,7), 'figure.dpi':120})\n",
    "\n",
    "random.seed(0)\n",
    "\n",
    "now1 = datetime.now()"
   ]
  },
  {
   "cell_type": "code",
   "execution_count": 3,
   "id": "9a6fc60c-070f-4023-95ce-2df4269fdcd4",
   "metadata": {},
   "outputs": [],
   "source": [
    "from fosforml.model_manager.snowflakesession import get_session\n",
    "my_session = get_session()"
   ]
  },
  {
   "cell_type": "code",
   "execution_count": 4,
   "id": "ee8d81f6-1842-496b-8975-42cd31745073",
   "metadata": {},
   "outputs": [],
   "source": [
    "table_name = 'CUSTOMER_ACCOUNT_DETAILS'\n",
    "\n",
    "sf_df = my_session.sql(\"select * from {}\".format(table_name))\n",
    "account = sf_df.to_pandas()"
   ]
  },
  {
   "cell_type": "code",
   "execution_count": 6,
   "id": "abf442fb-8aec-4183-811e-712c568d0867",
   "metadata": {},
   "outputs": [],
   "source": [
    "table_name = 'CUSTOMER_TRANSACTION_DETAILS'\n",
    "\n",
    "sf_df = my_session.sql(\"select * from {}\".format(table_name))\n",
    "transactions = sf_df.to_pandas()"
   ]
  },
  {
   "cell_type": "code",
   "execution_count": 7,
   "id": "ebcd4dc5-81d8-44e4-87d2-5ef7b5258ee0",
   "metadata": {
    "scrolled": true
   },
   "outputs": [
    {
     "data": {
      "text/plain": [
       "Index(['ACC_BBAN', 'ACC_IBAN', 'ACC_OPEN_DT', 'BALANCE', 'CUST_ID', 'EXPENSE',\n",
       "       'EXPENSE_CATEGORY', 'BROWSER', 'DEVICE', 'DR_CR', 'LOGIN_TIME',\n",
       "       'LOGOUT_TIME', 'TXN_DT', 'TXN_ID', 'TXN_AMOUNT', 'TXN_CODE',\n",
       "       'TXN_REMARKS', 'TXN_TIME', 'TXN_TYPE'],\n",
       "      dtype='object')"
      ]
     },
     "execution_count": 7,
     "metadata": {},
     "output_type": "execute_result"
    }
   ],
   "source": [
    "transactions.columns"
   ]
  },
  {
   "cell_type": "code",
   "execution_count": 8,
   "id": "3f86cfa4-eace-4b3b-9bd7-99a1696f28fc",
   "metadata": {},
   "outputs": [],
   "source": [
    "transactions.sort_values(by=['CUST_ID', 'ACC_BBAN', 'TXN_DT', 'TXN_TIME'], inplace=True) "
   ]
  },
  {
   "cell_type": "code",
   "execution_count": 9,
   "id": "eca3a691-3b58-4c27-93c3-558fd4dce81c",
   "metadata": {},
   "outputs": [],
   "source": [
    "table_name = 'CUSTOMER_FINANCE_BREAKDOWN'\n",
    "\n",
    "sf_df = my_session.sql(\"select * from {}\".format(table_name))\n",
    "financials = sf_df.to_pandas()"
   ]
  },
  {
   "cell_type": "code",
   "execution_count": 10,
   "id": "b3278d13-69bd-43f1-9c52-9d85f2337417",
   "metadata": {},
   "outputs": [],
   "source": [
    "table_name = 'CUSTOMER_SUBSCRIPTION_DETAILS'\n",
    "\n",
    "sf_df = my_session.sql(\"select * from {}\".format(table_name))\n",
    "subscriptions = sf_df.to_pandas()\n",
    "subscriptions_orig = subscriptions.copy(deep=True)"
   ]
  },
  {
   "cell_type": "code",
   "execution_count": 11,
   "id": "53254bd9-dbf2-49db-b0cc-6cb0e18d30ec",
   "metadata": {},
   "outputs": [],
   "source": [
    "table_name = 'CUSTOMER_TERM_DEPOSIT_DETAILS'\n",
    "\n",
    "sf_df = my_session.sql(\"select * from {}\".format(table_name))\n",
    "term_deposit = sf_df.to_pandas()"
   ]
  },
  {
   "cell_type": "code",
   "execution_count": 12,
   "id": "5983e53d-9929-4ca5-9148-d6228d83c0b8",
   "metadata": {},
   "outputs": [],
   "source": [
    "table_name = 'CUSTOMER_LOAN_DETAILS'\n",
    "\n",
    "sf_df = my_session.sql(\"select * from {}\".format(table_name))\n",
    "loan = sf_df.to_pandas()"
   ]
  },
  {
   "cell_type": "code",
   "execution_count": 13,
   "id": "549b5927-7f78-42cd-84c1-1a1970da78f1",
   "metadata": {},
   "outputs": [],
   "source": [
    "table_name = 'CUSTOMER_CREDITCARD_DETAILS'\n",
    "\n",
    "sf_df = my_session.sql(\"select * from {}\".format(table_name))\n",
    "credit_card = sf_df.to_pandas()"
   ]
  },
  {
   "cell_type": "code",
   "execution_count": 15,
   "id": "ab5219fc-7d0d-4965-ae92-3f53899d60e4",
   "metadata": {},
   "outputs": [],
   "source": [
    "x1 = list(set(transactions['CUST_ID']))"
   ]
  },
  {
   "cell_type": "code",
   "execution_count": 19,
   "id": "08e91efe-afea-44cd-95f7-f889b87beb11",
   "metadata": {},
   "outputs": [
    {
     "data": {
      "text/html": [
       "<div>\n",
       "<style scoped>\n",
       "    .dataframe tbody tr th:only-of-type {\n",
       "        vertical-align: middle;\n",
       "    }\n",
       "\n",
       "    .dataframe tbody tr th {\n",
       "        vertical-align: top;\n",
       "    }\n",
       "\n",
       "    .dataframe thead th {\n",
       "        text-align: right;\n",
       "    }\n",
       "</style>\n",
       "<table border=\"1\" class=\"dataframe\">\n",
       "  <thead>\n",
       "    <tr style=\"text-align: right;\">\n",
       "      <th></th>\n",
       "      <th>CUST_ID</th>\n",
       "      <th>ACC_IBAN</th>\n",
       "      <th>ACC_BBAN</th>\n",
       "      <th>ACC_OPEN_DT</th>\n",
       "      <th>BALANCE</th>\n",
       "      <th>ACC_STATUS</th>\n",
       "      <th>ACC_TYPE</th>\n",
       "    </tr>\n",
       "  </thead>\n",
       "  <tbody>\n",
       "    <tr>\n",
       "      <th>0</th>\n",
       "      <td>4185</td>\n",
       "      <td>GB90EMIC89482763544524</td>\n",
       "      <td>GDJY66571183273954</td>\n",
       "      <td>2001-03-22</td>\n",
       "      <td>$50.57</td>\n",
       "      <td>Active</td>\n",
       "      <td>Credit</td>\n",
       "    </tr>\n",
       "    <tr>\n",
       "      <th>1</th>\n",
       "      <td>291</td>\n",
       "      <td>GB83VYSJ52094207716710</td>\n",
       "      <td>OVWN34297715684777</td>\n",
       "      <td>2010-08-29</td>\n",
       "      <td>$74,111.13</td>\n",
       "      <td>Closed</td>\n",
       "      <td>Current</td>\n",
       "    </tr>\n",
       "    <tr>\n",
       "      <th>2</th>\n",
       "      <td>7497</td>\n",
       "      <td>GB17OCSO08226852523762</td>\n",
       "      <td>DLFO12501444293678</td>\n",
       "      <td>2000-09-04</td>\n",
       "      <td>$669.14</td>\n",
       "      <td>Active</td>\n",
       "      <td>Loan</td>\n",
       "    </tr>\n",
       "    <tr>\n",
       "      <th>3</th>\n",
       "      <td>7497</td>\n",
       "      <td>GB26RRMJ41734703010562</td>\n",
       "      <td>SZPN32742192244415</td>\n",
       "      <td>2010-09-05</td>\n",
       "      <td>$0.03</td>\n",
       "      <td>Active</td>\n",
       "      <td>Credit</td>\n",
       "    </tr>\n",
       "    <tr>\n",
       "      <th>4</th>\n",
       "      <td>7497</td>\n",
       "      <td>GB13JBDZ14742645466984</td>\n",
       "      <td>DAGC95804976124339</td>\n",
       "      <td>2006-02-14</td>\n",
       "      <td>$0.71</td>\n",
       "      <td>Closed</td>\n",
       "      <td>Credit</td>\n",
       "    </tr>\n",
       "    <tr>\n",
       "      <th>...</th>\n",
       "      <td>...</td>\n",
       "      <td>...</td>\n",
       "      <td>...</td>\n",
       "      <td>...</td>\n",
       "      <td>...</td>\n",
       "      <td>...</td>\n",
       "      <td>...</td>\n",
       "    </tr>\n",
       "    <tr>\n",
       "      <th>3101</th>\n",
       "      <td>2137</td>\n",
       "      <td>GB79MEEM68164816755595</td>\n",
       "      <td>JGQZ63653199537639</td>\n",
       "      <td>2020-07-08</td>\n",
       "      <td>$191.20</td>\n",
       "      <td>Active</td>\n",
       "      <td>Savings</td>\n",
       "    </tr>\n",
       "    <tr>\n",
       "      <th>3102</th>\n",
       "      <td>2137</td>\n",
       "      <td>GB72FWKV94464237567600</td>\n",
       "      <td>LCGK26173403352193</td>\n",
       "      <td>2011-06-05</td>\n",
       "      <td>$54,340.79</td>\n",
       "      <td>Closed</td>\n",
       "      <td>Savings</td>\n",
       "    </tr>\n",
       "    <tr>\n",
       "      <th>3103</th>\n",
       "      <td>3899</td>\n",
       "      <td>GB97XFCA41641435894700</td>\n",
       "      <td>IQWX43085486211593</td>\n",
       "      <td>2006-01-08</td>\n",
       "      <td>$906.56</td>\n",
       "      <td>Active</td>\n",
       "      <td>Loan</td>\n",
       "    </tr>\n",
       "    <tr>\n",
       "      <th>3104</th>\n",
       "      <td>3899</td>\n",
       "      <td>GB72HHTA49364267690196</td>\n",
       "      <td>PFVP16819625415314</td>\n",
       "      <td>2014-10-14</td>\n",
       "      <td>$17.61</td>\n",
       "      <td>Closed</td>\n",
       "      <td>Loan</td>\n",
       "    </tr>\n",
       "    <tr>\n",
       "      <th>3105</th>\n",
       "      <td>3899</td>\n",
       "      <td>GB62SCTO34024769359008</td>\n",
       "      <td>ADMB58970770088995</td>\n",
       "      <td>2009-06-10</td>\n",
       "      <td>$8.71</td>\n",
       "      <td>Active</td>\n",
       "      <td>Savings</td>\n",
       "    </tr>\n",
       "  </tbody>\n",
       "</table>\n",
       "<p>3106 rows × 7 columns</p>\n",
       "</div>"
      ],
      "text/plain": [
       "      CUST_ID                ACC_IBAN            ACC_BBAN ACC_OPEN_DT  \\\n",
       "0        4185  GB90EMIC89482763544524  GDJY66571183273954  2001-03-22   \n",
       "1         291  GB83VYSJ52094207716710  OVWN34297715684777  2010-08-29   \n",
       "2        7497  GB17OCSO08226852523762  DLFO12501444293678  2000-09-04   \n",
       "3        7497  GB26RRMJ41734703010562  SZPN32742192244415  2010-09-05   \n",
       "4        7497  GB13JBDZ14742645466984  DAGC95804976124339  2006-02-14   \n",
       "...       ...                     ...                 ...         ...   \n",
       "3101     2137  GB79MEEM68164816755595  JGQZ63653199537639  2020-07-08   \n",
       "3102     2137  GB72FWKV94464237567600  LCGK26173403352193  2011-06-05   \n",
       "3103     3899  GB97XFCA41641435894700  IQWX43085486211593  2006-01-08   \n",
       "3104     3899  GB72HHTA49364267690196  PFVP16819625415314  2014-10-14   \n",
       "3105     3899  GB62SCTO34024769359008  ADMB58970770088995  2009-06-10   \n",
       "\n",
       "         BALANCE ACC_STATUS ACC_TYPE  \n",
       "0         $50.57     Active   Credit  \n",
       "1     $74,111.13     Closed  Current  \n",
       "2        $669.14     Active     Loan  \n",
       "3          $0.03     Active   Credit  \n",
       "4          $0.71     Closed   Credit  \n",
       "...          ...        ...      ...  \n",
       "3101     $191.20     Active  Savings  \n",
       "3102  $54,340.79     Closed  Savings  \n",
       "3103     $906.56     Active     Loan  \n",
       "3104      $17.61     Closed     Loan  \n",
       "3105       $8.71     Active  Savings  \n",
       "\n",
       "[3106 rows x 7 columns]"
      ]
     },
     "execution_count": 19,
     "metadata": {},
     "output_type": "execute_result"
    }
   ],
   "source": [
    "account"
   ]
  },
  {
   "cell_type": "code",
   "execution_count": 22,
   "id": "d8b8e507-e756-4324-8170-14f92e77eea2",
   "metadata": {},
   "outputs": [],
   "source": [
    "#bank_name = list(set(account['BANK_NAME'])) --> Unable to find Bank_Name in account table.\n",
    "bank_name = ['UBS',\n",
    "'Bank of America',\n",
    "'Discover Financial',\n",
    "'Credit Suisse',\n",
    "'Santander Bank',\n",
    "'American Express',\n",
    "'HSBC Bank USA',\n",
    "'JPMorgan Chase',\n",
    "'BankUnited',\n",
    "'Citigroup',\n",
    "'Barclays',\n",
    "'RBC Bank',\n",
    "'Citizens Financial Group',\n",
    "'Capital One',\n",
    "'Goldman Sachs',\n",
    "'Wells Fargo',\n",
    "'Morgan Stanley']"
   ]
  },
  {
   "cell_type": "markdown",
   "id": "b22f2670-d774-4fec-9c58-d1511e9d0ee4",
   "metadata": {},
   "source": [
    "# Reversing a list using slicing technique"
   ]
  },
  {
   "cell_type": "code",
   "execution_count": 21,
   "id": "c2caa413-29a2-4d0d-af64-bba3be00f210",
   "metadata": {},
   "outputs": [],
   "source": [
    "def Reverse(lst):\n",
    "    new_lst = lst[::-1]\n",
    "    return new_lst"
   ]
  },
  {
   "cell_type": "markdown",
   "id": "2e39e9c7-90fd-49bb-8562-cd0382f9907c",
   "metadata": {},
   "source": [
    "# Initiate the DataFrames "
   ]
  },
  {
   "cell_type": "code",
   "execution_count": 23,
   "id": "098acf84-ef28-4351-9197-f1dfe9dbdf9d",
   "metadata": {},
   "outputs": [],
   "source": [
    "EOD_Acc_Level = pd.DataFrame(columns = ['CUST_ID', 'ACC_IBAN', 'ACC_BBAN', 'DT', 'EOD_BALANCE', \n",
    "                                  'EOD_TOTAL_CR', 'EOD_TOTAL_DR', 'EOD_TOTAL_INCOME', \n",
    "                                  'EOD_TOTAL_EXPENSE'])"
   ]
  },
  {
   "cell_type": "code",
   "execution_count": 24,
   "id": "bec943cb-82fe-40c4-8768-72a5d76e4e7b",
   "metadata": {},
   "outputs": [],
   "source": [
    "EOD_Cust_Level = pd.DataFrame(columns = ['CUST_ID', 'DT', 'EOD_BALANCE', 'EOD_TOTAL_CR', 'EOD_TOTAL_DR', \n",
    "                                  'EOD_TOTAL_INCOME', 'EOD_TOTAL_BALANCE'])"
   ]
  },
  {
   "cell_type": "code",
   "execution_count": 25,
   "id": "5d1b2119-6622-495a-a2bd-77a722d21050",
   "metadata": {},
   "outputs": [],
   "source": [
    "EOW_Acc_Level = pd.DataFrame(columns = ['CUST_ID', 'ACC_IBAN', 'ACC_BBAN', 'WK_NUM-YR', 'WK_START_DT', 'Wk_END_DT', 'EOW_BALANCE', 'EOW_TOTAL_DR', \n",
    "                                        'EOW_TOTAL_CR','EOW_TOTAL_INCOME', 'EOW_TOTAL_EXPENSE', 'SLOPE_BALANCE',\n",
    "                              'SLOPE_TOTAL_CR', 'SLOPE_TOTAL_DR', 'SLOPE_TOTAL_INCOME','SLOPE_TOTAL_EXPENSE'])"
   ]
  },
  {
   "cell_type": "code",
   "execution_count": 26,
   "id": "77b62690-5686-49a1-a184-5eadca263151",
   "metadata": {},
   "outputs": [],
   "source": [
    "EOW_Cust_Level = pd.DataFrame(columns = ['CUST_ID', 'WK_NUM-YR', 'WK_START_DT', 'Wk_END_DT', 'EOW_BALANCE',\n",
    "       'EOW_TOTAL_CR', 'EOW_TOTAL_DR', 'EOW_TOTAL_INCOME', 'EOW_TOTAL_EXPENSE','SLOPE_BALANCE', \n",
    "       'SLOPE_TOTAL_CR', 'SLOPE_TOTAL_DR', 'SLOPE_TOTAL_INCOME','SLOPE_TOTAL_EXPENSE'])"
   ]
  },
  {
   "cell_type": "code",
   "execution_count": 27,
   "id": "914af00b-1f7e-4b79-82bb-e883967a4931",
   "metadata": {},
   "outputs": [],
   "source": [
    "EOM_Acc_Level = pd.DataFrame(columns = ['CUST_ID', 'ACC_IBAN', 'ACC_BBAN', 'MTH_NUM-YR', 'EOM_BALANCE',\n",
    "       'EOM_TOTAL_DR', 'EOM_TOTAL_CR', 'EOM_TOTAL_INCOME', 'EOM_TOTAL_EXPENSE', 'SLOPE_BALANCE', \n",
    "       'SLOPE_TOTAL_CR', 'SLOPE_TOTAL_DR',  'SLOPE_TOTAL_INCOME','SLOPE_TOTAL_EXPENSE'])"
   ]
  },
  {
   "cell_type": "code",
   "execution_count": 28,
   "id": "42da0026-2289-4978-85bf-68887da6e52a",
   "metadata": {},
   "outputs": [],
   "source": [
    "EOM_Cust_Level = pd.DataFrame(columns = ['CUST_ID', 'MTH_NUM-YR', 'EOM_BALANCE', 'EOM_TOTAL_CR', \n",
    "       'EOM_TOTAL_DR', 'EOM_TOTAL_INCOME', 'EOM_TOTAL_EXPENSE', 'SLOPE_BALANCE',\n",
    "       'SLOPE_TOTAL_CR', 'SLOPE_TOTAL_DR',  'SLOPE_TOTAL_INCOME','SLOPE_TOTAL_EXPENSE'])"
   ]
  },
  {
   "cell_type": "code",
   "execution_count": 29,
   "id": "a6e7c6ea-716a-4354-9bf2-dab9290c2d2b",
   "metadata": {},
   "outputs": [],
   "source": [
    "Cust_Dashboard = pd.DataFrame(columns = ['CUST_ID', 'BALANCE', 'AVG_BALANCE', 'AVG_INCOME', 'AVG_EXPENSE', 'BANK_NAME'])   "
   ]
  },
  {
   "cell_type": "markdown",
   "id": "85816d60-c78a-4ac2-a710-a604ca1cf807",
   "metadata": {},
   "source": [
    "# Aggregation logic for Daily, Weekly and Monthly "
   ]
  },
  {
   "cell_type": "code",
   "execution_count": 105,
   "id": "8e3396be-a80c-4f8b-831a-cf15179e783b",
   "metadata": {},
   "outputs": [
    {
     "ename": "ValueError",
     "evalue": "Length of values (0) does not match length of index (1962)",
     "output_type": "error",
     "traceback": [
      "\u001b[0;31m---------------------------------------------------------------------------\u001b[0m",
      "\u001b[0;31mValueError\u001b[0m                                Traceback (most recent call last)",
      "Cell \u001b[0;32mIn[105], line 37\u001b[0m\n\u001b[1;32m     35\u001b[0m \u001b[38;5;28;01mfor\u001b[39;00m idx \u001b[38;5;129;01min\u001b[39;00m \u001b[38;5;28mrange\u001b[39m(\u001b[38;5;28mlen\u001b[39m(gt0_idx)\u001b[38;5;241m-\u001b[39m\u001b[38;5;241m1\u001b[39m):\n\u001b[1;32m     36\u001b[0m     eod_balance \u001b[38;5;241m=\u001b[39m eod_balance\u001b[38;5;241m+\u001b[39m[gt0_values[gt0_idx[idx]]]\u001b[38;5;241m*\u001b[39m(gt0_idx[idx\u001b[38;5;241m+\u001b[39m\u001b[38;5;241m1\u001b[39m]\u001b[38;5;241m-\u001b[39mgt0_idx[idx])\n\u001b[0;32m---> 37\u001b[0m \u001b[43mdelta_Acc_Daily\u001b[49m\u001b[43m[\u001b[49m\u001b[38;5;124;43m'\u001b[39;49m\u001b[38;5;124;43mEOD_BALANCE\u001b[39;49m\u001b[38;5;124;43m'\u001b[39;49m\u001b[43m]\u001b[49m \u001b[38;5;241m=\u001b[39m eod_balance\n",
      "File \u001b[0;32m/opt/conda/lib/python3.9/site-packages/pandas/core/frame.py:4299\u001b[0m, in \u001b[0;36mDataFrame.__setitem__\u001b[0;34m(self, key, value)\u001b[0m\n\u001b[1;32m   4296\u001b[0m     \u001b[38;5;28mself\u001b[39m\u001b[38;5;241m.\u001b[39m_setitem_array([key], value)\n\u001b[1;32m   4297\u001b[0m \u001b[38;5;28;01melse\u001b[39;00m:\n\u001b[1;32m   4298\u001b[0m     \u001b[38;5;66;03m# set column\u001b[39;00m\n\u001b[0;32m-> 4299\u001b[0m     \u001b[38;5;28;43mself\u001b[39;49m\u001b[38;5;241;43m.\u001b[39;49m\u001b[43m_set_item\u001b[49m\u001b[43m(\u001b[49m\u001b[43mkey\u001b[49m\u001b[43m,\u001b[49m\u001b[43m \u001b[49m\u001b[43mvalue\u001b[49m\u001b[43m)\u001b[49m\n",
      "File \u001b[0;32m/opt/conda/lib/python3.9/site-packages/pandas/core/frame.py:4512\u001b[0m, in \u001b[0;36mDataFrame._set_item\u001b[0;34m(self, key, value)\u001b[0m\n\u001b[1;32m   4502\u001b[0m \u001b[38;5;28;01mdef\u001b[39;00m \u001b[38;5;21m_set_item\u001b[39m(\u001b[38;5;28mself\u001b[39m, key, value) \u001b[38;5;241m-\u001b[39m\u001b[38;5;241m>\u001b[39m \u001b[38;5;28;01mNone\u001b[39;00m:\n\u001b[1;32m   4503\u001b[0m \u001b[38;5;250m    \u001b[39m\u001b[38;5;124;03m\"\"\"\u001b[39;00m\n\u001b[1;32m   4504\u001b[0m \u001b[38;5;124;03m    Add series to DataFrame in specified column.\u001b[39;00m\n\u001b[1;32m   4505\u001b[0m \n\u001b[0;32m   (...)\u001b[0m\n\u001b[1;32m   4510\u001b[0m \u001b[38;5;124;03m    ensure homogeneity.\u001b[39;00m\n\u001b[1;32m   4511\u001b[0m \u001b[38;5;124;03m    \"\"\"\u001b[39;00m\n\u001b[0;32m-> 4512\u001b[0m     value, refs \u001b[38;5;241m=\u001b[39m \u001b[38;5;28;43mself\u001b[39;49m\u001b[38;5;241;43m.\u001b[39;49m\u001b[43m_sanitize_column\u001b[49m\u001b[43m(\u001b[49m\u001b[43mvalue\u001b[49m\u001b[43m)\u001b[49m\n\u001b[1;32m   4514\u001b[0m     \u001b[38;5;28;01mif\u001b[39;00m (\n\u001b[1;32m   4515\u001b[0m         key \u001b[38;5;129;01min\u001b[39;00m \u001b[38;5;28mself\u001b[39m\u001b[38;5;241m.\u001b[39mcolumns\n\u001b[1;32m   4516\u001b[0m         \u001b[38;5;129;01mand\u001b[39;00m value\u001b[38;5;241m.\u001b[39mndim \u001b[38;5;241m==\u001b[39m \u001b[38;5;241m1\u001b[39m\n\u001b[1;32m   4517\u001b[0m         \u001b[38;5;129;01mand\u001b[39;00m \u001b[38;5;129;01mnot\u001b[39;00m \u001b[38;5;28misinstance\u001b[39m(value\u001b[38;5;241m.\u001b[39mdtype, ExtensionDtype)\n\u001b[1;32m   4518\u001b[0m     ):\n\u001b[1;32m   4519\u001b[0m         \u001b[38;5;66;03m# broadcast across multiple columns if necessary\u001b[39;00m\n\u001b[1;32m   4520\u001b[0m         \u001b[38;5;28;01mif\u001b[39;00m \u001b[38;5;129;01mnot\u001b[39;00m \u001b[38;5;28mself\u001b[39m\u001b[38;5;241m.\u001b[39mcolumns\u001b[38;5;241m.\u001b[39mis_unique \u001b[38;5;129;01mor\u001b[39;00m \u001b[38;5;28misinstance\u001b[39m(\u001b[38;5;28mself\u001b[39m\u001b[38;5;241m.\u001b[39mcolumns, MultiIndex):\n",
      "File \u001b[0;32m/opt/conda/lib/python3.9/site-packages/pandas/core/frame.py:5253\u001b[0m, in \u001b[0;36mDataFrame._sanitize_column\u001b[0;34m(self, value)\u001b[0m\n\u001b[1;32m   5250\u001b[0m     \u001b[38;5;28;01mreturn\u001b[39;00m _reindex_for_setitem(value, \u001b[38;5;28mself\u001b[39m\u001b[38;5;241m.\u001b[39mindex)\n\u001b[1;32m   5252\u001b[0m \u001b[38;5;28;01mif\u001b[39;00m is_list_like(value):\n\u001b[0;32m-> 5253\u001b[0m     \u001b[43mcom\u001b[49m\u001b[38;5;241;43m.\u001b[39;49m\u001b[43mrequire_length_match\u001b[49m\u001b[43m(\u001b[49m\u001b[43mvalue\u001b[49m\u001b[43m,\u001b[49m\u001b[43m \u001b[49m\u001b[38;5;28;43mself\u001b[39;49m\u001b[38;5;241;43m.\u001b[39;49m\u001b[43mindex\u001b[49m\u001b[43m)\u001b[49m\n\u001b[1;32m   5254\u001b[0m arr \u001b[38;5;241m=\u001b[39m sanitize_array(value, \u001b[38;5;28mself\u001b[39m\u001b[38;5;241m.\u001b[39mindex, copy\u001b[38;5;241m=\u001b[39m\u001b[38;5;28;01mTrue\u001b[39;00m, allow_2d\u001b[38;5;241m=\u001b[39m\u001b[38;5;28;01mTrue\u001b[39;00m)\n\u001b[1;32m   5255\u001b[0m \u001b[38;5;28;01mif\u001b[39;00m (\n\u001b[1;32m   5256\u001b[0m     \u001b[38;5;28misinstance\u001b[39m(value, Index)\n\u001b[1;32m   5257\u001b[0m     \u001b[38;5;129;01mand\u001b[39;00m value\u001b[38;5;241m.\u001b[39mdtype \u001b[38;5;241m==\u001b[39m \u001b[38;5;124m\"\u001b[39m\u001b[38;5;124mobject\u001b[39m\u001b[38;5;124m\"\u001b[39m\n\u001b[0;32m   (...)\u001b[0m\n\u001b[1;32m   5260\u001b[0m     \u001b[38;5;66;03m# TODO: Remove kludge in sanitize_array for string mode when enforcing\u001b[39;00m\n\u001b[1;32m   5261\u001b[0m     \u001b[38;5;66;03m# this deprecation\u001b[39;00m\n",
      "File \u001b[0;32m/opt/conda/lib/python3.9/site-packages/pandas/core/common.py:571\u001b[0m, in \u001b[0;36mrequire_length_match\u001b[0;34m(data, index)\u001b[0m\n\u001b[1;32m    567\u001b[0m \u001b[38;5;250m\u001b[39m\u001b[38;5;124;03m\"\"\"\u001b[39;00m\n\u001b[1;32m    568\u001b[0m \u001b[38;5;124;03mCheck the length of data matches the length of the index.\u001b[39;00m\n\u001b[1;32m    569\u001b[0m \u001b[38;5;124;03m\"\"\"\u001b[39;00m\n\u001b[1;32m    570\u001b[0m \u001b[38;5;28;01mif\u001b[39;00m \u001b[38;5;28mlen\u001b[39m(data) \u001b[38;5;241m!=\u001b[39m \u001b[38;5;28mlen\u001b[39m(index):\n\u001b[0;32m--> 571\u001b[0m     \u001b[38;5;28;01mraise\u001b[39;00m \u001b[38;5;167;01mValueError\u001b[39;00m(\n\u001b[1;32m    572\u001b[0m         \u001b[38;5;124m\"\u001b[39m\u001b[38;5;124mLength of values \u001b[39m\u001b[38;5;124m\"\u001b[39m\n\u001b[1;32m    573\u001b[0m         \u001b[38;5;124mf\u001b[39m\u001b[38;5;124m\"\u001b[39m\u001b[38;5;124m(\u001b[39m\u001b[38;5;132;01m{\u001b[39;00m\u001b[38;5;28mlen\u001b[39m(data)\u001b[38;5;132;01m}\u001b[39;00m\u001b[38;5;124m) \u001b[39m\u001b[38;5;124m\"\u001b[39m\n\u001b[1;32m    574\u001b[0m         \u001b[38;5;124m\"\u001b[39m\u001b[38;5;124mdoes not match length of index \u001b[39m\u001b[38;5;124m\"\u001b[39m\n\u001b[1;32m    575\u001b[0m         \u001b[38;5;124mf\u001b[39m\u001b[38;5;124m\"\u001b[39m\u001b[38;5;124m(\u001b[39m\u001b[38;5;132;01m{\u001b[39;00m\u001b[38;5;28mlen\u001b[39m(index)\u001b[38;5;132;01m}\u001b[39;00m\u001b[38;5;124m)\u001b[39m\u001b[38;5;124m\"\u001b[39m\n\u001b[1;32m    576\u001b[0m     )\n",
      "\u001b[0;31mValueError\u001b[0m: Length of values (0) does not match length of index (1962)"
     ]
    }
   ],
   "source": [
    "for i in x1: ### This is coming from account table\n",
    "    ibans = list(set(transactions[transactions['CUST_ID']==i]['ACC_IBAN']))\n",
    "    for j in ibans:  ### for a given customer pickup one IBAN at a time\n",
    "        txn_temp = transactions.loc[(transactions['CUST_ID']==i) & (transactions['ACC_IBAN']==j), ['ACC_BBAN', 'ACC_IBAN','BALANCE', 'TXN_DT', 'DR_CR', 'TXN_AMOUNT', 'TXN_CODE']]    ### This is at account level\n",
    "        txn_Dr = txn_temp.loc[(txn_temp['DR_CR']=='Dr')]    ### This is at account level\n",
    "        txn_Cr = txn_temp.loc[(txn_temp['DR_CR']=='Cr')]    ### This is at account level\n",
    "        ##txn_temp['txn_Dt'] = txn_temp['txn_Dt'].astype(str)\n",
    "\n",
    "        #### Process as per balance column for EOD Balance ##############\n",
    "        Dts = txn_temp['TXN_DT'].drop_duplicates() \n",
    "        Dts_1 = pd.to_datetime(txn_temp['TXN_DT'].drop_duplicates(), format='%m/%d/%Y')\n",
    "        \n",
    "        sdate = datetime.strptime(str(min(Dts_1))[:10], '%Y-%m-%d')\n",
    "        edate = datetime.strptime(str(max(Dts_1))[:10], '%Y-%m-%d')        \n",
    "        \n",
    "        dt_range = pd.date_range(sdate,edate-timedelta(days=1),freq='d')\n",
    "        hn = len(dt_range)\n",
    "        eod_balance = []\n",
    "\n",
    "        for di in Dts:\n",
    "            eod_balance = eod_balance + [txn_temp.loc[txn_temp['TXN_DT']==di, ['TXN_DT', 'BALANCE']].iloc[-1, 1]]\n",
    "        temp_Acc_Daily = pd.DataFrame({'DT': list(Dts), 'EOD_BALANCE': eod_balance})\n",
    "        temp_Acc_Daily.reset_index(inplace=True) \n",
    "        temp_Acc_Daily['DT']=temp_Acc_Daily['DT'].astype('str')\n",
    "        delta_Acc_Daily = pd.DataFrame({'CUST_ID': [i]*hn, 'ACC_IBAN': [j]*hn, 'ACC_BBAN':[txn_temp.iloc[0,0]]*hn, \n",
    "                                        'DT': dt_range})\n",
    "        delta_Acc_Daily['DT']=delta_Acc_Daily['DT'].astype('str')\n",
    "        delta_Acc_Daily = pd.merge(delta_Acc_Daily, temp_Acc_Daily, on='DT', how='left')\n",
    "        \n",
    "        ## delta_Acc_Daily.to_csv('delta_Acc_Daily.csv', index=False)\n",
    "        delta_Acc_Daily.drop('index', axis=1, inplace=True)\n",
    "        gt0_values = delta_Acc_Daily.loc[delta_Acc_Daily['EOD_BALANCE']>0, 'EOD_BALANCE']\n",
    "        gt0_idx = list(gt0_values.index) + [len(delta_Acc_Daily)]\n",
    "        eod_balance=[]\n",
    "        for idx in range(len(gt0_idx)-1):\n",
    "            eod_balance = eod_balance+[gt0_values[gt0_idx[idx]]]*(gt0_idx[idx+1]-gt0_idx[idx])\n",
    "        delta_Acc_Daily['EOD_BALANCE'] = eod_balance\n",
    "\n"
   ]
  },
  {
   "cell_type": "code",
   "execution_count": 106,
   "id": "9fbc9b66-9233-4d0d-a381-684049dc44e6",
   "metadata": {
    "scrolled": true
   },
   "outputs": [
    {
     "data": {
      "text/plain": [
       "DatetimeIndex(['2016-05-30', '2016-05-31', '2016-06-01', '2016-06-02',\n",
       "               '2016-06-03', '2016-06-04', '2016-06-05', '2016-06-06',\n",
       "               '2016-06-07', '2016-06-08',\n",
       "               ...\n",
       "               '2021-10-03', '2021-10-04', '2021-10-05', '2021-10-06',\n",
       "               '2021-10-07', '2021-10-08', '2021-10-09', '2021-10-10',\n",
       "               '2021-10-11', '2021-10-12'],\n",
       "              dtype='datetime64[ns]', length=1962, freq='D')"
      ]
     },
     "execution_count": 106,
     "metadata": {},
     "output_type": "execute_result"
    }
   ],
   "source": [
    "dt_range"
   ]
  },
  {
   "cell_type": "code",
   "execution_count": 107,
   "id": "ed6285d0-8601-4af6-9d38-0b73c07e394c",
   "metadata": {},
   "outputs": [
    {
     "data": {
      "text/plain": [
       "1214     1/1/2021\n",
       "696     1/10/2018\n",
       "698     1/11/2018\n",
       "1215    1/11/2021\n",
       "853     1/16/2019\n",
       "          ...    \n",
       "1156     9/7/2020\n",
       "628      9/8/2017\n",
       "467      9/9/2016\n",
       "631      9/9/2017\n",
       "963      9/9/2019\n",
       "Name: TXN_DT, Length: 327, dtype: object"
      ]
     },
     "execution_count": 107,
     "metadata": {},
     "output_type": "execute_result"
    }
   ],
   "source": [
    "Dts"
   ]
  }
 ],
 "metadata": {
  "kernelspec": {
   "display_name": "Python 3 (ipykernel)",
   "language": "python",
   "name": "python3"
  },
  "language_info": {
   "codemirror_mode": {
    "name": "ipython",
    "version": 3
   },
   "file_extension": ".py",
   "mimetype": "text/x-python",
   "name": "python",
   "nbconvert_exporter": "python",
   "pygments_lexer": "ipython3",
   "version": "3.9.19"
  }
 },
 "nbformat": 4,
 "nbformat_minor": 5
}
