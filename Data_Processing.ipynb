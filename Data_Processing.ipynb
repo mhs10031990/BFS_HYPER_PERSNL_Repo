{
 "cells": [
  {
   "cell_type": "markdown",
   "id": "eb02e1f9-3f94-4bd3-83b8-450ae8f6a97c",
   "metadata": {},
   "source": [
    "# Use HYPER_PERSNL_Template Customized Notebook Template"
   ]
  },
  {
   "cell_type": "code",
   "execution_count": 5,
   "id": "110ab7e7-fd1a-4d75-a870-37a09c8cbcf4",
   "metadata": {},
   "outputs": [],
   "source": [
    "import pandas as pd\n",
    "from datetime import datetime\n",
    "from datetime import timedelta\n",
    "infer_datetime_format=True\n",
    "\n",
    "import numpy as np\n",
    "import random\n",
    "\n",
    "import matplotlib.pyplot as plt\n",
    "plt.rcParams.update({'figure.figsize':(9,7), 'figure.dpi':120})\n",
    "\n",
    "random.seed(0)\n",
    "\n",
    "now1 = datetime.now()"
   ]
  },
  {
   "cell_type": "code",
   "execution_count": 6,
   "id": "9a6fc60c-070f-4023-95ce-2df4269fdcd4",
   "metadata": {},
   "outputs": [],
   "source": [
    "from fosforml.model_manager.snowflakesession import get_session\n",
    "my_session = get_session()"
   ]
  },
  {
   "cell_type": "code",
   "execution_count": 7,
   "id": "ee8d81f6-1842-496b-8975-42cd31745073",
   "metadata": {},
   "outputs": [],
   "source": [
    "table_name = 'CUSTOMER_ACCOUNT_DETAILS'\n",
    "\n",
    "sf_df = my_session.sql(\"select * from {}\".format(table_name))\n",
    "account = sf_df.to_pandas()"
   ]
  },
  {
   "cell_type": "code",
   "execution_count": 8,
   "id": "abf442fb-8aec-4183-811e-712c568d0867",
   "metadata": {},
   "outputs": [],
   "source": [
    "table_name = 'CUSTOMER_TRANSACTION_DETAILS'\n",
    "\n",
    "sf_df = my_session.sql(\"select * from {}\".format(table_name))\n",
    "transactions = sf_df.to_pandas()"
   ]
  },
  {
   "cell_type": "code",
   "execution_count": 9,
   "id": "ebcd4dc5-81d8-44e4-87d2-5ef7b5258ee0",
   "metadata": {
    "scrolled": true
   },
   "outputs": [
    {
     "data": {
      "text/plain": [
       "Index(['ACC_BBAN', 'ACC_IBAN', 'ACC_OPEN_DT', 'BALANCE', 'CUST_ID', 'EXPENSE',\n",
       "       'EXPENSE_CATEGORY', 'BROWSER', 'DEVICE', 'DR_CR', 'LOGIN_TIME',\n",
       "       'LOGOUT_TIME', 'TXN_DT', 'TXN_ID', 'TXN_AMOUNT', 'TXN_CODE',\n",
       "       'TXN_REMARKS', 'TXN_TIME', 'TXN_TYPE'],\n",
       "      dtype='object')"
      ]
     },
     "execution_count": 9,
     "metadata": {},
     "output_type": "execute_result"
    }
   ],
   "source": [
    "transactions.columns"
   ]
  },
  {
   "cell_type": "code",
   "execution_count": 10,
   "id": "3f86cfa4-eace-4b3b-9bd7-99a1696f28fc",
   "metadata": {},
   "outputs": [],
   "source": [
    "transactions.sort_values(by=['CUST_ID', 'ACC_BBAN', 'TXN_DT', 'TXN_TIME'], inplace=True) "
   ]
  },
  {
   "cell_type": "code",
   "execution_count": 11,
   "id": "eca3a691-3b58-4c27-93c3-558fd4dce81c",
   "metadata": {},
   "outputs": [],
   "source": [
    "table_name = 'CUSTOMER_FINANCE_BREAKDOWN'\n",
    "\n",
    "sf_df = my_session.sql(\"select * from {}\".format(table_name))\n",
    "financials = sf_df.to_pandas()"
   ]
  },
  {
   "cell_type": "code",
   "execution_count": 12,
   "id": "b3278d13-69bd-43f1-9c52-9d85f2337417",
   "metadata": {},
   "outputs": [],
   "source": [
    "table_name = 'CUSTOMER_SUBSCRIPTION_DETAILS'\n",
    "\n",
    "sf_df = my_session.sql(\"select * from {}\".format(table_name))\n",
    "subscriptions = sf_df.to_pandas()\n",
    "subscriptions_orig = subscriptions.copy(deep=True)"
   ]
  },
  {
   "cell_type": "code",
   "execution_count": 13,
   "id": "53254bd9-dbf2-49db-b0cc-6cb0e18d30ec",
   "metadata": {},
   "outputs": [],
   "source": [
    "table_name = 'CUSTOMER_TERM_DEPOSIT_DETAILS'\n",
    "\n",
    "sf_df = my_session.sql(\"select * from {}\".format(table_name))\n",
    "term_deposit = sf_df.to_pandas()"
   ]
  },
  {
   "cell_type": "code",
   "execution_count": 14,
   "id": "5983e53d-9929-4ca5-9148-d6228d83c0b8",
   "metadata": {},
   "outputs": [],
   "source": [
    "table_name = 'CUSTOMER_LOAN_DETAILS'\n",
    "\n",
    "sf_df = my_session.sql(\"select * from {}\".format(table_name))\n",
    "loan = sf_df.to_pandas()"
   ]
  },
  {
   "cell_type": "code",
   "execution_count": 15,
   "id": "549b5927-7f78-42cd-84c1-1a1970da78f1",
   "metadata": {},
   "outputs": [],
   "source": [
    "table_name = 'CUSTOMER_CREDITCARD_DETAILS'\n",
    "\n",
    "sf_df = my_session.sql(\"select * from {}\".format(table_name))\n",
    "credit_card = sf_df.to_pandas()"
   ]
  },
  {
   "cell_type": "code",
   "execution_count": 16,
   "id": "ab5219fc-7d0d-4965-ae92-3f53899d60e4",
   "metadata": {},
   "outputs": [],
   "source": [
    "x1 = list(set(transactions['CUST_ID']))"
   ]
  },
  {
   "cell_type": "code",
   "execution_count": 17,
   "id": "08e91efe-afea-44cd-95f7-f889b87beb11",
   "metadata": {},
   "outputs": [
    {
     "data": {
      "text/html": [
       "<div>\n",
       "<style scoped>\n",
       "    .dataframe tbody tr th:only-of-type {\n",
       "        vertical-align: middle;\n",
       "    }\n",
       "\n",
       "    .dataframe tbody tr th {\n",
       "        vertical-align: top;\n",
       "    }\n",
       "\n",
       "    .dataframe thead th {\n",
       "        text-align: right;\n",
       "    }\n",
       "</style>\n",
       "<table border=\"1\" class=\"dataframe\">\n",
       "  <thead>\n",
       "    <tr style=\"text-align: right;\">\n",
       "      <th></th>\n",
       "      <th>CUST_ID</th>\n",
       "      <th>ACC_IBAN</th>\n",
       "      <th>ACC_BBAN</th>\n",
       "      <th>ACC_OPEN_DT</th>\n",
       "      <th>BALANCE</th>\n",
       "      <th>ACC_STATUS</th>\n",
       "      <th>ACC_TYPE</th>\n",
       "    </tr>\n",
       "  </thead>\n",
       "  <tbody>\n",
       "    <tr>\n",
       "      <th>0</th>\n",
       "      <td>4185</td>\n",
       "      <td>GB90EMIC89482763544524</td>\n",
       "      <td>GDJY66571183273954</td>\n",
       "      <td>2001-03-22</td>\n",
       "      <td>$50.57</td>\n",
       "      <td>Active</td>\n",
       "      <td>Credit</td>\n",
       "    </tr>\n",
       "    <tr>\n",
       "      <th>1</th>\n",
       "      <td>291</td>\n",
       "      <td>GB83VYSJ52094207716710</td>\n",
       "      <td>OVWN34297715684777</td>\n",
       "      <td>2010-08-29</td>\n",
       "      <td>$74,111.13</td>\n",
       "      <td>Closed</td>\n",
       "      <td>Current</td>\n",
       "    </tr>\n",
       "    <tr>\n",
       "      <th>2</th>\n",
       "      <td>7497</td>\n",
       "      <td>GB17OCSO08226852523762</td>\n",
       "      <td>DLFO12501444293678</td>\n",
       "      <td>2000-09-04</td>\n",
       "      <td>$669.14</td>\n",
       "      <td>Active</td>\n",
       "      <td>Loan</td>\n",
       "    </tr>\n",
       "    <tr>\n",
       "      <th>3</th>\n",
       "      <td>7497</td>\n",
       "      <td>GB26RRMJ41734703010562</td>\n",
       "      <td>SZPN32742192244415</td>\n",
       "      <td>2010-09-05</td>\n",
       "      <td>$0.03</td>\n",
       "      <td>Active</td>\n",
       "      <td>Credit</td>\n",
       "    </tr>\n",
       "    <tr>\n",
       "      <th>4</th>\n",
       "      <td>7497</td>\n",
       "      <td>GB13JBDZ14742645466984</td>\n",
       "      <td>DAGC95804976124339</td>\n",
       "      <td>2006-02-14</td>\n",
       "      <td>$0.71</td>\n",
       "      <td>Closed</td>\n",
       "      <td>Credit</td>\n",
       "    </tr>\n",
       "    <tr>\n",
       "      <th>...</th>\n",
       "      <td>...</td>\n",
       "      <td>...</td>\n",
       "      <td>...</td>\n",
       "      <td>...</td>\n",
       "      <td>...</td>\n",
       "      <td>...</td>\n",
       "      <td>...</td>\n",
       "    </tr>\n",
       "    <tr>\n",
       "      <th>3101</th>\n",
       "      <td>2137</td>\n",
       "      <td>GB79MEEM68164816755595</td>\n",
       "      <td>JGQZ63653199537639</td>\n",
       "      <td>2020-07-08</td>\n",
       "      <td>$191.20</td>\n",
       "      <td>Active</td>\n",
       "      <td>Savings</td>\n",
       "    </tr>\n",
       "    <tr>\n",
       "      <th>3102</th>\n",
       "      <td>2137</td>\n",
       "      <td>GB72FWKV94464237567600</td>\n",
       "      <td>LCGK26173403352193</td>\n",
       "      <td>2011-06-05</td>\n",
       "      <td>$54,340.79</td>\n",
       "      <td>Closed</td>\n",
       "      <td>Savings</td>\n",
       "    </tr>\n",
       "    <tr>\n",
       "      <th>3103</th>\n",
       "      <td>3899</td>\n",
       "      <td>GB97XFCA41641435894700</td>\n",
       "      <td>IQWX43085486211593</td>\n",
       "      <td>2006-01-08</td>\n",
       "      <td>$906.56</td>\n",
       "      <td>Active</td>\n",
       "      <td>Loan</td>\n",
       "    </tr>\n",
       "    <tr>\n",
       "      <th>3104</th>\n",
       "      <td>3899</td>\n",
       "      <td>GB72HHTA49364267690196</td>\n",
       "      <td>PFVP16819625415314</td>\n",
       "      <td>2014-10-14</td>\n",
       "      <td>$17.61</td>\n",
       "      <td>Closed</td>\n",
       "      <td>Loan</td>\n",
       "    </tr>\n",
       "    <tr>\n",
       "      <th>3105</th>\n",
       "      <td>3899</td>\n",
       "      <td>GB62SCTO34024769359008</td>\n",
       "      <td>ADMB58970770088995</td>\n",
       "      <td>2009-06-10</td>\n",
       "      <td>$8.71</td>\n",
       "      <td>Active</td>\n",
       "      <td>Savings</td>\n",
       "    </tr>\n",
       "  </tbody>\n",
       "</table>\n",
       "<p>3106 rows × 7 columns</p>\n",
       "</div>"
      ],
      "text/plain": [
       "      CUST_ID                ACC_IBAN            ACC_BBAN ACC_OPEN_DT  \\\n",
       "0        4185  GB90EMIC89482763544524  GDJY66571183273954  2001-03-22   \n",
       "1         291  GB83VYSJ52094207716710  OVWN34297715684777  2010-08-29   \n",
       "2        7497  GB17OCSO08226852523762  DLFO12501444293678  2000-09-04   \n",
       "3        7497  GB26RRMJ41734703010562  SZPN32742192244415  2010-09-05   \n",
       "4        7497  GB13JBDZ14742645466984  DAGC95804976124339  2006-02-14   \n",
       "...       ...                     ...                 ...         ...   \n",
       "3101     2137  GB79MEEM68164816755595  JGQZ63653199537639  2020-07-08   \n",
       "3102     2137  GB72FWKV94464237567600  LCGK26173403352193  2011-06-05   \n",
       "3103     3899  GB97XFCA41641435894700  IQWX43085486211593  2006-01-08   \n",
       "3104     3899  GB72HHTA49364267690196  PFVP16819625415314  2014-10-14   \n",
       "3105     3899  GB62SCTO34024769359008  ADMB58970770088995  2009-06-10   \n",
       "\n",
       "         BALANCE ACC_STATUS ACC_TYPE  \n",
       "0         $50.57     Active   Credit  \n",
       "1     $74,111.13     Closed  Current  \n",
       "2        $669.14     Active     Loan  \n",
       "3          $0.03     Active   Credit  \n",
       "4          $0.71     Closed   Credit  \n",
       "...          ...        ...      ...  \n",
       "3101     $191.20     Active  Savings  \n",
       "3102  $54,340.79     Closed  Savings  \n",
       "3103     $906.56     Active     Loan  \n",
       "3104      $17.61     Closed     Loan  \n",
       "3105       $8.71     Active  Savings  \n",
       "\n",
       "[3106 rows x 7 columns]"
      ]
     },
     "execution_count": 17,
     "metadata": {},
     "output_type": "execute_result"
    }
   ],
   "source": [
    "account"
   ]
  },
  {
   "cell_type": "code",
   "execution_count": 18,
   "id": "d8b8e507-e756-4324-8170-14f92e77eea2",
   "metadata": {},
   "outputs": [],
   "source": [
    "#bank_name = list(set(account['BANK_NAME'])) --> Unable to find Bank_Name in account table.\n",
    "bank_name = ['UBS',\n",
    "'Bank of America',\n",
    "'Discover Financial',\n",
    "'Credit Suisse',\n",
    "'Santander Bank',\n",
    "'American Express',\n",
    "'HSBC Bank USA',\n",
    "'JPMorgan Chase',\n",
    "'BankUnited',\n",
    "'Citigroup',\n",
    "'Barclays',\n",
    "'RBC Bank',\n",
    "'Citizens Financial Group',\n",
    "'Capital One',\n",
    "'Goldman Sachs',\n",
    "'Wells Fargo',\n",
    "'Morgan Stanley']"
   ]
  },
  {
   "cell_type": "code",
   "execution_count": 19,
   "id": "03d3f4c3-53ec-4bd8-a79b-938db2db4a98",
   "metadata": {},
   "outputs": [
    {
     "data": {
      "text/plain": [
       "'Citigroup'"
      ]
     },
     "execution_count": 19,
     "metadata": {},
     "output_type": "execute_result"
    }
   ],
   "source": [
    "import random\n",
    "random.choice(bank_name)"
   ]
  },
  {
   "cell_type": "code",
   "execution_count": 20,
   "id": "f6b9b6ad-db7b-46d0-be1c-f509a966a920",
   "metadata": {},
   "outputs": [],
   "source": [
    "account['BANK_NAME'] = [random.choice(bank_name) for _ in range(len(account))]"
   ]
  },
  {
   "cell_type": "markdown",
   "id": "b22f2670-d774-4fec-9c58-d1511e9d0ee4",
   "metadata": {},
   "source": [
    "# Reversing a list using slicing technique"
   ]
  },
  {
   "cell_type": "code",
   "execution_count": 21,
   "id": "c2caa413-29a2-4d0d-af64-bba3be00f210",
   "metadata": {},
   "outputs": [],
   "source": [
    "def Reverse(lst):\n",
    "    new_lst = lst[::-1]\n",
    "    return new_lst"
   ]
  },
  {
   "cell_type": "markdown",
   "id": "2e39e9c7-90fd-49bb-8562-cd0382f9907c",
   "metadata": {},
   "source": [
    "# Initiate the DataFrames "
   ]
  },
  {
   "cell_type": "code",
   "execution_count": 22,
   "id": "098acf84-ef28-4351-9197-f1dfe9dbdf9d",
   "metadata": {},
   "outputs": [],
   "source": [
    "EOD_Acc_Level = pd.DataFrame(columns = ['CUST_ID', 'ACC_IBAN', 'ACC_BBAN', 'DT', 'EOD_BALANCE', \n",
    "                                  'EOD_TOTAL_CR', 'EOD_TOTAL_DR', 'EOD_TOTAL_INCOME', \n",
    "                                  'EOD_TOTAL_EXPENSE'])"
   ]
  },
  {
   "cell_type": "code",
   "execution_count": 23,
   "id": "bec943cb-82fe-40c4-8768-72a5d76e4e7b",
   "metadata": {},
   "outputs": [],
   "source": [
    "EOD_Cust_Level = pd.DataFrame(columns = ['CUST_ID', 'DT', 'EOD_BALANCE', 'EOD_TOTAL_CR', 'EOD_TOTAL_DR', \n",
    "                                  'EOD_TOTAL_INCOME', 'EOD_TOTAL_BALANCE'])"
   ]
  },
  {
   "cell_type": "code",
   "execution_count": 24,
   "id": "5d1b2119-6622-495a-a2bd-77a722d21050",
   "metadata": {},
   "outputs": [],
   "source": [
    "EOW_Acc_Level = pd.DataFrame(columns = ['CUST_ID', 'ACC_IBAN', 'ACC_BBAN', 'WK_NUM-YR', 'WK_START_DT', 'Wk_END_DT', 'EOW_BALANCE', 'EOW_TOTAL_DR', \n",
    "                                        'EOW_TOTAL_CR','EOW_TOTAL_INCOME', 'EOW_TOTAL_EXPENSE', 'SLOPE_BALANCE',\n",
    "                              'SLOPE_TOTAL_CR', 'SLOPE_TOTAL_DR', 'SLOPE_TOTAL_INCOME','SLOPE_TOTAL_EXPENSE'])"
   ]
  },
  {
   "cell_type": "code",
   "execution_count": 25,
   "id": "77b62690-5686-49a1-a184-5eadca263151",
   "metadata": {},
   "outputs": [],
   "source": [
    "EOW_Cust_Level = pd.DataFrame(columns = ['CUST_ID', 'WK_NUM-YR', 'WK_START_DT', 'Wk_END_DT', 'EOW_BALANCE',\n",
    "       'EOW_TOTAL_CR', 'EOW_TOTAL_DR', 'EOW_TOTAL_INCOME', 'EOW_TOTAL_EXPENSE','SLOPE_BALANCE', \n",
    "       'SLOPE_TOTAL_CR', 'SLOPE_TOTAL_DR', 'SLOPE_TOTAL_INCOME','SLOPE_TOTAL_EXPENSE'])"
   ]
  },
  {
   "cell_type": "code",
   "execution_count": 26,
   "id": "914af00b-1f7e-4b79-82bb-e883967a4931",
   "metadata": {},
   "outputs": [],
   "source": [
    "EOM_Acc_Level = pd.DataFrame(columns = ['CUST_ID', 'ACC_IBAN', 'ACC_BBAN', 'MTH_NUM-YR', 'EOM_BALANCE',\n",
    "       'EOM_TOTAL_DR', 'EOM_TOTAL_CR', 'EOM_TOTAL_INCOME', 'EOM_TOTAL_EXPENSE', 'SLOPE_BALANCE', \n",
    "       'SLOPE_TOTAL_CR', 'SLOPE_TOTAL_DR',  'SLOPE_TOTAL_INCOME','SLOPE_TOTAL_EXPENSE'])"
   ]
  },
  {
   "cell_type": "code",
   "execution_count": 27,
   "id": "42da0026-2289-4978-85bf-68887da6e52a",
   "metadata": {},
   "outputs": [],
   "source": [
    "EOM_Cust_Level = pd.DataFrame(columns = ['CUST_ID', 'MTH_NUM-YR', 'EOM_BALANCE', 'EOM_TOTAL_CR', \n",
    "       'EOM_TOTAL_DR', 'EOM_TOTAL_INCOME', 'EOM_TOTAL_EXPENSE', 'SLOPE_BALANCE',\n",
    "       'SLOPE_TOTAL_CR', 'SLOPE_TOTAL_DR',  'SLOPE_TOTAL_INCOME','SLOPE_TOTAL_EXPENSE'])"
   ]
  },
  {
   "cell_type": "code",
   "execution_count": 28,
   "id": "a6e7c6ea-716a-4354-9bf2-dab9290c2d2b",
   "metadata": {},
   "outputs": [],
   "source": [
    "Cust_Dashboard = pd.DataFrame(columns = ['CUST_ID', 'BALANCE', 'AVG_BALANCE', 'AVG_INCOME', 'AVG_EXPENSE', 'BANK_NAME'])   "
   ]
  },
  {
   "cell_type": "markdown",
   "id": "85816d60-c78a-4ac2-a710-a604ca1cf807",
   "metadata": {},
   "source": [
    "# Aggregation logic for Daily, Weekly and Monthly "
   ]
  },
  {
   "cell_type": "code",
   "execution_count": 29,
   "id": "30d94013-3374-4b26-9e9a-e2c1f5d10b98",
   "metadata": {},
   "outputs": [],
   "source": [
    "transactions['TXN_DT'] = pd.to_datetime(transactions['TXN_DT'], format='%m/%d/%Y')"
   ]
  },
  {
   "cell_type": "code",
   "execution_count": 30,
   "id": "8e3396be-a80c-4f8b-831a-cf15179e783b",
   "metadata": {
    "scrolled": true
   },
   "outputs": [
    {
     "name": "stdout",
     "output_type": "stream",
     "text": [
      "Account level tables generated - All\n"
     ]
    }
   ],
   "source": [
    "for i in x1: ### This is coming from account table\n",
    "    ibans = list(set(transactions[transactions['CUST_ID']==i]['ACC_IBAN']))\n",
    "    for j in ibans:  ### for a given customer pickup one IBAN at a time\n",
    "        txn_temp = transactions.loc[(transactions['CUST_ID']==i) & (transactions['ACC_IBAN']==j), ['ACC_BBAN', 'ACC_IBAN','BALANCE', 'TXN_DT', 'DR_CR', 'TXN_AMOUNT', 'TXN_CODE']]    ### This is at account level\n",
    "        txn_Dr = txn_temp.loc[(txn_temp['DR_CR']=='Dr')]    ### This is at account level\n",
    "        txn_Cr = txn_temp.loc[(txn_temp['DR_CR']=='Cr')]    ### This is at account level\n",
    "        ##txn_temp['txn_Dt'] = txn_temp['txn_Dt'].astype(str)\n",
    "\n",
    "        #### Process as per balance column for EOD Balance ##############\n",
    "        #Dts = txn_temp['TXN_DT'].drop_duplicates() \n",
    "        Dts = pd.to_datetime(txn_temp['TXN_DT'].drop_duplicates(), format='%m/%d/%Y')\n",
    "        \n",
    "        sdate = datetime.strptime(str(min(Dts))[:10], '%Y-%m-%d')\n",
    "        edate = datetime.strptime(str(max(Dts))[:10], '%Y-%m-%d')        \n",
    "        \n",
    "        dt_range = pd.date_range(sdate,edate-timedelta(days=1),freq='d')\n",
    "        hn = len(dt_range)\n",
    "        eod_balance = []\n",
    "\n",
    "        for di in Dts:\n",
    "            eod_balance = eod_balance + [txn_temp.loc[txn_temp['TXN_DT']==di, ['TXN_DT', 'BALANCE']].iloc[-1, 1]]\n",
    "        temp_Acc_Daily = pd.DataFrame({'DT': list(Dts), 'EOD_BALANCE': eod_balance})\n",
    "        temp_Acc_Daily.reset_index(inplace=True) \n",
    "        temp_Acc_Daily['DT']=temp_Acc_Daily['DT'].astype('str')\n",
    "        delta_Acc_Daily = pd.DataFrame({'CUST_ID': [i]*hn, 'ACC_IBAN': [j]*hn, 'ACC_BBAN':[txn_temp.iloc[0,0]]*hn, \n",
    "                                        'DT': dt_range})\n",
    "        delta_Acc_Daily['DT']=delta_Acc_Daily['DT'].astype('str')\n",
    "        delta_Acc_Daily = pd.merge(delta_Acc_Daily, temp_Acc_Daily, on='DT', how='left')\n",
    "        \n",
    "        ## delta_Acc_Daily.to_csv('delta_Acc_Daily.csv', index=False)\n",
    "        delta_Acc_Daily.drop('index', axis=1, inplace=True)\n",
    "        gt0_values = delta_Acc_Daily.loc[delta_Acc_Daily['EOD_BALANCE']>0, 'EOD_BALANCE']\n",
    "        gt0_idx = list(gt0_values.index) + [len(delta_Acc_Daily)]\n",
    "        eod_balance=[]\n",
    "        for idx in range(len(gt0_idx)-1):\n",
    "            eod_balance = eod_balance+[gt0_values[gt0_idx[idx]]]*(gt0_idx[idx+1]-gt0_idx[idx])\n",
    "        delta_Acc_Daily['EOD_BALANCE'] = eod_balance\n",
    "\n",
    "        #### Process Debit amount as per dr_cr column ##############\n",
    "        Dr_sum = pd.DataFrame(txn_Dr.groupby('TXN_DT')['TXN_AMOUNT'].sum())\n",
    "        Dr_sum['TXN_DT'] = Dr_sum.index\n",
    "        Dr_sum.index = range(len(Dr_sum))\n",
    "        Dr_sum.rename(columns = {'TXN_DT':'DT', 'TXN_AMOUNT':'EOD_TOTAL_DR'}, inplace=True)\n",
    "\n",
    "        #### Process Credit amount as per dr_cr column ##############\n",
    "        Cr_sum = pd.DataFrame(txn_Cr.groupby('TXN_DT')['TXN_AMOUNT'].sum())\n",
    "        Cr_sum['TXN_DT'] = Cr_sum.index\n",
    "        Cr_sum.index = range(len(Cr_sum))\n",
    "        Cr_sum.rename(columns = {'TXN_DT':'DT', 'TXN_AMOUNT':'EOD_TOTAL_CR'}, inplace=True)        \n",
    "        \n",
    "        ### Now merge the dataframes ###########\n",
    "        Dr_sum['DT']=Dr_sum['DT'].astype('str')\n",
    "        Cr_sum['DT']=Cr_sum['DT'].astype('str')\n",
    "        \n",
    "        delta_Acc_Daily = pd.merge(delta_Acc_Daily, Dr_sum, on='DT', how='left')\n",
    "        delta_Acc_Daily = pd.merge(delta_Acc_Daily, Cr_sum, on='DT', how='left')\n",
    "        \n",
    "        delta_Acc_Daily['EOD_TOTAL_INCOME']=delta_Acc_Daily['EOD_TOTAL_CR']\n",
    "        delta_Acc_Daily['EOD_TOTAL_EXPENSE']=delta_Acc_Daily['EOD_TOTAL_DR']               \n",
    "        ##print(delta_Acc_Daily.shape)\n",
    "        delta_Acc_Daily.fillna(0, inplace=True)\n",
    "\n",
    "        #EOD_Acc_Level=EOD_Acc_Level.append(delta_Acc_Daily) --> Throwing error\n",
    "        EOD_Acc_Level = pd.concat([EOD_Acc_Level, delta_Acc_Daily], ignore_index=True)\n",
    "        \n",
    "\n",
    "        #### Process for EOW Balance ##############        \n",
    "        temp_Acc_Wkly = delta_Acc_Daily\n",
    "        temp_Acc_Wkly['WK_NUM-YR'] = [datetime.strptime(x, '%Y-%m-%d').strftime('%Y-W%W') for x in temp_Acc_Wkly['DT']]\n",
    "        temp_Acc_Wkly.replace(np.nan, 0, inplace=True)\n",
    "        temp_Dt = [datetime.strptime(x, '%Y-%m-%d') for x in temp_Acc_Wkly['DT']]\n",
    "        temp_Acc_Wkly['WK_START_DT'] = [x - timedelta(days=x.weekday()) for x in temp_Dt]\n",
    "        temp_Acc_Wkly['WK_END_DT'] = [x + timedelta(days=6) for x in temp_Acc_Wkly['WK_START_DT']]\n",
    "\n",
    "        ##transactions.loc[(transactions['Cust_ID']==i) & (transactions['Acc_IBAN']==j), ['Acc_BBAN', 'Balance', 'txn_Dt', 'dr_cr', 'txn_amount', 'txn_code']]    ### This is at account level\n",
    "        \n",
    "        ##temp = temp_Acc_Wkly.groupby('Wk_Num-Yr')[['EOD_Total_Dr', 'EOD_Total_Cr', 'EOD_Total_Income', 'EOD_Total_Expense']].sum()\n",
    "        \n",
    "        ##delta_Acc_Wkly = pd.DataFrame(temp_Acc_Wkly.groupby('Wk_Num-Yr').agg({'EOD_Balance':'last', 'EOD_Total_Dr':'sum', 'EOD_Total_Cr':'sum', 'EOD_Total_Income':'sum', 'EOD_Total_Expense':'sum'}))\n",
    "        \n",
    "        delta_Acc_Wkly = pd.DataFrame(temp_Acc_Wkly.groupby(['CUST_ID', 'ACC_IBAN', 'ACC_BBAN','WK_NUM-YR', 'WK_START_DT', 'WK_END_DT']).agg({'EOD_BALANCE':'last', 'EOD_TOTAL_DR':'sum', 'EOD_TOTAL_CR':'sum', 'EOD_TOTAL_INCOME':'sum', 'EOD_TOTAL_EXPENSE':'sum'}))\n",
    "        delta_Acc_Wkly.reset_index(inplace=True)\n",
    "                \n",
    "        delta_Acc_Wkly.replace(np.nan, 0, inplace=True)\n",
    "        ##temp_Dt = [datetime.strptime(x, '%Y-%m-%d') for x in temp_Acc_Wkly['Dt']]\n",
    "        ##delta_Acc_Wkly['Wk_Start_Dt'] = set([x - timedelta(days=x.weekday()) for x in temp_Dt])\n",
    "        ##delta_Acc_Wkly['Wk_End_Dt'] = set([x + timedelta(days=6) for x in delta_Acc_Wkly['Wk_Start_Dt']])\n",
    "\n",
    "        #### Find the slope for accounts at daily level for each block of Wk_Num-Yr ######\n",
    "        slope_cols = ['SLOPE_BALANCE', 'SLOPE_TOTAL_CR', 'SLOPE_TOTAL_DR', 'SLOPE_TOTAL_INCOME', 'SLOPE_TOTAL_EXPENSE']        \n",
    "        amount_cols = ['EOD_BALANCE', 'EOD_TOTAL_DR', 'EOD_TOTAL_CR', 'EOD_TOTAL_INCOME', 'EOD_TOTAL_EXPENSE']\n",
    "\n",
    "        for iamt in range(len(amount_cols)):\n",
    "            slope_temp = []\n",
    "            for iwk in sorted(list(set(temp_Acc_Wkly['WK_NUM-YR']))):\n",
    "                slope_EOD_Bal = list(temp_Acc_Wkly[amount_cols[iamt]].loc[(temp_Acc_Wkly['CUST_ID']==i) & (temp_Acc_Wkly['ACC_IBAN']==j) & (temp_Acc_Wkly['WK_NUM-YR']==iwk)])\n",
    "                #if any([len(slope_EOD_Bal)<2]+[math.isnan(x) for x in slope_EOD_Bal]):\n",
    "                if len(slope_EOD_Bal)<2:\n",
    "                    slope_temp = slope_temp + [0]\n",
    "                else:\n",
    "                    slope_temp = slope_temp + [round(np.polyfit(list(range(len(slope_EOD_Bal))), slope_EOD_Bal, 1)[0], 2)]\n",
    "            delta_Acc_Wkly[slope_cols[iamt]]=slope_temp\n",
    "\n",
    "        \n",
    "        ##r = datetime.datetime.strptime(temp_Acc_Wkly['Wk_Num-Yr'][0] + '-1', '%G-W%V-%u')\n",
    "        delta_Acc_Wkly.rename(columns = {'EOD_BALANCE':'EOW_BALANCE', 'EOD_TOTAL_CR':'EOW_TOTAL_DR', 'EOD_TOTAL_DR':'EOW_TOTAL_CR', 'EOD_TOTAL_INCOME':'EOW_TOTAL_INCOME', 'EOD_TOTAL_EXPENSE':'EOW_TOTAL_EXPENSE'}, inplace=True)\n",
    "        delta_Acc_Wkly.fillna(0, inplace=True)\n",
    "\n",
    "        #EOW_Acc_Level = EOW_Acc_Level.append(delta_Acc_Wkly) -> Throwing Error\n",
    "        EOW_Acc_Level = pd.concat([EOW_Acc_Level, delta_Acc_Wkly], ignore_index=True)\n",
    "\n",
    "        #### Process for EOM Balance ##############\n",
    "        temp_Acc_Mthly = delta_Acc_Daily\n",
    "        temp_Dt = [datetime.strptime(x, '%Y-%m-%d') for x in temp_Acc_Mthly['DT']]\n",
    "        temp_Acc_Mthly['MTH_NUM-YR'] = [x.strftime('%Y-%m') for x in temp_Dt]\n",
    "        delta_Acc_Mthly = pd.DataFrame(temp_Acc_Mthly.groupby(['CUST_ID', 'ACC_IBAN', 'ACC_BBAN','MTH_NUM-YR']).agg({'EOD_BALANCE':'last', 'EOD_TOTAL_DR':'sum', 'EOD_TOTAL_CR':'sum', 'EOD_TOTAL_INCOME':'sum', 'EOD_TOTAL_EXPENSE':'sum'}))\n",
    "        delta_Acc_Mthly.reset_index(inplace=True)\n",
    "        delta_Acc_Mthly.fillna(0, inplace=True)        \n",
    "        delta_Acc_Mthly.replace(np.nan, 0, inplace=True)\n",
    "\n",
    "        #### Find the slope for accounts at weekly level for each block of Mth_Num-Yr ######\n",
    "        slope_cols = ['SLOPE_BALANCE', 'SLOPE_TOTAL_CR', 'SLOPE_TOTAL_DR', 'SLOPE_TOTAL_INCOME', 'SLOPE_TOTAL_EXPENSE']     \n",
    "        amount_cols = ['EOD_BALANCE', 'EOD_TOTAL_DR', 'EOD_TOTAL_CR', 'EOD_TOTAL_INCOME', 'EOD_TOTAL_EXPENSE']\n",
    "\n",
    "        for iamt in range(len(amount_cols)):\n",
    "            slope_temp = []\n",
    "            for imth in sorted(set(temp_Acc_Mthly['MTH_NUM-YR'])):\n",
    "                slope_EOD_Bal = list(temp_Acc_Mthly[amount_cols[iamt]].loc[(temp_Acc_Mthly['CUST_ID']==i) & (temp_Acc_Mthly['ACC_IBAN']==j) & (temp_Acc_Mthly['MTH_NUM-YR']==imth)])\n",
    "                #if any([len(slope_EOD_Bal)<2]+[math.isnan(x) for x in slope_EOD_Bal]):\n",
    "                if len(slope_EOD_Bal)<2:\n",
    "                    slope_temp = slope_temp + [0]\n",
    "                else:\n",
    "                    slope_temp = slope_temp + [round(np.polyfit(list(range(len(slope_EOD_Bal))), slope_EOD_Bal, 1)[0], 2)]\n",
    "            delta_Acc_Mthly[slope_cols[iamt]]=slope_temp\n",
    "        \n",
    "        delta_Acc_Mthly.rename(columns = {'EOD_BALANCE':'EOM_BALANCE', 'EOD_TOTAL_DR':'EOM_TOTAL_DR', 'EOD_TOTAL_CR':'EOM_TOTAL_CR', 'EOD_TOTAL_INCOME':'EOM_TOTAL_INCOME', 'EOD_TOTAL_EXPENSE':'EOM_TOTAL_EXPENSE'}, inplace=True)\n",
    "        \n",
    "        #EOM_Acc_Level = EOM_Acc_Level.append(delta_Acc_Mthly) --> Throwing error\n",
    "        EOM_Acc_Level = pd.concat([EOM_Acc_Level, delta_Acc_Mthly], ignore_index=True)\n",
    "\n",
    "print('Account level tables generated - All')"
   ]
  },
  {
   "cell_type": "markdown",
   "id": "8f1b45da-be3b-4a13-9d75-bf1158fe09fd",
   "metadata": {},
   "source": [
    "# Generate Customer Level Tables - All"
   ]
  },
  {
   "cell_type": "code",
   "execution_count": 31,
   "id": "3f2839ac-528f-47d5-b7d4-bfccd4ec3bac",
   "metadata": {},
   "outputs": [],
   "source": [
    "EOD_Cust_Level = pd.DataFrame(EOD_Acc_Level.groupby(['CUST_ID', 'DT'])[['EOD_BALANCE', 'EOD_TOTAL_CR', 'EOD_TOTAL_DR', 'EOD_TOTAL_INCOME','EOD_TOTAL_EXPENSE']].sum())\n",
    "EOD_Cust_Level.reset_index(inplace=True)\n",
    "EOD_Cust_Level.fillna(0, inplace=True)\n",
    "EOD_Cust_Level.replace(np.nan, 0, inplace=True)\n",
    "EOD_Cust_Level['BANK_NAME'] = 'All'"
   ]
  },
  {
   "cell_type": "code",
   "execution_count": 32,
   "id": "7aedf024-5a39-487e-8e5e-febb96042a67",
   "metadata": {},
   "outputs": [],
   "source": [
    "EOW_Cust_Level = pd.DataFrame(EOW_Acc_Level.groupby(['CUST_ID', 'WK_NUM-YR','WK_START_DT', 'WK_END_DT'])[['EOW_BALANCE', 'EOW_TOTAL_CR', 'EOW_TOTAL_DR', 'EOW_TOTAL_INCOME','EOW_TOTAL_EXPENSE']].sum())\n",
    "EOW_Cust_Level.reset_index(inplace=True)\n",
    "EOW_Cust_Level.fillna(0, inplace=True)\n",
    "EOW_Cust_Level.replace(np.nan, 0, inplace=True)\n",
    "EOW_Cust_Level['BANK_NAME'] = 'All'"
   ]
  },
  {
   "cell_type": "code",
   "execution_count": 33,
   "id": "9cb42a5e-a109-4e62-b1d8-86ec717b39bf",
   "metadata": {},
   "outputs": [],
   "source": [
    "#### Find the slope for Customers at daily level for each block of Wk_Num-Yr ######\n",
    "slope_cols = ['SLOPE_BALANCE', 'SLOPE_TOTAL_CR', 'SLOPE_TOTAL_DR', 'SLOPE_TOTAL_INCOME', 'SLOPE_TOTAL_EXPENSE']        \n",
    "amount_cols = ['EOD_BALANCE', 'EOD_TOTAL_DR', 'EOD_TOTAL_CR', 'EOD_TOTAL_INCOME', 'EOD_TOTAL_EXPENSE']\n",
    "\n",
    "temp_Cust_Daily = EOD_Cust_Level\n",
    "temp_Cust_Daily['WK_NUM-YR'] = [datetime.strptime(x, '%Y-%m-%d').strftime('%Y-W%W') for x in temp_Cust_Daily['DT']]\n",
    "\n",
    "for iamt in range(len(amount_cols)):\n",
    "    slope_temp = []\n",
    "    for i in x1:\n",
    "        temp_Wk_Num = sorted(set(temp_Cust_Daily['WK_NUM-YR'].loc[temp_Cust_Daily['CUST_ID']==i]))\n",
    "        for iwk in temp_Wk_Num:\n",
    "            temp_Daily = temp_Cust_Daily[amount_cols[iamt]].loc[(temp_Cust_Daily['CUST_ID']==i) & (temp_Cust_Daily['WK_NUM-YR']==iwk)]\n",
    "            ##print(temp_Daily.shape)\n",
    "            slope_EOD = list(temp_Cust_Daily[amount_cols[iamt]].loc[(temp_Cust_Daily['CUST_ID']==i) & (temp_Cust_Daily['WK_NUM-YR']==iwk)])\n",
    "            #if any([len(slope_EOD)<2]+[math.isnan(x) for x in slope_EOD]):\n",
    "            if len(slope_EOD)<2:\n",
    "                slope_temp = slope_temp + [0]\n",
    "            else:\n",
    "                slope_temp = slope_temp + [round(np.polyfit(list(range(len(slope_EOD))), slope_EOD, 1)[0], 2)]\n",
    "    EOW_Cust_Level[slope_cols[iamt]]=slope_temp"
   ]
  },
  {
   "cell_type": "code",
   "execution_count": 34,
   "id": "731c4672-379b-4dec-88e2-536372b33e73",
   "metadata": {},
   "outputs": [],
   "source": [
    "EOM_Cust_Level = pd.DataFrame(EOM_Acc_Level.groupby(['CUST_ID', 'MTH_NUM-YR'])[['EOM_BALANCE', 'EOM_TOTAL_CR', 'EOM_TOTAL_DR', 'EOM_TOTAL_INCOME','EOM_TOTAL_EXPENSE']].sum())\n",
    "EOM_Cust_Level.reset_index(inplace=True)\n",
    "EOM_Cust_Level.fillna(0, inplace=True)\n",
    "EOM_Cust_Level.replace(np.nan, 0, inplace=True)\n",
    "EOM_Cust_Level['BANK_NAME'] = 'All'\n",
    "EOM_Cust_Level['YR'] = [x[:4] for x in EOM_Cust_Level['MTH_NUM-YR']]\n",
    "EOM_Cust_Level['MTH_NUM'] = [x[-2:] for x in EOM_Cust_Level['MTH_NUM-YR']]\n",
    "\n",
    "Mth_Name = {'01':'January', '02':'February', '03':'March', '04':'April', '05':'May', '06':'June', '07':'July', '08':'August', '09':'September', '10':'October', '11':'November', '12':'December'}\n",
    "\n",
    "EOM_Cust_Level['MTH'] = [Mth_Name[x] for x in EOM_Cust_Level['MTH_NUM']]\n",
    "##EOM_Cust_Level.drop('Mth_Num', axis=1, inplace=True)"
   ]
  },
  {
   "cell_type": "code",
   "execution_count": 35,
   "id": "26e94815-16a6-48ff-9139-d8e873704f8a",
   "metadata": {},
   "outputs": [
    {
     "name": "stdout",
     "output_type": "stream",
     "text": [
      "Customer level tables generated - All\n"
     ]
    }
   ],
   "source": [
    "#### Find the slope for Customers at weekly level for each block of Mth_Num-Yr ######\n",
    "\n",
    "temp_Cust_Daily = EOD_Cust_Level\n",
    "temp_Cust_Daily['MTH_NUM-YR'] = [datetime.strptime(x, '%Y-%m-%d').strftime('%Y-%m') for x in temp_Cust_Daily['DT']]\n",
    "    \n",
    "for iamt in range(len(amount_cols)):\n",
    "    slope_temp = []\n",
    "    for i in x1:\n",
    "        temp_Mth_Num = sorted(set(temp_Cust_Daily['MTH_NUM-YR'].loc[temp_Cust_Daily['CUST_ID']==i]))\n",
    "        for imth in temp_Mth_Num:\n",
    "            temp_Daily = temp_Cust_Daily[amount_cols[iamt]].loc[(temp_Cust_Daily['CUST_ID']==i) & (temp_Cust_Daily['WK_NUM-YR']==imth)]\n",
    "            ##print(temp_Daily.shape)\n",
    "            slope_EOD = list(temp_Cust_Daily[amount_cols[iamt]].loc[(temp_Cust_Daily['CUST_ID']==i) & (temp_Cust_Daily['MTH_NUM-YR']==imth)])\n",
    "            #if any([len(slope_EOD)<2]+[math.isnan(x) for x in slope_EOD]):\n",
    "            if len(slope_EOD)<2:\n",
    "                slope_temp = slope_temp + [0]\n",
    "            else:\n",
    "                slope_temp = slope_temp + [round(np.polyfit(range(len(slope_EOD)), slope_EOD, 1)[0], 2)]\n",
    "    EOM_Cust_Level[slope_cols[iamt]]=slope_temp\n",
    "\n",
    "####### Clean-up: Drop / Add columns etc ##############\n",
    "\n",
    "EOD_Cust_Level.drop(['WK_NUM-YR', 'MTH_NUM-YR'], axis=1, inplace=True)\n",
    "\n",
    "print('Customer level tables generated - All')"
   ]
  },
  {
   "cell_type": "markdown",
   "id": "e5204675-0e68-4c1d-bf06-484392fb5a5f",
   "metadata": {},
   "source": [
    "# Generation of Customer Dashboard Table"
   ]
  },
  {
   "cell_type": "code",
   "execution_count": 36,
   "id": "64346980-564b-430f-89e0-9aedd98e97e8",
   "metadata": {},
   "outputs": [],
   "source": [
    "for i in x1:\n",
    "    Cust_Daily = EOD_Cust_Level.loc[EOD_Cust_Level['CUST_ID']==i, 'EOD_BALANCE']    ### This is at account level\n",
    "    balance = list(Cust_Daily)[-1] if len(Cust_Daily)>0 else 0\n",
    "    Cust_Mthly = EOM_Cust_Level.loc[EOM_Cust_Level['CUST_ID']==i, ['EOM_BALANCE', 'EOM_TOTAL_INCOME', 'EOM_TOTAL_EXPENSE']]\n",
    "    if len(Cust_Mthly)>0:\n",
    "        n1 = min(6, len(Cust_Mthly))\n",
    "        Avg_Balance = round(np.mean(list(Cust_Mthly['EOM_BALANCE'])[-n1:]), 2)\n",
    "        Avg_Income = round(np.mean(list(Cust_Mthly['EOM_TOTAL_INCOME'])[-n1:]), 2)\n",
    "        Avg_Expense = round(np.mean(list(Cust_Mthly['EOM_TOTAL_EXPENSE'])[-n1:]), 2)\n",
    "    else:\n",
    "        Avg_Balance, Avg_Income, Avg_Expense = 0, 0, 0\n",
    "    \n",
    "    delta_Cust_Dashboard = pd.DataFrame({'CUST_ID':[i], 'BALANCE':[balance], \n",
    "                                         'AVG_BALANCE':[Avg_Balance], \n",
    "                                         'AVG_INCOME':[Avg_Income], 'AVG_EXPENSE':[Avg_Expense]})\n",
    "    \n",
    "            \n",
    "    #Cust_Dashboard = Cust_Dashboard.append(delta_Cust_Dashboard) --> Throwing Error\n",
    "    Cust_Dashboard = pd.concat([Cust_Dashboard,delta_Cust_Dashboard], ignore_index=True)"
   ]
  },
  {
   "cell_type": "markdown",
   "id": "bb73a497-13b8-456b-a3fb-465b79c9c321",
   "metadata": {},
   "source": [
    "# Handled Error in Credit Card csv (Annual Fee missing)"
   ]
  },
  {
   "cell_type": "code",
   "execution_count": 37,
   "id": "137c690f-680e-4a72-85a2-5388bb56f4a4",
   "metadata": {},
   "outputs": [],
   "source": [
    "Cust_Dashboard.reset_index(inplace=True)\n",
    "Cust_Dashboard.drop('index', axis=1, inplace=True)\n",
    "\n",
    "Fees_Charges = pd.DataFrame(subscriptions.groupby(['CUST_ID'])[['AMOUNT']].sum())\n",
    "Fees_Charges.reset_index(inplace=True)\n",
    "\n",
    "#Fees_CC = credit_card.loc[credit_card['ANNUAL_FEE']>0, ['CUST_ID', 'ANNUAL_FEE']]\n",
    "#Fees_CC = pd.DataFrame(Fees_CC.groupby('CUST_ID')['ANNUAL_FEE'].sum())\n",
    "#Fees_CC.reset_index(inplace=True)\n",
    "#Fees_Charges = pd.merge(Fees_Charges, Fees_CC, how='outer', on = 'CUST_ID')\n",
    "#Fees_Charges['FEES_CHARGES'] = Fees_Charges['AMOUNT']+Fees_Charges['ANNUAL_FEE']\n",
    "Fees_Charges['FEES_CHARGES'] = Fees_Charges['AMOUNT']\n",
    "\n",
    "Cust_Dashboard = pd.merge(Cust_Dashboard, Fees_Charges[['CUST_ID', 'FEES_CHARGES']], on = 'CUST_ID', how = 'left')\n",
    "\n",
    "Cust_Dashboard = pd.merge(Cust_Dashboard, financials, on = 'CUST_ID', how = 'left')\n",
    "\n",
    "##Cust_Dashboard['Peer_Credit_Score']=[int(round(np.mean([random.choice(list(financials['Credit_Score'])) for _ in range(10)]), 0)) for _ in range(len(x1))]"
   ]
  },
  {
   "cell_type": "code",
   "execution_count": 38,
   "id": "ee0c940f-dfda-408a-afbd-a0c749d17f97",
   "metadata": {},
   "outputs": [],
   "source": [
    "similar_subsc = pd.DataFrame(subscriptions.groupby(['CUST_ID', 'CATEGORY']).size())\n",
    "similar_subsc.reset_index(inplace=True)\n",
    "similar_subsc.rename(columns={0:'SUBSCRIPTIONS_COUNT'}, inplace=True)\n",
    "\n",
    "subscriptions = pd.merge(subscriptions, similar_subsc, how='left', left_on = ['CUST_ID', 'CATEGORY'], right_on = ['CUST_ID', 'CATEGORY'])\n",
    "subscriptions['BANK_NAME'] = 'All'\n",
    "subscriptions.sort_values(by = ['CUST_ID', 'CATEGORY'], ascending = [True, True], inplace=True)"
   ]
  },
  {
   "cell_type": "markdown",
   "id": "29c92d1a-de01-4705-9f23-3ef3263b1e47",
   "metadata": {},
   "source": [
    "# Upcoming Payouts - Present month due date"
   ]
  },
  {
   "cell_type": "markdown",
   "id": "a5e5c4d7-7337-4166-89a5-7998cbe33b2c",
   "metadata": {},
   "source": [
    "# Handling error - DUE_DT, CUST_ID, MTHLY_PAYMENT Column missing"
   ]
  },
  {
   "cell_type": "code",
   "execution_count": 89,
   "id": "34243e07-5c7e-47a5-a06c-50eee2777957",
   "metadata": {},
   "outputs": [],
   "source": [
    "# Added in FDC\n",
    "credit_card['DUE_DT'] =  1\n",
    "credit_card['MTHLY_PAYMENT'] = credit_card['BAL_OUTSTANDING'].str.replace('$', '')\n",
    "credit_card['MTHLY_PAYMENT'] = credit_card['MTHLY_PAYMENT'].str.replace(',', '').astype(float)\n",
    "\n",
    "term_deposit['DUE_DT'] = 1\n",
    "term_deposit['CUST_ID'] = term_deposit['CUSTOMER_ID']\n",
    "term_deposit['MTHLY_PAYMENT'] = term_deposit['PRINCIPAL_AMT'].str.replace('$', '')\n",
    "term_deposit['MTHLY_PAYMENT'] = term_deposit['MTHLY_PAYMENT'].str.replace(',', '').astype(float)\n",
    "\n",
    "loan['DUE_DT'] = 1\n",
    "loan['CUST_ID'] = loan['Customer Id']\n",
    "loan['LOAN_TYPE'] = loan['PURPOSE']\n",
    "loan['MTHLY_PAYMENT'] = loan['Monthly Debt']\n",
    "loan['LOAN_STATUS'] = loan['Loan Status']"
   ]
  },
  {
   "cell_type": "code",
   "execution_count": 87,
   "id": "d18ea138-4e3d-40c4-94dd-c92884ec0586",
   "metadata": {},
   "outputs": [],
   "source": [
    "Upcoming_TD = term_deposit.loc[(term_deposit['DEPOSIT_TYPE']=='Recurring Deposit') & (term_deposit['DUE_DT']>=now1.day), ['CUST_ID', 'DUE_DT', 'MTHLY_PAYMENT']]\n",
    "Upcoming_TD['TABLE_NAME'] = 'Term_Deposit'\n",
    "Upcoming_TD['TYPE'] = 'Term Deposit'\n",
    "Upcoming_OP = Upcoming_TD\n",
    "\n",
    "Upcoming_Loan = loan.loc[(loan['LOAN_STATUS'].isin(['Active', 'Default'])) & (loan['DUE_DT']>=now1.day), ['CUST_ID', 'DUE_DT', 'MTHLY_PAYMENT', 'LOAN_TYPE']]\n",
    "Upcoming_Loan['TABLE_NAME'] = 'Loan'\n",
    "Upcoming_Loan.rename(columns={'LOAN_TYPE':'TYPE'}, inplace=True)\n",
    "Upcoming_OP = pd.concat([Upcoming_OP,Upcoming_Loan], ignore_index=True)\n",
    "#Upcoming_OP = Upcoming_OP.append(Upcoming_Loan)\n",
    "\n",
    "Upcoming_CC = credit_card.loc[(credit_card['STATUS']=='Active') & (credit_card['DUE_DT']>=now1.day), ['CUST_ID', 'DUE_DT', 'MTHLY_PAYMENT', 'CARD_PROVIDER']]\n",
    "Upcoming_CC['TABLE_NAME'] = 'Credit Card'\n",
    "Upcoming_CC.rename(columns={'CARD_PROVIDER':'TYPE'}, inplace=True)\n",
    "Upcoming_OP = pd.concat([Upcoming_OP,Upcoming_CC], ignore_index=True)\n",
    "#Upcoming_OP = Upcoming_OP.append(Upcoming_CC)\n",
    "\n",
    "Upcoming_OP.sort_values(by = ['CUST_ID', 'MTHLY_PAYMENT', 'DUE_DT'], ascending = [True, False, True], inplace=True)\n",
    "Upcoming_OP['DUE_DT_STR'] = [str(x)+now1.strftime(' %b')+str(now1.strftime('%y')) for x in Upcoming_OP['DUE_DT']]"
   ]
  },
  {
   "cell_type": "markdown",
   "id": "d69649b9-7c25-4b26-9226-65153dbb1bc4",
   "metadata": {},
   "source": [
    "# Upcoming Payouts - Next month due date"
   ]
  },
  {
   "cell_type": "code",
   "execution_count": null,
   "id": "9dd56375-96b7-4d9c-bc85-4d6716a9f88b",
   "metadata": {},
   "outputs": [],
   "source": [
    "Upcoming_TD = term_deposit.loc[(term_deposit['DEPOSIT_TYPE']=='Recurring Deposit') & (term_deposit['DUE_DT']<now1.day), ['CUST_ID', 'DUE_DT', 'MTHLY_PAYMENT']]\n",
    "Upcoming_TD['TABLE_NAME'] = 'Term_Deposit'\n",
    "Upcoming_TD['TYPE'] = 'Term Deposit'\n",
    "Upcoming_OP1 = Upcoming_TD\n",
    "\n",
    "Upcoming_Loan = loan.loc[(loan['LOAN_STATUS'].isin(['Active', 'Default'])) & (loan['DUE_DT']<now1.day), ['CUST_ID', 'DUE_DT', 'MTHLY_PAYMENT', 'LOAN_TYPE']]\n",
    "Upcoming_Loan['TABLE_NAME'] = 'Loan'\n",
    "Upcoming_Loan.rename(columns={'LOAN_TYPE':'TYPE'}, inplace=True)\n",
    "Upcoming_OP1 = pd.concat([Upcoming_OP1,Upcoming_Loan], ignore_index=True)\n",
    "#Upcoming_OP1 = Upcoming_OP1.append(Upcoming_Loan)\n",
    "\n",
    "Upcoming_CC = credit_card.loc[(credit_card['STATUS']=='Active') & (credit_card['DUE_DT']<now1.day), ['CUST_ID', 'DUE_DT', 'MTHLY_PAYMENT', 'CARD_PROVIDER']]\n",
    "Upcoming_CC['TABLE_NAME'] = 'Credit Card'\n",
    "Upcoming_CC.rename(columns={'CARD_PROVIDER':'Type'}, inplace=True)\n",
    "Upcoming_OP1 = pd.concat([Upcoming_OP1,Upcoming_CC], ignore_index=True)\n",
    "#Upcoming_OP1 = Upcoming_OP1.append(Upcoming_CC)\n",
    "\n",
    "Upcoming_OP1.sort_values(by = ['CUST_ID', 'MTHLY_PAYMENT', 'DUE_DT'], ascending = [True, False, True], inplace=True)\n",
    "\n",
    "nxt_mth = now1.replace(day=1)+timedelta(days=31)   ### Get a day of next month\n",
    "\n",
    "Upcoming_OP1['DUE_DT_STR'] = [str(x)+nxt_mth.strftime(' %b')+str(nxt_mth.strftime('%y')) for x in Upcoming_OP1['DUE_DT']]\n",
    "Upcoming_OP = pd.concat([Upcoming_OP,Upcoming_OP1], ignore_index=True)\n",
    "#Upcoming_OP = Upcoming_OP.append(Upcoming_OP1)\n",
    "\n",
    "Upcoming_OP.reset_index(inplace=True)\n",
    "Upcoming_OP.drop('index', axis=1, inplace=True)\n",
    "Upcoming_OP['BANK_NAME'] = 'All'\n",
    "\n",
    "transactions['TXN_DT'] = pd.to_datetime(transactions['TXN_DT'])\n",
    "\n",
    "temp2 = transactions.loc[(transactions['DR_CR']=='Dr') & (transactions['TXN_DT']>=now1-timedelta(days=30)), ['CUST_ID', 'TXN_AMOUNT', 'EXPENSE_CATEGORY', 'TXN_DT']]\n",
    "    \n",
    "expense=pd.DataFrame(temp2.groupby(['CUST_ID', 'EXPENSE_CATEGORY'])['TXN_AMOUNT'].sum())\n",
    "\n",
    "expense.reset_index(inplace=True)\n",
    "expense['BANK_NAME'] = 'All'"
   ]
  },
  {
   "cell_type": "markdown",
   "id": "a9cd095b-d7cf-48de-bb9d-7e42a2af1e0e",
   "metadata": {},
   "source": [
    "# Map the Bank Name for all the account level tables"
   ]
  },
  {
   "cell_type": "code",
   "execution_count": null,
   "id": "ed4300b9-05b4-4c54-9fa8-00c9da049804",
   "metadata": {},
   "outputs": [],
   "source": [
    "map_bank_name = account[['ACC_BBAN', 'BANK_NAME']].drop_duplicates()  \n",
    "\n",
    "EOD_Acc_Level = pd.merge(EOD_Acc_Level, map_bank_name, how = 'left', on='ACC_BBAN')\n",
    "EOW_Acc_Level = pd.merge(EOW_Acc_Level, map_bank_name, how = 'left', on='ACC_BBAN')\n",
    "EOM_Acc_Level = pd.merge(EOM_Acc_Level, map_bank_name, how = 'left', on='ACC_BBAN')"
   ]
  },
  {
   "cell_type": "markdown",
   "id": "0e0a5909-0d18-4c4b-a7d0-fde5e34c5138",
   "metadata": {},
   "source": [
    "# Table bank_relations gives the list of all banks where a customer has relationship"
   ]
  },
  {
   "cell_type": "code",
   "execution_count": 165,
   "id": "79e4fc26-e9e3-40dd-a410-da8397d3c5da",
   "metadata": {},
   "outputs": [
    {
     "ename": "KeyError",
     "evalue": "\"['BANK_NAME'] not in index\"",
     "output_type": "error",
     "traceback": [
      "\u001b[0;31m---------------------------------------------------------------------------\u001b[0m",
      "\u001b[0;31mKeyError\u001b[0m                                  Traceback (most recent call last)",
      "Cell \u001b[0;32mIn[165], line 1\u001b[0m\n\u001b[0;32m----> 1\u001b[0m bank_relations \u001b[38;5;241m=\u001b[39m \u001b[43maccount\u001b[49m\u001b[43m[\u001b[49m\u001b[43m[\u001b[49m\u001b[38;5;124;43m'\u001b[39;49m\u001b[38;5;124;43mCUST_ID\u001b[39;49m\u001b[38;5;124;43m'\u001b[39;49m\u001b[43m,\u001b[49m\u001b[43m \u001b[49m\u001b[38;5;124;43m'\u001b[39;49m\u001b[38;5;124;43mBANK_NAME\u001b[39;49m\u001b[38;5;124;43m'\u001b[39;49m\u001b[43m]\u001b[49m\u001b[43m]\u001b[49m\u001b[38;5;241m.\u001b[39mdrop_duplicates() \u001b[38;5;66;03m### Savings / Current Accounts\u001b[39;00m\n\u001b[1;32m      3\u001b[0m bank_relations \u001b[38;5;241m=\u001b[39m bank_relations\u001b[38;5;241m.\u001b[39mappend(term_deposit[[\u001b[38;5;124m'\u001b[39m\u001b[38;5;124mCUST_ID\u001b[39m\u001b[38;5;124m'\u001b[39m, \u001b[38;5;124m'\u001b[39m\u001b[38;5;124mBANK_NAME\u001b[39m\u001b[38;5;124m'\u001b[39m]]\u001b[38;5;241m.\u001b[39mdrop_duplicates()) \u001b[38;5;66;03m## TD Accounts\u001b[39;00m\n\u001b[1;32m      4\u001b[0m bank_relations \u001b[38;5;241m=\u001b[39m bank_relations\u001b[38;5;241m.\u001b[39mappend(loan[[\u001b[38;5;124m'\u001b[39m\u001b[38;5;124mCUST_ID\u001b[39m\u001b[38;5;124m'\u001b[39m, \u001b[38;5;124m'\u001b[39m\u001b[38;5;124mBANK_NAME\u001b[39m\u001b[38;5;124m'\u001b[39m]]\u001b[38;5;241m.\u001b[39mdrop_duplicates()) \u001b[38;5;66;03m## Loan Accounts \u001b[39;00m\n",
      "File \u001b[0;32m/opt/conda/lib/python3.9/site-packages/pandas/core/frame.py:4096\u001b[0m, in \u001b[0;36mDataFrame.__getitem__\u001b[0;34m(self, key)\u001b[0m\n\u001b[1;32m   4094\u001b[0m     \u001b[38;5;28;01mif\u001b[39;00m is_iterator(key):\n\u001b[1;32m   4095\u001b[0m         key \u001b[38;5;241m=\u001b[39m \u001b[38;5;28mlist\u001b[39m(key)\n\u001b[0;32m-> 4096\u001b[0m     indexer \u001b[38;5;241m=\u001b[39m \u001b[38;5;28;43mself\u001b[39;49m\u001b[38;5;241;43m.\u001b[39;49m\u001b[43mcolumns\u001b[49m\u001b[38;5;241;43m.\u001b[39;49m\u001b[43m_get_indexer_strict\u001b[49m\u001b[43m(\u001b[49m\u001b[43mkey\u001b[49m\u001b[43m,\u001b[49m\u001b[43m \u001b[49m\u001b[38;5;124;43m\"\u001b[39;49m\u001b[38;5;124;43mcolumns\u001b[39;49m\u001b[38;5;124;43m\"\u001b[39;49m\u001b[43m)\u001b[49m[\u001b[38;5;241m1\u001b[39m]\n\u001b[1;32m   4098\u001b[0m \u001b[38;5;66;03m# take() does not accept boolean indexers\u001b[39;00m\n\u001b[1;32m   4099\u001b[0m \u001b[38;5;28;01mif\u001b[39;00m \u001b[38;5;28mgetattr\u001b[39m(indexer, \u001b[38;5;124m\"\u001b[39m\u001b[38;5;124mdtype\u001b[39m\u001b[38;5;124m\"\u001b[39m, \u001b[38;5;28;01mNone\u001b[39;00m) \u001b[38;5;241m==\u001b[39m \u001b[38;5;28mbool\u001b[39m:\n",
      "File \u001b[0;32m/opt/conda/lib/python3.9/site-packages/pandas/core/indexes/base.py:6199\u001b[0m, in \u001b[0;36mIndex._get_indexer_strict\u001b[0;34m(self, key, axis_name)\u001b[0m\n\u001b[1;32m   6196\u001b[0m \u001b[38;5;28;01melse\u001b[39;00m:\n\u001b[1;32m   6197\u001b[0m     keyarr, indexer, new_indexer \u001b[38;5;241m=\u001b[39m \u001b[38;5;28mself\u001b[39m\u001b[38;5;241m.\u001b[39m_reindex_non_unique(keyarr)\n\u001b[0;32m-> 6199\u001b[0m \u001b[38;5;28;43mself\u001b[39;49m\u001b[38;5;241;43m.\u001b[39;49m\u001b[43m_raise_if_missing\u001b[49m\u001b[43m(\u001b[49m\u001b[43mkeyarr\u001b[49m\u001b[43m,\u001b[49m\u001b[43m \u001b[49m\u001b[43mindexer\u001b[49m\u001b[43m,\u001b[49m\u001b[43m \u001b[49m\u001b[43maxis_name\u001b[49m\u001b[43m)\u001b[49m\n\u001b[1;32m   6201\u001b[0m keyarr \u001b[38;5;241m=\u001b[39m \u001b[38;5;28mself\u001b[39m\u001b[38;5;241m.\u001b[39mtake(indexer)\n\u001b[1;32m   6202\u001b[0m \u001b[38;5;28;01mif\u001b[39;00m \u001b[38;5;28misinstance\u001b[39m(key, Index):\n\u001b[1;32m   6203\u001b[0m     \u001b[38;5;66;03m# GH 42790 - Preserve name from an Index\u001b[39;00m\n",
      "File \u001b[0;32m/opt/conda/lib/python3.9/site-packages/pandas/core/indexes/base.py:6251\u001b[0m, in \u001b[0;36mIndex._raise_if_missing\u001b[0;34m(self, key, indexer, axis_name)\u001b[0m\n\u001b[1;32m   6248\u001b[0m     \u001b[38;5;28;01mraise\u001b[39;00m \u001b[38;5;167;01mKeyError\u001b[39;00m(\u001b[38;5;124mf\u001b[39m\u001b[38;5;124m\"\u001b[39m\u001b[38;5;124mNone of [\u001b[39m\u001b[38;5;132;01m{\u001b[39;00mkey\u001b[38;5;132;01m}\u001b[39;00m\u001b[38;5;124m] are in the [\u001b[39m\u001b[38;5;132;01m{\u001b[39;00maxis_name\u001b[38;5;132;01m}\u001b[39;00m\u001b[38;5;124m]\u001b[39m\u001b[38;5;124m\"\u001b[39m)\n\u001b[1;32m   6250\u001b[0m not_found \u001b[38;5;241m=\u001b[39m \u001b[38;5;28mlist\u001b[39m(ensure_index(key)[missing_mask\u001b[38;5;241m.\u001b[39mnonzero()[\u001b[38;5;241m0\u001b[39m]]\u001b[38;5;241m.\u001b[39munique())\n\u001b[0;32m-> 6251\u001b[0m \u001b[38;5;28;01mraise\u001b[39;00m \u001b[38;5;167;01mKeyError\u001b[39;00m(\u001b[38;5;124mf\u001b[39m\u001b[38;5;124m\"\u001b[39m\u001b[38;5;132;01m{\u001b[39;00mnot_found\u001b[38;5;132;01m}\u001b[39;00m\u001b[38;5;124m not in index\u001b[39m\u001b[38;5;124m\"\u001b[39m)\n",
      "\u001b[0;31mKeyError\u001b[0m: \"['BANK_NAME'] not in index\""
     ]
    }
   ],
   "source": [
    "bank_relations = account[['CUST_ID', 'BANK_NAME']].drop_duplicates() ### Savings / Current Accounts\n",
    "\n",
    "bank_relations = bank_relations.append(term_deposit[['CUST_ID', 'BANK_NAME']].drop_duplicates()) ## TD Accounts\n",
    "bank_relations = bank_relations.append(loan[['CUST_ID', 'BANK_NAME']].drop_duplicates()) ## Loan Accounts \n",
    "bank_relations = bank_relations.append(credit_card[['CUST_ID', 'BANK_NAME']].drop_duplicates()) ## CC Accounts\n",
    "\n",
    "bank_relations.drop_duplicates(inplace=True)\n",
    "bank_relations.reset_index(inplace=True)\n",
    "bank_relations.drop('index', axis=1, inplace=True)\n",
    "\n",
    "## Dr_sum = pd.DataFrame(txn_Dr.groupby('txn_Dt')['txn_amount'].sum())\n",
    "\n",
    "bank_relation_cnt = pd.DataFrame(bank_relations.groupby('CUST_ID').size()).reset_index()\n",
    "\n",
    "bank_relation_cnt.rename(columns = {0:'BANK_RELATION_CNT'}, inplace=True)\n",
    "\n",
    "Cust_Dashboard = pd.merge(Cust_Dashboard, bank_relation_cnt, how='left', on='CUST_ID')\n",
    "\n",
    "Cust_Dashboard['BANK_NAME'] = 'All'"
   ]
  },
  {
   "cell_type": "markdown",
   "id": "10bfade2-8a65-45a9-8ab3-15cb97edf6d8",
   "metadata": {},
   "source": [
    "# Generate Customer level and other aggregate tables for each bank"
   ]
  },
  {
   "cell_type": "code",
   "execution_count": null,
   "id": "68802f6c-6d83-490e-b90a-f06546818d30",
   "metadata": {},
   "outputs": [],
   "source": [
    "for b in bank_name:\n",
    "    \n",
    "    Cust_Dashboard_b = pd.DataFrame(columns = ['CUST_ID', 'BALANCE', 'AVG_BALANCE', 'AVG_INCOME', 'AVG_EXPENSE'])  ### Initiate the dataframe  , 'Bank_Name'\n",
    "    \n",
    "    EOD_Acc_Level_b = EOD_Acc_Level.loc[EOD_Acc_Level['BANK_NAME']==b] ### Filter for only one Bank Name\n",
    "    EOW_Acc_Level_b = EOW_Acc_Level.loc[EOW_Acc_Level['BANK_NAME']==b]\n",
    "    EOM_Acc_Level_b = EOM_Acc_Level.loc[EOM_Acc_Level['BANK_NAME']==b]\n",
    "    subscriptions_b = subscriptions_orig.loc[subscriptions_orig['BANK_NAME']==b]\n",
    "    term_deposit_b = term_deposit.loc[term_deposit['BANK_NAME']==b]\n",
    "    loan_b = loan.loc[loan['BANK_NAME']==b]\n",
    "    credit_card_b = credit_card.loc[credit_card['BANK_NAME']==b]\n",
    "    \n",
    "    ##x1 = list(set(EOD_Acc_Level_b['Cust_ID']) & set(x1))  #### Temporary remove it later\n",
    "   \n",
    "\n",
    "    \n",
    "    EOW_Cust_Level_b = pd.DataFrame(EOW_Acc_Level_b.groupby(['CUST_ID', 'WK_NUM-YR','WK_START_DT', 'WK_END_DT'])[['EOW_BALANCE', 'EOW_TOTAL_CR', 'EOW_TOTAL_DR', 'EOW_TOTAL_INCOME','EOW_TOTAL_EXPENSE']].sum())\n",
    "    EOW_Cust_Level_b.reset_index(inplace=True)\n",
    "    EOW_Cust_Level_b.fillna(0, inplace=True)\n",
    "    EOW_Cust_Level_b.replace(np.nan, 0, inplace=True)\n",
    "    EOW_Cust_Level_b['BANK_NAME'] = b\n",
    "    \n",
    "    #### Find the slope for Customers at daily level for each block of Wk_Num-Yr ######\n",
    "    slope_cols = ['SLOPE_BALANCE', 'SLOPE_TOTAL_CR', 'SLOPE_TOTAL_DR', 'SLOPE_TOTAL_INCOME', 'SLOPE_TOTAL_EXPENSE']        \n",
    "    amount_cols = ['EOD_BALANCE', 'EOD_TOTAL_DR', 'EOD_TOTAL_CR', 'EOD_TOTAL_INCOME', 'EOD_TOTAL_EXPENSE']\n",
    "    \n",
    "    temp_Cust_Daily = EOD_Cust_Level_b\n",
    "    temp_Cust_Daily['WK_NUM-YR'] = [datetime.strptime(x, '%Y-%m-%d').strftime('%Y-W%W') for x in temp_Cust_Daily['DT']]\n",
    "        \n",
    "    \n",
    "    for iamt in range(len(amount_cols)):\n",
    "        slope_temp = []\n",
    "        for i in x1:\n",
    "            temp_Wk_Num = sorted(set(temp_Cust_Daily['WK_NUM-YR'].loc[temp_Cust_Daily['CUST_ID']==i]))\n",
    "            for iwk in temp_Wk_Num:\n",
    "                temp_Daily = temp_Cust_Daily[amount_cols[iamt]].loc[(temp_Cust_Daily['CUST_ID']==i) & (temp_Cust_Daily['WK_NUM-YR']==iwk)]\n",
    "                ##print(temp_Daily.shape)\n",
    "                slope_EOD = list(temp_Cust_Daily[amount_cols[iamt]].loc[(temp_Cust_Daily['CUST_ID']==i) & (temp_Cust_Daily['WK_NUM-YR']==iwk)])\n",
    "                #if any([len(slope_EOD)<2]+[math.isnan(x) for x in slope_EOD]):\n",
    "                if len(slope_EOD)<2:\n",
    "                    slope_temp = slope_temp + [0]\n",
    "                else:\n",
    "                    slope_temp = slope_temp + [round(np.polyfit(list(range(len(slope_EOD))), slope_EOD, 1)[0], 2)]\n",
    "        EOW_Cust_Level_b[slope_cols[iamt]]=slope_temp\n",
    "    \n",
    "    ####### Clean-up: Drop / Add columns etc ##############\n",
    "    \n",
    "    ##EOD_Cust_Level_b.drop(['WK_NUM-YR'], axis=1, inplace=True)   ### 'MTH_NUM-YR'\n",
    "    \n",
    "    EOW_Cust_Level = EOW_Cust_Level.append(EOW_Cust_Level_b)\n",
    "    \n",
    "    EOM_Cust_Level_b = pd.DataFrame(EOM_Acc_Level_b.groupby(['CUST_ID', 'MTH_NUM-YR'])[['EOM_BALANCE', 'EOM_TOTAL_CR', 'EOM_TOTAL_DR', 'EOM_TOTAL_INCOME','EOM_TOTAL_EXPENSE']].sum())\n",
    "    EOM_Cust_Level_b.reset_index(inplace=True)\n",
    "    EOM_Cust_Level_b.fillna(0, inplace=True)\n",
    "    EOM_Cust_Level_b.replace(np.nan, 0, inplace=True)\n",
    "    EOM_Cust_Level_b['BANK_NAME'] = b\n",
    "    EOM_Cust_Level_b['YR'] = [x[:4] for x in EOM_Cust_Level_b['MTH_NUM-YR']]\n",
    "    EOM_Cust_Level_b['MTH_NUM'] = [x[-2:] for x in EOM_Cust_Level_b['MTH_NUM-YR']]\n",
    "    \n",
    "    Mth_Name = {'01':'January', '02':'February', '03':'March', '04':'April', '05':'May', '06':'June', '07':'July', '08':'August', '09':'September', '10':'October', '11':'November', '12':'December'}\n",
    "    \n",
    "    EOM_Cust_Level_b['MTH'] = [Mth_Name[x] for x in EOM_Cust_Level_b['MTH_NUM']]\n",
    "    \n",
    "    ##EOM_Cust_Level.drop('MTH_NUM', axis=1, inplace=True)\n",
    "    \n",
    "    #### Find the slope for Customers at weekly level for each block of Mth_Num-Yr ######\n",
    "    \n",
    "    temp_Cust_Daily = EOD_Cust_Level_b\n",
    "    temp_Cust_Daily['MTH_NUM-YR'] = [datetime.strptime(x, '%Y-%m-%d').strftime('%Y-%m') for x in temp_Cust_Daily['DT']]\n",
    "        \n",
    "    for iamt in range(len(amount_cols)):\n",
    "        slope_temp = []\n",
    "        for i in x1:\n",
    "            temp_Mth_Num = sorted(set(temp_Cust_Daily['MTH_NUM-YR'].loc[temp_Cust_Daily['CUST_ID']==i]))\n",
    "            for imth in temp_Mth_Num:\n",
    "                temp_Daily = temp_Cust_Daily[amount_cols[iamt]].loc[(temp_Cust_Daily['CUST_ID']==i) & (temp_Cust_Daily['WK_NUM-YR']==imth)]\n",
    "                ##print(temp_Daily.shape)\n",
    "                slope_EOD = list(temp_Cust_Daily[amount_cols[iamt]].loc[(temp_Cust_Daily['CUST_ID']==i) & (temp_Cust_Daily['MTH_NUM-YR']==imth)])\n",
    "                #if any([len(slope_EOD)<2]+[math.isnan(x) for x in slope_EOD]):\n",
    "                if len(slope_EOD)<2:\n",
    "                    slope_temp = slope_temp + [0]\n",
    "                else:\n",
    "                    slope_temp = slope_temp + [round(np.polyfit(range(len(slope_EOD)), slope_EOD, 1)[0], 2)]\n",
    "        EOM_Cust_Level_b[slope_cols[iamt]]=slope_temp\n",
    "    \n",
    "    EOM_Cust_Level = EOM_Cust_Level.append(EOM_Cust_Level_b)\n",
    "    \n",
    "      \n",
    "    print('Customer level tables generated for ', b)\n",
    "    \n",
    "    ##### Generation of Customer Dashboard Table ########################\n",
    "    \n",
    "    for i in x1:\n",
    "        Cust_Daily = EOD_Cust_Level.loc[EOD_Cust_Level['CUST_ID']==i, 'EOD_BALANCE']    ### This is at account level\n",
    "        balance = list(Cust_Daily)[-1] if len(Cust_Daily)>0 else 0\n",
    "        Cust_Mthly = EOM_Cust_Level_b.loc[EOM_Cust_Level_b['CUST_ID']==i, ['EOM_BALANCE', 'EOM_TOTAL_INCOME', 'EOM_TOTAL_EXPENSE']]\n",
    "        if len(Cust_Mthly)>0:\n",
    "            n1 = min(6, len(Cust_Mthly))\n",
    "            Avg_Balance = round(np.mean(list(Cust_Mthly['EOM_BALANCE'])[-n1:]), 2)\n",
    "            Avg_Income = round(np.mean(list(Cust_Mthly['EOM_TOTAL_INCOME'])[-n1:]), 2)\n",
    "            Avg_Expense = round(np.mean(list(Cust_Mthly['EOM_TOTAL_EXPENSE'])[-n1:]), 2)\n",
    "        else:\n",
    "            Avg_Balance, Avg_Income, Avg_Expense = 0, 0, 0\n",
    "        \n",
    "        delta_Cust_Dashboard = pd.DataFrame({'CUST_ID':[i], 'BALANCE':[balance], \n",
    "                                              'AVG_BALANCE':[Avg_Balance], \n",
    "                                              'AVG_INCOME':[Avg_Income], 'AVG_EXPENSE':[Avg_Expense]})\n",
    "        \n",
    "                \n",
    "        Cust_Dashboard_b = Cust_Dashboard_b.append(delta_Cust_Dashboard)\n",
    "    \n",
    "    Cust_Dashboard_b.reset_index(inplace=True)\n",
    "    Cust_Dashboard_b.drop('index', axis=1, inplace=True)\n",
    "    \n",
    "    Fees_Charges = pd.DataFrame(subscriptions_b.groupby(['CUST_ID'])[['AMOUNT']].sum())\n",
    "    Fees_Charges.reset_index(inplace=True)\n",
    "    Fees_CC = credit_card.loc[credit_card['ANNUAL_FEE']>0, ['CUST_ID', 'ANNUAL_FEE']]\n",
    "    Fees_CC = pd.DataFrame(Fees_CC.groupby('CUST_ID')['ANNUAL_FEE'].sum())\n",
    "    Fees_CC.reset_index(inplace=True)\n",
    "    \n",
    "    Fees_Charges = pd.merge(Fees_Charges, Fees_CC, how='outer', on = 'CUST_ID')\n",
    "    \n",
    "    Fees_Charges['FEES_CHARGES'] = Fees_Charges['AMOUNT']+Fees_Charges['ANNUAL_FEE']\n",
    "    \n",
    "    Cust_Dashboard_B = pd.merge(Cust_Dashboard_b, Fees_Charges[['CUST_ID', 'FEES_CHARGES']], on = 'CUST_ID', how = 'left')\n",
    "    \n",
    "    Cust_Dashboard_B = pd.merge(Cust_Dashboard_B, financials, on = 'CUST_ID', how = 'left')\n",
    "    \n",
    "    ##Cust_Dashboard['Peer_Credit_Score']=[int(round(np.mean([random.choice(list(financials['Credit_Score'])) for _ in range(10)]), 0)) for _ in range(len(x1))]\n",
    "    \n",
    "    similar_subsc = pd.DataFrame(subscriptions_b.groupby(['CUST_ID', 'CATEGORY']).size())\n",
    "    similar_subsc.reset_index(inplace=True)\n",
    "    similar_subsc.rename(columns={0:'SUBSCRIPTIONS_COUNT'}, inplace=True)\n",
    "    \n",
    "    subscriptions_b = pd.merge(subscriptions_b, similar_subsc, how='left', left_on = ['CUST_ID', 'CATEGORY'], right_on = ['CUST_ID', 'CATEGORY'])\n",
    "    subscriptions_b['BANK_NAME'] = b\n",
    "    subscriptions_b.sort_values(by = ['CUST_ID', 'CATEGORY'], ascending = [True, True], inplace=True)\n",
    "    \n",
    "    subscriptions = subscriptions.append(subscriptions_b)\n",
    "    \n",
    "    ###### Upcoming Payouts - Present month due date ##################\n",
    "    \n",
    "    Upcoming_TD = term_deposit.loc[(term_deposit['DEPOSIT_TYPE']=='Recurring Deposit') & (term_deposit['DUE_DT']>=now1.day), ['CUST_ID', 'DUE_DT', 'MTHLY_PAYMENT']]\n",
    "    Upcoming_TD['TABLE_NAME'] = 'Term_Deposit'\n",
    "    Upcoming_TD['TYPE'] = 'Term Deposit'\n",
    "    Upcoming_OP_b = Upcoming_TD\n",
    "    \n",
    "    Upcoming_Loan = loan.loc[(loan['LOAN_STATUS'].isin(['Active', 'Default'])) & (loan['DUE_DT']>=now1.day), ['CUST_ID', 'DUE_DT', 'MTHLY_PAYMENT', 'LOAN_TYPE']]\n",
    "    Upcoming_Loan['TABLE_NAME'] = 'Loan'\n",
    "    Upcoming_Loan.rename(columns={'LOAN_TYPE':'TYPE'}, inplace=True)\n",
    "    Upcoming_OP_b = Upcoming_OP_b.append(Upcoming_Loan)\n",
    "    \n",
    "    Upcoming_CC = credit_card.loc[(credit_card['Status']=='Active') & (credit_card['DUE_DT']>=now1.day), ['CUST_ID', 'DUE_DT', 'MTHLY_PAYMENT', 'CARD_PROVIDER']]\n",
    "    Upcoming_CC['TABLE_NAME'] = 'Credit Card'\n",
    "    Upcoming_CC.rename(columns={'CARD_PROVIDER':'TYPE'}, inplace=True)\n",
    "    Upcoming_OP_b = Upcoming_OP_b.append(Upcoming_CC)\n",
    "        \n",
    "    Upcoming_OP_b.sort_values(by = ['CUST_ID', 'MTHLY_PAYMENT', 'DUE_DT'], ascending = [True, False, True], inplace=True)\n",
    "    \n",
    "    Upcoming_OP_b['DUE_DT_STR'] = [str(x)+now1.strftime(' %b')+str(now1.strftime('%y')) for x in Upcoming_OP_b['DUE_DT']]\n",
    "    \n",
    "    \n",
    "    ###### Upcoming Payouts - Next month due date ##################\n",
    "    \n",
    "    Upcoming_TD = term_deposit.loc[(term_deposit['DEPOSIT_TYPE']=='Recurring Deposit') & (term_deposit['DUE_DT']<now1.day), ['CUST_ID', 'DUE_DT', 'MTHLY_PAYMENT']]\n",
    "    Upcoming_TD['TABLE_NAME'] = 'Term_Deposit'\n",
    "    Upcoming_TD['TYPE'] = 'Term Deposit'\n",
    "    Upcoming_OP1 = Upcoming_TD\n",
    "    \n",
    "    Upcoming_Loan = loan.loc[(loan['LOAN_STATUS'].isin(['Active', 'Default'])) & (loan['DUE_DT']<now1.day), ['CUST_ID', 'DUE_DT', 'MTHLY_PAYMENT', 'LOAN_TYPE']]\n",
    "    Upcoming_Loan['TABLE_NAME'] = 'Loan'\n",
    "    Upcoming_Loan.rename(columns={'LOAN_TYPE':'TYPE'}, inplace=True)\n",
    "    Upcoming_OP1 = Upcoming_OP1.append(Upcoming_Loan)\n",
    "    \n",
    "    Upcoming_CC = credit_card.loc[(credit_card['STATUS']=='Active') & (credit_card['DUE_DT']<now1.day), ['CUST_ID', 'DUE_DT', 'MTHLY_PAYMENT', 'CARD_PROVIDER']]\n",
    "    Upcoming_CC['TABLE_NAME'] = 'Credit Card'\n",
    "    Upcoming_CC.rename(columns={'CARD_PROVIDER':'TYPE'}, inplace=True)\n",
    "    Upcoming_OP1 = Upcoming_OP1.append(Upcoming_CC)\n",
    "    \n",
    "    \n",
    "    Upcoming_OP1.sort_values(by = ['CUST_ID', 'MTHLY_PAYMENT', 'DUE_DT'], ascending = [True, False, True], inplace=True)\n",
    "    \n",
    "    nxt_mth = now1.replace(day=1)+timedelta(days=31)   ### Get a day of next month\n",
    "    \n",
    "    Upcoming_OP1['DUE_DT_STR'] = [str(x)+nxt_mth.strftime(' %b')+str(nxt_mth.strftime('%y')) for x in Upcoming_OP1['DUE_DT']]\n",
    "    \n",
    "    Upcoming_OP_b = Upcoming_OP_b.append(Upcoming_OP1)\n",
    "    \n",
    "    Upcoming_OP_b.reset_index(inplace=True)\n",
    "    Upcoming_OP_b.drop('index', axis=1, inplace=True)\n",
    "    Upcoming_OP_b['BANK_NAME'] = b\n",
    "    \n",
    "    Upcoming_OP = Upcoming_OP.append(Upcoming_OP_b)  ### Append to the main Upcoming_OP table\n",
    "    \n",
    "    transactions['TXN_DT'] = pd.to_datetime(transactions['TXN_DT'])\n",
    "    \n",
    "    temp2 = transactions.loc[(transactions['DR_CR']=='Dr') & (transactions['TXN_DT']>=now1-timedelta(days=30)), ['CUST_ID', 'TXN_AMOUNT', 'EXPENSE_CATEGORY', 'TXN_DT']]\n",
    "        \n",
    "    expense_b=pd.DataFrame(temp2.groupby(['CUST_ID', 'EXPENSE_CATEGORY'])['TXN_AMOUNT'].sum()) ## Bankwise expense table \n",
    "    \n",
    "    expense_b.reset_index(inplace=True)\n",
    "    expense_b['BANK_NAME'] = b\n",
    "    \n",
    "    expense = expense.append(expense_b)   #### append to the main expense table\n",
    "    \n",
    "    ########## Map the Bank Name for all the account level tables ##########\n",
    "    \n",
    "    # map_bank_name = account[['ACC_BBAN', 'BANK_NAME']].drop_duplicates()  \n",
    "    \n",
    "    # EOD_Acc_Level = pd.merge(EOD_Acc_Level, map_bank_name, how = 'left', on='ACC_BBAN')\n",
    "    # EOW_Acc_Level = pd.merge(EOW_Acc_Level, map_bank_name, how = 'left', on='ACC_BBAN')\n",
    "    # EOM_Acc_Level = pd.merge(EOM_Acc_Level, map_bank_name, how = 'left', on='ACC_BBAN')\n",
    "    \n",
    "    ###### Table 'bank_relations' gives the list of all banks where a customer has relationship ####\n",
    "    \n",
    "    bank_relations = account[['CUST_ID', 'BANK_NAME']].drop_duplicates() ### Savings / Current Accounts\n",
    "    \n",
    "    bank_relations = bank_relations.append(term_deposit[['CUST_ID', 'BANK_NAME']].drop_duplicates()) ## TD Accounts\n",
    "    bank_relations = bank_relations.append(loan[['CUST_ID', 'BANK_NAME']].drop_duplicates()) ## Loan Accounts \n",
    "    bank_relations = bank_relations.append(credit_card[['CUST_ID', 'BANK_NAME']].drop_duplicates()) ## CC Accounts\n",
    "    \n",
    "    bank_relations.drop_duplicates(inplace=True)\n",
    "    bank_relations.reset_index(inplace=True)\n",
    "    bank_relations.drop('index', axis=1, inplace=True)\n",
    "    \n",
    "    ## Dr_sum = pd.DataFrame(txn_Dr.groupby('TXN_DT')['TXN_AMOUNT'].sum())\n",
    "    \n",
    "    bank_relation_cnt = pd.DataFrame(bank_relations.groupby('CUST_ID').size()).reset_index()\n",
    "    \n",
    "    bank_relation_cnt.rename(columns = {0:'BANK_RELATION_CNT'}, inplace=True)\n",
    "    \n",
    "    #Cust_Dashboard_B = pd.merge(Cust_Dashboard_B, bank_relation_cnt, how='left', on='CUST_ID') --> Throwing Error\n",
    "    Cust_Dashboard_B = pd.concat([Cust_Dashboard_B, bank_relation_cnt], , ignore_index=True)\t\n",
    "    \n",
    "    Cust_Dashboard_B['BANK_NAME'] = b\n",
    "    \n",
    "    Cust_Dashboard = Cust_Dashboard.append(Cust_Dashboard_B)\n"
   ]
  },
  {
   "cell_type": "markdown",
   "id": "8667e919-7f82-4dcc-a2d7-7af6bb335daf",
   "metadata": {},
   "source": [
    "# Write back data into Snowflake"
   ]
  },
  {
   "cell_type": "code",
   "execution_count": null,
   "id": "e9625bc4-04b0-4609-a8ef-8f9f4dd72621",
   "metadata": {},
   "outputs": [],
   "source": [
    "sf_df=my_session.createDataFrame(\n",
    "        EOD_Acc_Level.values.tolist(),\n",
    "        schema=EOD_Acc_Level.columns.tolist())\n",
    "sf_df.write.mode(\"overwrite\").save_as_table(\"BFS_HYPER_PERSNL_DB.BFS_HYPER_PERSNL_SCHEMA.CUSTOMER_ACCOUNT_DAILY\")"
   ]
  },
  {
   "cell_type": "code",
   "execution_count": null,
   "id": "f0a3e10a-57d0-476a-957d-1ff8a5237c13",
   "metadata": {},
   "outputs": [],
   "source": [
    "sf_df=my_session.createDataFrame(\n",
    "        EOD_Acc_Level.values.tolist(),\n",
    "        schema=EOD_Acc_Level.columns.tolist())\n",
    "sf_df.write.mode(\"overwrite\").save_as_table(\"BFS_HYPER_PERSNL_DB.BFS_HYPER_PERSNL_SCHEMA.ACCOUNT_DAILY\")"
   ]
  },
  {
   "cell_type": "code",
   "execution_count": null,
   "id": "757f4d53-9f87-4e96-bde7-37a2fdab959a",
   "metadata": {},
   "outputs": [],
   "source": [
    "sf_df=my_session.createDataFrame(\n",
    "        EOD_Cust_Level.values.tolist(),\n",
    "        schema=EOD_Cust_Level.columns.tolist())\n",
    "sf_df.write.mode(\"overwrite\").save_as_table(\"BFS_HYPER_PERSNL_DB.BFS_HYPER_PERSNL_SCHEMA.CUSTOMER_DAILY\")"
   ]
  },
  {
   "cell_type": "code",
   "execution_count": null,
   "id": "95261fb8-0b9e-4a10-8a96-1416da0fdc45",
   "metadata": {},
   "outputs": [],
   "source": [
    "sf_df=my_session.createDataFrame(\n",
    "        EOW_Acc_Level.values.tolist(),\n",
    "        schema=EOW_Acc_Level.columns.tolist())\n",
    "sf_df.write.mode(\"overwrite\").save_as_table(\"BFS_HYPER_PERSNL_DB.BFS_HYPER_PERSNL_SCHEMA.ACCOUNT_WEEKLY\")"
   ]
  },
  {
   "cell_type": "code",
   "execution_count": null,
   "id": "c2acbec8-05a8-4b50-a526-36b4df543be6",
   "metadata": {},
   "outputs": [],
   "source": [
    "sf_df=my_session.createDataFrame(\n",
    "        EOW_Cust_Level.values.tolist(),\n",
    "        schema=EOW_Cust_Level.columns.tolist())\n",
    "sf_df.write.mode(\"overwrite\").save_as_table(\"BFS_HYPER_PERSNL_DB.BFS_HYPER_PERSNL_SCHEMA.CUSTOMER_WEEKLY\")"
   ]
  },
  {
   "cell_type": "code",
   "execution_count": null,
   "id": "e1f43577-77bd-444f-a7c4-f6915263b06d",
   "metadata": {},
   "outputs": [],
   "source": [
    "sf_df=my_session.createDataFrame(\n",
    "        EOM_Acc_Level..values.tolist(),\n",
    "        schema=EOM_Acc_Level..columns.tolist())\n",
    "sf_df.write.mode(\"overwrite\").save_as_table(\"BFS_HYPER_PERSNL_DB.BFS_HYPER_PERSNL_SCHEMA.ACCOUNT_MONTHLY\")"
   ]
  },
  {
   "cell_type": "code",
   "execution_count": null,
   "id": "3c761a71-23f7-4e23-bc22-0124fa3412ca",
   "metadata": {},
   "outputs": [],
   "source": [
    "sf_df=my_session.createDataFrame(\n",
    "        EOM_Cust_Level.values.tolist(),\n",
    "        schema=EOM_Cust_Level.columns.tolist())\n",
    "sf_df.write.mode(\"overwrite\").save_as_table(\"BFS_HYPER_PERSNL_DB.BFS_HYPER_PERSNL_SCHEMA.CUSTOMER_MONTHLY\")"
   ]
  },
  {
   "cell_type": "code",
   "execution_count": null,
   "id": "47bbbb7d-8f7d-4d77-8f1a-cc7b9e3dd5a5",
   "metadata": {},
   "outputs": [],
   "source": [
    "sf_df=my_session.createDataFrame(\n",
    "        Cust_Dashboard.values.tolist(),\n",
    "        schema=Cust_Dashboard.columns.tolist())\n",
    "sf_df.write.mode(\"overwrite\").save_as_table(\"BFS_HYPER_PERSNL_DB.BFS_HYPER_PERSNL_SCHEMA.CUSTOMER_DASHBOARD\")"
   ]
  },
  {
   "cell_type": "code",
   "execution_count": null,
   "id": "1ffa77ef-7496-4f14-9948-b84ee3848ef4",
   "metadata": {},
   "outputs": [],
   "source": [
    "sf_df=my_session.createDataFrame(\n",
    "        subscriptions.values.tolist(),\n",
    "        schema=subscriptions.columns.tolist())\n",
    "sf_df.write.mode(\"overwrite\").save_as_table(\"BFS_HYPER_PERSNL_DB.BFS_HYPER_PERSNL_SCHEMA.CUSTOMER_SUBSCRIPTIONS\")"
   ]
  },
  {
   "cell_type": "code",
   "execution_count": null,
   "id": "2e435a73-98bb-424d-ad0f-ade534c9abc8",
   "metadata": {},
   "outputs": [],
   "source": [
    "sf_df=my_session.createDataFrame(\n",
    "        Upcoming_OP.values.tolist(),\n",
    "        schema=Upcoming_OP.columns.tolist())\n",
    "sf_df.write.mode(\"overwrite\").save_as_table(\"BFS_HYPER_PERSNL_DB.BFS_HYPER_PERSNL_SCHEMA.CUSTOMER_UPCOMING_OUTSTANDING\")"
   ]
  },
  {
   "cell_type": "code",
   "execution_count": null,
   "id": "e0c08a9a-e6aa-4529-89e1-d274df172eaf",
   "metadata": {},
   "outputs": [],
   "source": [
    "sf_df=my_session.createDataFrame(\n",
    "        expense.values.tolist(),\n",
    "        schema=expense.columns.tolist())\n",
    "sf_df.write.mode(\"overwrite\").save_as_table(\"BFS_HYPER_PERSNL_DB.BFS_HYPER_PERSNL_SCHEMA.CUSTOMER_EXPENSE\")"
   ]
  },
  {
   "cell_type": "code",
   "execution_count": null,
   "id": "b9099819-7ad7-403d-87b8-f144a0e5ac8f",
   "metadata": {},
   "outputs": [],
   "source": [
    "sf_df=my_session.createDataFrame(\n",
    "        bank_relations.values.tolist(),\n",
    "        schema=bank_relations.columns.tolist())\n",
    "sf_df.write.mode(\"overwrite\").save_as_table(\"BFS_HYPER_PERSNL_DB.BFS_HYPER_PERSNL_SCHEMA.CUSTOMER_BANK_RELATIONS\")"
   ]
  }
 ],
 "metadata": {
  "kernelspec": {
   "display_name": "Python 3 (ipykernel)",
   "language": "python",
   "name": "python3"
  },
  "language_info": {
   "codemirror_mode": {
    "name": "ipython",
    "version": 3
   },
   "file_extension": ".py",
   "mimetype": "text/x-python",
   "name": "python",
   "nbconvert_exporter": "python",
   "pygments_lexer": "ipython3",
   "version": "3.9.19"
  }
 },
 "nbformat": 4,
 "nbformat_minor": 5
}
