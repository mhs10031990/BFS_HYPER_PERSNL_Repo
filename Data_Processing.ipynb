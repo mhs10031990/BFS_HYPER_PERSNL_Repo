{
 "cells": [
  {
   "cell_type": "markdown",
   "id": "eb02e1f9-3f94-4bd3-83b8-450ae8f6a97c",
   "metadata": {},
   "source": [
    "# Use HYPER_PERSNL_Template Customized Notebook Template"
   ]
  },
  {
   "cell_type": "code",
   "execution_count": 2,
   "id": "110ab7e7-fd1a-4d75-a870-37a09c8cbcf4",
   "metadata": {},
   "outputs": [],
   "source": [
    "import pandas as pd\n",
    "from datetime import datetime\n",
    "from datetime import timedelta\n",
    "infer_datetime_format=True\n",
    "\n",
    "import numpy as np\n",
    "import random\n",
    "\n",
    "import matplotlib.pyplot as plt\n",
    "plt.rcParams.update({'figure.figsize':(9,7), 'figure.dpi':120})\n",
    "\n",
    "random.seed(0)\n",
    "\n",
    "now1 = datetime.now()"
   ]
  },
  {
   "cell_type": "code",
   "execution_count": 3,
   "id": "9a6fc60c-070f-4023-95ce-2df4269fdcd4",
   "metadata": {},
   "outputs": [],
   "source": [
    "from fosforml.model_manager.snowflakesession import get_session\n",
    "my_session = get_session()"
   ]
  },
  {
   "cell_type": "code",
   "execution_count": 4,
   "id": "ee8d81f6-1842-496b-8975-42cd31745073",
   "metadata": {},
   "outputs": [],
   "source": [
    "table_name = 'CUSTOMER_ACCOUNT_DETAILS'\n",
    "\n",
    "sf_df = my_session.sql(\"select * from {}\".format(table_name))\n",
    "account = sf_df.to_pandas()"
   ]
  },
  {
   "cell_type": "code",
   "execution_count": 6,
   "id": "abf442fb-8aec-4183-811e-712c568d0867",
   "metadata": {},
   "outputs": [],
   "source": [
    "table_name = 'CUSTOMER_TRANSACTION_DETAILS'\n",
    "\n",
    "sf_df = my_session.sql(\"select * from {}\".format(table_name))\n",
    "transactions = sf_df.to_pandas()"
   ]
  },
  {
   "cell_type": "code",
   "execution_count": 7,
   "id": "ebcd4dc5-81d8-44e4-87d2-5ef7b5258ee0",
   "metadata": {
    "scrolled": true
   },
   "outputs": [
    {
     "data": {
      "text/plain": [
       "Index(['ACC_BBAN', 'ACC_IBAN', 'ACC_OPEN_DT', 'BALANCE', 'CUST_ID', 'EXPENSE',\n",
       "       'EXPENSE_CATEGORY', 'BROWSER', 'DEVICE', 'DR_CR', 'LOGIN_TIME',\n",
       "       'LOGOUT_TIME', 'TXN_DT', 'TXN_ID', 'TXN_AMOUNT', 'TXN_CODE',\n",
       "       'TXN_REMARKS', 'TXN_TIME', 'TXN_TYPE'],\n",
       "      dtype='object')"
      ]
     },
     "execution_count": 7,
     "metadata": {},
     "output_type": "execute_result"
    }
   ],
   "source": [
    "transactions.columns"
   ]
  },
  {
   "cell_type": "code",
   "execution_count": 8,
   "id": "3f86cfa4-eace-4b3b-9bd7-99a1696f28fc",
   "metadata": {},
   "outputs": [],
   "source": [
    "transactions.sort_values(by=['CUST_ID', 'ACC_BBAN', 'TXN_DT', 'TXN_TIME'], inplace=True) "
   ]
  },
  {
   "cell_type": "code",
   "execution_count": 9,
   "id": "eca3a691-3b58-4c27-93c3-558fd4dce81c",
   "metadata": {},
   "outputs": [],
   "source": [
    "table_name = 'CUSTOMER_FINANCE_BREAKDOWN'\n",
    "\n",
    "sf_df = my_session.sql(\"select * from {}\".format(table_name))\n",
    "financials = sf_df.to_pandas()"
   ]
  },
  {
   "cell_type": "code",
   "execution_count": 10,
   "id": "b3278d13-69bd-43f1-9c52-9d85f2337417",
   "metadata": {},
   "outputs": [],
   "source": [
    "table_name = 'CUSTOMER_SUBSCRIPTION_DETAILS'\n",
    "\n",
    "sf_df = my_session.sql(\"select * from {}\".format(table_name))\n",
    "subscriptions = sf_df.to_pandas()\n",
    "subscriptions_orig = subscriptions.copy(deep=True)"
   ]
  },
  {
   "cell_type": "code",
   "execution_count": 11,
   "id": "53254bd9-dbf2-49db-b0cc-6cb0e18d30ec",
   "metadata": {},
   "outputs": [],
   "source": [
    "table_name = 'CUSTOMER_TERM_DEPOSIT_DETAILS'\n",
    "\n",
    "sf_df = my_session.sql(\"select * from {}\".format(table_name))\n",
    "term_deposit = sf_df.to_pandas()"
   ]
  },
  {
   "cell_type": "code",
   "execution_count": 12,
   "id": "5983e53d-9929-4ca5-9148-d6228d83c0b8",
   "metadata": {},
   "outputs": [],
   "source": [
    "table_name = 'CUSTOMER_LOAN_DETAILS'\n",
    "\n",
    "sf_df = my_session.sql(\"select * from {}\".format(table_name))\n",
    "loan = sf_df.to_pandas()"
   ]
  },
  {
   "cell_type": "code",
   "execution_count": 13,
   "id": "549b5927-7f78-42cd-84c1-1a1970da78f1",
   "metadata": {},
   "outputs": [],
   "source": [
    "table_name = 'CUSTOMER_CREDITCARD_DETAILS'\n",
    "\n",
    "sf_df = my_session.sql(\"select * from {}\".format(table_name))\n",
    "credit_card = sf_df.to_pandas()"
   ]
  },
  {
   "cell_type": "code",
   "execution_count": 15,
   "id": "ab5219fc-7d0d-4965-ae92-3f53899d60e4",
   "metadata": {},
   "outputs": [],
   "source": [
    "x1 = list(set(transactions['CUST_ID']))"
   ]
  },
  {
   "cell_type": "code",
   "execution_count": 19,
   "id": "08e91efe-afea-44cd-95f7-f889b87beb11",
   "metadata": {},
   "outputs": [
    {
     "data": {
      "text/html": [
       "<div>\n",
       "<style scoped>\n",
       "    .dataframe tbody tr th:only-of-type {\n",
       "        vertical-align: middle;\n",
       "    }\n",
       "\n",
       "    .dataframe tbody tr th {\n",
       "        vertical-align: top;\n",
       "    }\n",
       "\n",
       "    .dataframe thead th {\n",
       "        text-align: right;\n",
       "    }\n",
       "</style>\n",
       "<table border=\"1\" class=\"dataframe\">\n",
       "  <thead>\n",
       "    <tr style=\"text-align: right;\">\n",
       "      <th></th>\n",
       "      <th>CUST_ID</th>\n",
       "      <th>ACC_IBAN</th>\n",
       "      <th>ACC_BBAN</th>\n",
       "      <th>ACC_OPEN_DT</th>\n",
       "      <th>BALANCE</th>\n",
       "      <th>ACC_STATUS</th>\n",
       "      <th>ACC_TYPE</th>\n",
       "    </tr>\n",
       "  </thead>\n",
       "  <tbody>\n",
       "    <tr>\n",
       "      <th>0</th>\n",
       "      <td>4185</td>\n",
       "      <td>GB90EMIC89482763544524</td>\n",
       "      <td>GDJY66571183273954</td>\n",
       "      <td>2001-03-22</td>\n",
       "      <td>$50.57</td>\n",
       "      <td>Active</td>\n",
       "      <td>Credit</td>\n",
       "    </tr>\n",
       "    <tr>\n",
       "      <th>1</th>\n",
       "      <td>291</td>\n",
       "      <td>GB83VYSJ52094207716710</td>\n",
       "      <td>OVWN34297715684777</td>\n",
       "      <td>2010-08-29</td>\n",
       "      <td>$74,111.13</td>\n",
       "      <td>Closed</td>\n",
       "      <td>Current</td>\n",
       "    </tr>\n",
       "    <tr>\n",
       "      <th>2</th>\n",
       "      <td>7497</td>\n",
       "      <td>GB17OCSO08226852523762</td>\n",
       "      <td>DLFO12501444293678</td>\n",
       "      <td>2000-09-04</td>\n",
       "      <td>$669.14</td>\n",
       "      <td>Active</td>\n",
       "      <td>Loan</td>\n",
       "    </tr>\n",
       "    <tr>\n",
       "      <th>3</th>\n",
       "      <td>7497</td>\n",
       "      <td>GB26RRMJ41734703010562</td>\n",
       "      <td>SZPN32742192244415</td>\n",
       "      <td>2010-09-05</td>\n",
       "      <td>$0.03</td>\n",
       "      <td>Active</td>\n",
       "      <td>Credit</td>\n",
       "    </tr>\n",
       "    <tr>\n",
       "      <th>4</th>\n",
       "      <td>7497</td>\n",
       "      <td>GB13JBDZ14742645466984</td>\n",
       "      <td>DAGC95804976124339</td>\n",
       "      <td>2006-02-14</td>\n",
       "      <td>$0.71</td>\n",
       "      <td>Closed</td>\n",
       "      <td>Credit</td>\n",
       "    </tr>\n",
       "    <tr>\n",
       "      <th>...</th>\n",
       "      <td>...</td>\n",
       "      <td>...</td>\n",
       "      <td>...</td>\n",
       "      <td>...</td>\n",
       "      <td>...</td>\n",
       "      <td>...</td>\n",
       "      <td>...</td>\n",
       "    </tr>\n",
       "    <tr>\n",
       "      <th>3101</th>\n",
       "      <td>2137</td>\n",
       "      <td>GB79MEEM68164816755595</td>\n",
       "      <td>JGQZ63653199537639</td>\n",
       "      <td>2020-07-08</td>\n",
       "      <td>$191.20</td>\n",
       "      <td>Active</td>\n",
       "      <td>Savings</td>\n",
       "    </tr>\n",
       "    <tr>\n",
       "      <th>3102</th>\n",
       "      <td>2137</td>\n",
       "      <td>GB72FWKV94464237567600</td>\n",
       "      <td>LCGK26173403352193</td>\n",
       "      <td>2011-06-05</td>\n",
       "      <td>$54,340.79</td>\n",
       "      <td>Closed</td>\n",
       "      <td>Savings</td>\n",
       "    </tr>\n",
       "    <tr>\n",
       "      <th>3103</th>\n",
       "      <td>3899</td>\n",
       "      <td>GB97XFCA41641435894700</td>\n",
       "      <td>IQWX43085486211593</td>\n",
       "      <td>2006-01-08</td>\n",
       "      <td>$906.56</td>\n",
       "      <td>Active</td>\n",
       "      <td>Loan</td>\n",
       "    </tr>\n",
       "    <tr>\n",
       "      <th>3104</th>\n",
       "      <td>3899</td>\n",
       "      <td>GB72HHTA49364267690196</td>\n",
       "      <td>PFVP16819625415314</td>\n",
       "      <td>2014-10-14</td>\n",
       "      <td>$17.61</td>\n",
       "      <td>Closed</td>\n",
       "      <td>Loan</td>\n",
       "    </tr>\n",
       "    <tr>\n",
       "      <th>3105</th>\n",
       "      <td>3899</td>\n",
       "      <td>GB62SCTO34024769359008</td>\n",
       "      <td>ADMB58970770088995</td>\n",
       "      <td>2009-06-10</td>\n",
       "      <td>$8.71</td>\n",
       "      <td>Active</td>\n",
       "      <td>Savings</td>\n",
       "    </tr>\n",
       "  </tbody>\n",
       "</table>\n",
       "<p>3106 rows × 7 columns</p>\n",
       "</div>"
      ],
      "text/plain": [
       "      CUST_ID                ACC_IBAN            ACC_BBAN ACC_OPEN_DT  \\\n",
       "0        4185  GB90EMIC89482763544524  GDJY66571183273954  2001-03-22   \n",
       "1         291  GB83VYSJ52094207716710  OVWN34297715684777  2010-08-29   \n",
       "2        7497  GB17OCSO08226852523762  DLFO12501444293678  2000-09-04   \n",
       "3        7497  GB26RRMJ41734703010562  SZPN32742192244415  2010-09-05   \n",
       "4        7497  GB13JBDZ14742645466984  DAGC95804976124339  2006-02-14   \n",
       "...       ...                     ...                 ...         ...   \n",
       "3101     2137  GB79MEEM68164816755595  JGQZ63653199537639  2020-07-08   \n",
       "3102     2137  GB72FWKV94464237567600  LCGK26173403352193  2011-06-05   \n",
       "3103     3899  GB97XFCA41641435894700  IQWX43085486211593  2006-01-08   \n",
       "3104     3899  GB72HHTA49364267690196  PFVP16819625415314  2014-10-14   \n",
       "3105     3899  GB62SCTO34024769359008  ADMB58970770088995  2009-06-10   \n",
       "\n",
       "         BALANCE ACC_STATUS ACC_TYPE  \n",
       "0         $50.57     Active   Credit  \n",
       "1     $74,111.13     Closed  Current  \n",
       "2        $669.14     Active     Loan  \n",
       "3          $0.03     Active   Credit  \n",
       "4          $0.71     Closed   Credit  \n",
       "...          ...        ...      ...  \n",
       "3101     $191.20     Active  Savings  \n",
       "3102  $54,340.79     Closed  Savings  \n",
       "3103     $906.56     Active     Loan  \n",
       "3104      $17.61     Closed     Loan  \n",
       "3105       $8.71     Active  Savings  \n",
       "\n",
       "[3106 rows x 7 columns]"
      ]
     },
     "execution_count": 19,
     "metadata": {},
     "output_type": "execute_result"
    }
   ],
   "source": [
    "account"
   ]
  },
  {
   "cell_type": "code",
   "execution_count": 22,
   "id": "d8b8e507-e756-4324-8170-14f92e77eea2",
   "metadata": {},
   "outputs": [],
   "source": [
    "#bank_name = list(set(account['BANK_NAME'])) --> Unable to find Bank_Name in account table.\n",
    "bank_name = ['UBS',\n",
    "'Bank of America',\n",
    "'Discover Financial',\n",
    "'Credit Suisse',\n",
    "'Santander Bank',\n",
    "'American Express',\n",
    "'HSBC Bank USA',\n",
    "'JPMorgan Chase',\n",
    "'BankUnited',\n",
    "'Citigroup',\n",
    "'Barclays',\n",
    "'RBC Bank',\n",
    "'Citizens Financial Group',\n",
    "'Capital One',\n",
    "'Goldman Sachs',\n",
    "'Wells Fargo',\n",
    "'Morgan Stanley']"
   ]
  },
  {
   "cell_type": "markdown",
   "id": "b22f2670-d774-4fec-9c58-d1511e9d0ee4",
   "metadata": {},
   "source": [
    "# Reversing a list using slicing technique"
   ]
  },
  {
   "cell_type": "code",
   "execution_count": 21,
   "id": "c2caa413-29a2-4d0d-af64-bba3be00f210",
   "metadata": {},
   "outputs": [],
   "source": [
    "def Reverse(lst):\n",
    "    new_lst = lst[::-1]\n",
    "    return new_lst"
   ]
  },
  {
   "cell_type": "markdown",
   "id": "2e39e9c7-90fd-49bb-8562-cd0382f9907c",
   "metadata": {},
   "source": [
    "# Initiate the DataFrames "
   ]
  },
  {
   "cell_type": "code",
   "execution_count": 23,
   "id": "098acf84-ef28-4351-9197-f1dfe9dbdf9d",
   "metadata": {},
   "outputs": [],
   "source": [
    "EOD_Acc_Level = pd.DataFrame(columns = ['CUST_ID', 'ACC_IBAN', 'ACC_BBAN', 'DT', 'EOD_BALANCE', \n",
    "                                  'EOD_TOTAL_CR', 'EOD_TOTAL_DR', 'EOD_TOTAL_INCOME', \n",
    "                                  'EOD_TOTAL_EXPENSE'])"
   ]
  },
  {
   "cell_type": "code",
   "execution_count": 24,
   "id": "bec943cb-82fe-40c4-8768-72a5d76e4e7b",
   "metadata": {},
   "outputs": [],
   "source": [
    "EOD_Cust_Level = pd.DataFrame(columns = ['CUST_ID', 'DT', 'EOD_BALANCE', 'EOD_TOTAL_CR', 'EOD_TOTAL_DR', \n",
    "                                  'EOD_TOTAL_INCOME', 'EOD_TOTAL_BALANCE'])"
   ]
  },
  {
   "cell_type": "code",
   "execution_count": 25,
   "id": "5d1b2119-6622-495a-a2bd-77a722d21050",
   "metadata": {},
   "outputs": [],
   "source": [
    "EOW_Acc_Level = pd.DataFrame(columns = ['CUST_ID', 'ACC_IBAN', 'ACC_BBAN', 'WK_NUM-YR', 'WK_START_DT', 'Wk_END_DT', 'EOW_BALANCE', 'EOW_TOTAL_DR', \n",
    "                                        'EOW_TOTAL_CR','EOW_TOTAL_INCOME', 'EOW_TOTAL_EXPENSE', 'SLOPE_BALANCE',\n",
    "                              'SLOPE_TOTAL_CR', 'SLOPE_TOTAL_DR', 'SLOPE_TOTAL_INCOME','SLOPE_TOTAL_EXPENSE'])"
   ]
  },
  {
   "cell_type": "code",
   "execution_count": 26,
   "id": "77b62690-5686-49a1-a184-5eadca263151",
   "metadata": {},
   "outputs": [],
   "source": [
    "EOW_Cust_Level = pd.DataFrame(columns = ['CUST_ID', 'WK_NUM-YR', 'WK_START_DT', 'Wk_END_DT', 'EOW_BALANCE',\n",
    "       'EOW_TOTAL_CR', 'EOW_TOTAL_DR', 'EOW_TOTAL_INCOME', 'EOW_TOTAL_EXPENSE','SLOPE_BALANCE', \n",
    "       'SLOPE_TOTAL_CR', 'SLOPE_TOTAL_DR', 'SLOPE_TOTAL_INCOME','SLOPE_TOTAL_EXPENSE'])"
   ]
  },
  {
   "cell_type": "code",
   "execution_count": 27,
   "id": "914af00b-1f7e-4b79-82bb-e883967a4931",
   "metadata": {},
   "outputs": [],
   "source": [
    "EOM_Acc_Level = pd.DataFrame(columns = ['CUST_ID', 'ACC_IBAN', 'ACC_BBAN', 'MTH_NUM-YR', 'EOM_BALANCE',\n",
    "       'EOM_TOTAL_DR', 'EOM_TOTAL_CR', 'EOM_TOTAL_INCOME', 'EOM_TOTAL_EXPENSE', 'SLOPE_BALANCE', \n",
    "       'SLOPE_TOTAL_CR', 'SLOPE_TOTAL_DR',  'SLOPE_TOTAL_INCOME','SLOPE_TOTAL_EXPENSE'])"
   ]
  },
  {
   "cell_type": "code",
   "execution_count": 28,
   "id": "42da0026-2289-4978-85bf-68887da6e52a",
   "metadata": {},
   "outputs": [],
   "source": [
    "EOM_Cust_Level = pd.DataFrame(columns = ['CUST_ID', 'MTH_NUM-YR', 'EOM_BALANCE', 'EOM_TOTAL_CR', \n",
    "       'EOM_TOTAL_DR', 'EOM_TOTAL_INCOME', 'EOM_TOTAL_EXPENSE', 'SLOPE_BALANCE',\n",
    "       'SLOPE_TOTAL_CR', 'SLOPE_TOTAL_DR',  'SLOPE_TOTAL_INCOME','SLOPE_TOTAL_EXPENSE'])"
   ]
  },
  {
   "cell_type": "code",
   "execution_count": 29,
   "id": "a6e7c6ea-716a-4354-9bf2-dab9290c2d2b",
   "metadata": {},
   "outputs": [],
   "source": [
    "Cust_Dashboard = pd.DataFrame(columns = ['CUST_ID', 'BALANCE', 'AVG_BALANCE', 'AVG_INCOME', 'AVG_EXPENSE', 'BANK_NAME'])   "
   ]
  },
  {
   "cell_type": "markdown",
   "id": "85816d60-c78a-4ac2-a710-a604ca1cf807",
   "metadata": {},
   "source": [
    "# Aggregation logic for Daily, Weekly and Monthly "
   ]
  },
  {
   "cell_type": "code",
   "execution_count": 58,
   "id": "8e3396be-a80c-4f8b-831a-cf15179e783b",
   "metadata": {},
   "outputs": [],
   "source": [
    "for i in x1: ### This is coming from account table\n",
    "    ibans = list(set(transactions[transactions['CUST_ID']==i]['ACC_IBAN']))\n",
    "    for j in ibans:  ### for a given customer pickup one IBAN at a time\n",
    "        txn_temp = transactions.loc[(transactions['CUST_ID']==i) & (transactions['ACC_IBAN']==j), ['ACC_BBAN', 'ACC_IBAN','BALANCE', 'TXN_DT', 'DR_CR', 'TXN_AMOUNT', 'TXN_CODE']]    ### This is at account level\n",
    "        txn_Dr = txn_temp.loc[(txn_temp['DR_CR']=='Dr')]    ### This is at account level\n",
    "        txn_Cr = txn_temp.loc[(txn_temp['DR_CR']=='Cr')]    ### This is at account level\n",
    "        ##txn_temp['txn_Dt'] = txn_temp['txn_Dt'].astype(str)\n",
    "\n",
    "        #### Process as per balance column for EOD Balance ##############\n",
    "        Dts = txn_temp['TXN_DT'].drop_duplicates()\n",
    "\n",
    "        # -> Original Code giving error due to date format\n",
    "        #sdate = datetime.strptime(min(Dts)[:10], '%Y-%m-%d')   ### Other format '%m/%d/%Y'\n",
    "        #edate = datetime.strptime(max(Dts)[:10], '%Y-%m-%d')\n",
    "\n",
    "        sdate = datetime.strptime(min(Dts)[:10], '%m/%d/%Y')   \n",
    "        edate = datetime.strptime(max(Dts)[:10], '%m/%d/%Y')\n",
    "        \n",
    "        dt_range = pd.date_range(sdate,edate-timedelta(days=1),freq='d')\n",
    "        hn = len(dt_range)\n",
    "        eod_balance = []\n",
    "\n",
    "        for di in Dts:\n",
    "            eod_balance = eod_balance + [txn_temp.loc[txn_temp['TXN_DT']==di, ['TXN_DT', 'BALANCE']].iloc[-1, 1]]\n",
    "        temp_Acc_Daily = pd.DataFrame({'DT': list(Dts), 'EOD_BALANCE': eod_balance})\n",
    "        temp_Acc_Daily.reset_index(inplace=True) \n",
    "        temp_Acc_Daily['DT']=temp_Acc_Daily['DT'].astype('str')\n",
    "        delta_Acc_Daily = pd.DataFrame({'CUST_ID': [i]*hn, 'ACC_IBAN': [j]*hn, 'ACC_BBAN':[txn_temp.iloc[0,0]]*hn, \n",
    "                                        'DT': dt_range})\n",
    "        delta_Acc_Daily['DT']=delta_Acc_Daily['DT'].astype('str')\n",
    "        #delta_Acc_Daily = pd.merge(delta_Acc_Daily, temp_Acc_Daily, on='DT', how='left')\n",
    "        \n",
    "        ## delta_Acc_Daily.to_csv('delta_Acc_Daily.csv', index=False)\n",
    "        #delta_Acc_Daily.drop('index', axis=1, inplace=True)\n",
    "        #gt0_values = delta_Acc_Daily.loc[delta_Acc_Daily['EOD_BALANCE']>0, 'EOD_BALANCE']\n",
    "        #gt0_idx = list(gt0_values.index) + [len(delta_Acc_Daily)]\n",
    "        #eod_balance=[]\n",
    "        #for idx in range(len(gt0_idx)-1):\n",
    "        #    eod_balance = eod_balance+[gt0_values[gt0_idx[idx]]]*(gt0_idx[idx+1]-gt0_idx[idx])\n",
    "        #delta_Acc_Daily['EOD_BALANCE'] = eod_balance\n",
    "\n"
   ]
  },
  {
   "cell_type": "code",
   "execution_count": 59,
   "id": "60970abe-70c0-4351-be38-604a00238153",
   "metadata": {},
   "outputs": [
    {
     "data": {
      "text/plain": [
       "('2018-01-01', '2019-09-08')"
      ]
     },
     "execution_count": 59,
     "metadata": {},
     "output_type": "execute_result"
    }
   ],
   "source": [
    "min(delta_Acc_Daily['DT']), max(delta_Acc_Daily['DT'])"
   ]
  },
  {
   "cell_type": "code",
   "execution_count": 60,
   "id": "494c1d13-fee6-4da7-ab0e-aac367ae5d81",
   "metadata": {},
   "outputs": [
    {
     "data": {
      "text/plain": [
       "('1/1/2018', '9/9/2019')"
      ]
     },
     "execution_count": 60,
     "metadata": {},
     "output_type": "execute_result"
    }
   ],
   "source": [
    "min(temp_Acc_Daily['DT']), max(temp_Acc_Daily['DT'])"
   ]
  },
  {
   "cell_type": "code",
   "execution_count": 72,
   "id": "4164f0ce-795b-426e-85ca-2d6e921b3d3a",
   "metadata": {},
   "outputs": [
    {
     "ename": "TypeError",
     "evalue": "descriptor 'date' for 'datetime.datetime' objects doesn't apply to a 'DataFrame' object",
     "output_type": "error",
     "traceback": [
      "\u001b[0;31m---------------------------------------------------------------------------\u001b[0m",
      "\u001b[0;31mTypeError\u001b[0m                                 Traceback (most recent call last)",
      "Cell \u001b[0;32mIn[72], line 1\u001b[0m\n\u001b[0;32m----> 1\u001b[0m datets \u001b[38;5;241m=\u001b[39m \u001b[43mdatetime\u001b[49m\u001b[38;5;241;43m.\u001b[39;49m\u001b[43mdate\u001b[49m\u001b[43m(\u001b[49m\u001b[43mpd\u001b[49m\u001b[38;5;241;43m.\u001b[39;49m\u001b[43mDataFrame\u001b[49m\u001b[43m(\u001b[49m\u001b[43mDts\u001b[49m\u001b[43m)\u001b[49m\u001b[43m)\u001b[49m\n",
      "\u001b[0;31mTypeError\u001b[0m: descriptor 'date' for 'datetime.datetime' objects doesn't apply to a 'DataFrame' object"
     ]
    }
   ],
   "source": [
    "\n",
    "datets = datetime.date."
   ]
  },
  {
   "cell_type": "code",
   "execution_count": 64,
   "id": "f7a895f3-b373-46f4-ada3-e92d3b86fc7e",
   "metadata": {},
   "outputs": [
    {
     "ename": "ValueError",
     "evalue": "time data '1/1/2018' does not match format '%Y-%m-%d'",
     "output_type": "error",
     "traceback": [
      "\u001b[0;31m---------------------------------------------------------------------------\u001b[0m",
      "\u001b[0;31mValueError\u001b[0m                                Traceback (most recent call last)",
      "Cell \u001b[0;32mIn[64], line 1\u001b[0m\n\u001b[0;32m----> 1\u001b[0m \u001b[43mdatetime\u001b[49m\u001b[38;5;241;43m.\u001b[39;49m\u001b[43mstrptime\u001b[49m\u001b[43m(\u001b[49m\u001b[38;5;28;43mmin\u001b[39;49m\u001b[43m(\u001b[49m\u001b[43mDts\u001b[49m\u001b[43m)\u001b[49m\u001b[43m[\u001b[49m\u001b[43m:\u001b[49m\u001b[38;5;241;43m10\u001b[39;49m\u001b[43m]\u001b[49m\u001b[43m,\u001b[49m\u001b[43m \u001b[49m\u001b[38;5;124;43m'\u001b[39;49m\u001b[38;5;124;43m%\u001b[39;49m\u001b[38;5;124;43mY-\u001b[39;49m\u001b[38;5;124;43m%\u001b[39;49m\u001b[38;5;124;43mm-\u001b[39;49m\u001b[38;5;132;43;01m%d\u001b[39;49;00m\u001b[38;5;124;43m'\u001b[39;49m\u001b[43m)\u001b[49m\n",
      "File \u001b[0;32m/opt/conda/lib/python3.9/_strptime.py:568\u001b[0m, in \u001b[0;36m_strptime_datetime\u001b[0;34m(cls, data_string, format)\u001b[0m\n\u001b[1;32m    565\u001b[0m \u001b[38;5;28;01mdef\u001b[39;00m \u001b[38;5;21m_strptime_datetime\u001b[39m(\u001b[38;5;28mcls\u001b[39m, data_string, \u001b[38;5;28mformat\u001b[39m\u001b[38;5;241m=\u001b[39m\u001b[38;5;124m\"\u001b[39m\u001b[38;5;132;01m%a\u001b[39;00m\u001b[38;5;124m \u001b[39m\u001b[38;5;124m%\u001b[39m\u001b[38;5;124mb \u001b[39m\u001b[38;5;132;01m%d\u001b[39;00m\u001b[38;5;124m \u001b[39m\u001b[38;5;124m%\u001b[39m\u001b[38;5;124mH:\u001b[39m\u001b[38;5;124m%\u001b[39m\u001b[38;5;124mM:\u001b[39m\u001b[38;5;124m%\u001b[39m\u001b[38;5;124mS \u001b[39m\u001b[38;5;124m%\u001b[39m\u001b[38;5;124mY\u001b[39m\u001b[38;5;124m\"\u001b[39m):\n\u001b[1;32m    566\u001b[0m \u001b[38;5;250m    \u001b[39m\u001b[38;5;124;03m\"\"\"Return a class cls instance based on the input string and the\u001b[39;00m\n\u001b[1;32m    567\u001b[0m \u001b[38;5;124;03m    format string.\"\"\"\u001b[39;00m\n\u001b[0;32m--> 568\u001b[0m     tt, fraction, gmtoff_fraction \u001b[38;5;241m=\u001b[39m \u001b[43m_strptime\u001b[49m\u001b[43m(\u001b[49m\u001b[43mdata_string\u001b[49m\u001b[43m,\u001b[49m\u001b[43m \u001b[49m\u001b[38;5;28;43mformat\u001b[39;49m\u001b[43m)\u001b[49m\n\u001b[1;32m    569\u001b[0m     tzname, gmtoff \u001b[38;5;241m=\u001b[39m tt[\u001b[38;5;241m-\u001b[39m\u001b[38;5;241m2\u001b[39m:]\n\u001b[1;32m    570\u001b[0m     args \u001b[38;5;241m=\u001b[39m tt[:\u001b[38;5;241m6\u001b[39m] \u001b[38;5;241m+\u001b[39m (fraction,)\n",
      "File \u001b[0;32m/opt/conda/lib/python3.9/_strptime.py:349\u001b[0m, in \u001b[0;36m_strptime\u001b[0;34m(data_string, format)\u001b[0m\n\u001b[1;32m    347\u001b[0m found \u001b[38;5;241m=\u001b[39m format_regex\u001b[38;5;241m.\u001b[39mmatch(data_string)\n\u001b[1;32m    348\u001b[0m \u001b[38;5;28;01mif\u001b[39;00m \u001b[38;5;129;01mnot\u001b[39;00m found:\n\u001b[0;32m--> 349\u001b[0m     \u001b[38;5;28;01mraise\u001b[39;00m \u001b[38;5;167;01mValueError\u001b[39;00m(\u001b[38;5;124m\"\u001b[39m\u001b[38;5;124mtime data \u001b[39m\u001b[38;5;132;01m%r\u001b[39;00m\u001b[38;5;124m does not match format \u001b[39m\u001b[38;5;132;01m%r\u001b[39;00m\u001b[38;5;124m\"\u001b[39m \u001b[38;5;241m%\u001b[39m\n\u001b[1;32m    350\u001b[0m                      (data_string, \u001b[38;5;28mformat\u001b[39m))\n\u001b[1;32m    351\u001b[0m \u001b[38;5;28;01mif\u001b[39;00m \u001b[38;5;28mlen\u001b[39m(data_string) \u001b[38;5;241m!=\u001b[39m found\u001b[38;5;241m.\u001b[39mend():\n\u001b[1;32m    352\u001b[0m     \u001b[38;5;28;01mraise\u001b[39;00m \u001b[38;5;167;01mValueError\u001b[39;00m(\u001b[38;5;124m\"\u001b[39m\u001b[38;5;124munconverted data remains: \u001b[39m\u001b[38;5;132;01m%s\u001b[39;00m\u001b[38;5;124m\"\u001b[39m \u001b[38;5;241m%\u001b[39m\n\u001b[1;32m    353\u001b[0m                       data_string[found\u001b[38;5;241m.\u001b[39mend():])\n",
      "\u001b[0;31mValueError\u001b[0m: time data '1/1/2018' does not match format '%Y-%m-%d'"
     ]
    }
   ],
   "source": [
    "datetime.strptime(min(Dts)[:10], '%Y-%m-%d')"
   ]
  },
  {
   "cell_type": "code",
   "execution_count": null,
   "id": "8b7d2705-c4da-45fe-9f47-aaf1d407c332",
   "metadata": {},
   "outputs": [],
   "source": []
  },
  {
   "cell_type": "code",
   "execution_count": null,
   "id": "55638ecf-115f-4a6a-84f2-1b80907e902b",
   "metadata": {},
   "outputs": [],
   "source": []
  },
  {
   "cell_type": "code",
   "execution_count": null,
   "id": "ac4a9fbb-f075-4a51-b251-9b59b5562c6e",
   "metadata": {},
   "outputs": [],
   "source": []
  },
  {
   "cell_type": "code",
   "execution_count": null,
   "id": "3726f4df-c39e-47ca-9eed-c81ad12283a9",
   "metadata": {},
   "outputs": [],
   "source": []
  },
  {
   "cell_type": "code",
   "execution_count": null,
   "id": "912ba5eb-eec7-44a6-8c65-a090046519c7",
   "metadata": {},
   "outputs": [],
   "source": []
  }
 ],
 "metadata": {
  "kernelspec": {
   "display_name": "Python 3 (ipykernel)",
   "language": "python",
   "name": "python3"
  },
  "language_info": {
   "codemirror_mode": {
    "name": "ipython",
    "version": 3
   },
   "file_extension": ".py",
   "mimetype": "text/x-python",
   "name": "python",
   "nbconvert_exporter": "python",
   "pygments_lexer": "ipython3",
   "version": "3.9.19"
  }
 },
 "nbformat": 4,
 "nbformat_minor": 5
}
