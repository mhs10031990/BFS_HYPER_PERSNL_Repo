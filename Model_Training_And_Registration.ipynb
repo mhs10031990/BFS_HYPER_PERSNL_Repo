{
 "cells": [
  {
   "cell_type": "code",
   "execution_count": 8,
   "id": "4d8f14e7-8dbe-4922-804c-7e24a7cef8e7",
   "metadata": {},
   "outputs": [],
   "source": [
    "import pandas as pd\n",
    "import numpy as np\n",
    "import datetime as dt\n",
    "\n",
    "from sklearn.model_selection import train_test_split\n",
    "from sklearn.preprocessing import StandardScaler\n",
    "from sklearn.model_selection import GridSearchCV\n",
    "\n",
    "from sklearn.ensemble import RandomForestRegressor\n",
    "from sklearn.metrics import mean_absolute_error, mean_squared_error"
   ]
  },
  {
   "cell_type": "markdown",
   "id": "199c94e8-f0c9-4cb9-97b5-d47a6df5b1f7",
   "metadata": {},
   "source": [
    "# Read Data from Snowflake using Fosforml SDK"
   ]
  },
  {
   "cell_type": "code",
   "execution_count": 2,
   "id": "a9017b88-3000-41b2-9d0d-7c4050b3283d",
   "metadata": {},
   "outputs": [],
   "source": [
    "from fosforml.model_manager.snowflakesession import get_session\n",
    "my_session = get_session()"
   ]
  },
  {
   "cell_type": "code",
   "execution_count": null,
   "id": "8fec9a7c-c985-44fa-9f3d-1c5890e41a22",
   "metadata": {},
   "outputs": [],
   "source": [
    "#table_name = 'YOUR_SNOWFLAKE_TABLE_NAME'\n",
    "\n",
    "#sf_df = my_session.sql(\"select * from {}\".format(table_name))\n",
    "#df = sf_df.to_pandas()"
   ]
  },
  {
   "cell_type": "code",
   "execution_count": 4,
   "id": "2ee9ebf2-9746-488a-921b-696551feeff8",
   "metadata": {},
   "outputs": [],
   "source": [
    "df = pd.read_csv('Attendance_dataset.csv')"
   ]
  },
  {
   "cell_type": "markdown",
   "id": "ca7945b7-e2dc-4b07-a4f0-4b1b89738a45",
   "metadata": {},
   "source": [
    "# Data Exploration"
   ]
  },
  {
   "cell_type": "code",
   "execution_count": 6,
   "id": "e77f8940-c1cc-43c9-91d2-dbd6f1cd0602",
   "metadata": {},
   "outputs": [
    {
     "data": {
      "text/plain": [
       "(1000, 5)"
      ]
     },
     "execution_count": 6,
     "metadata": {},
     "output_type": "execute_result"
    }
   ],
   "source": [
    "df.shape"
   ]
  },
  {
   "cell_type": "code",
   "execution_count": 10,
   "id": "af36f73b-aca9-4853-a58e-afc05d2b5e75",
   "metadata": {},
   "outputs": [],
   "source": [
    "df['Attendance_Date'] = pd.to_datetime(df['Attendance_Date'])"
   ]
  },
  {
   "cell_type": "code",
   "execution_count": 11,
   "id": "b810af97-5831-4ce1-bf73-e0487865708a",
   "metadata": {},
   "outputs": [
    {
     "name": "stdout",
     "output_type": "stream",
     "text": [
      "<class 'pandas.core.frame.DataFrame'>\n",
      "RangeIndex: 1000 entries, 0 to 999\n",
      "Data columns (total 5 columns):\n",
      " #   Column           Non-Null Count  Dtype         \n",
      "---  ------           --------------  -----         \n",
      " 0   Employee_Id      1000 non-null   object        \n",
      " 1   Employee_name    1000 non-null   object        \n",
      " 2   Attendance_Date  1000 non-null   datetime64[ns]\n",
      " 3   Present_Status   1000 non-null   object        \n",
      " 4   Hours_Worked     1000 non-null   int64         \n",
      "dtypes: datetime64[ns](1), int64(1), object(3)\n",
      "memory usage: 39.2+ KB\n"
     ]
    }
   ],
   "source": [
    "df.info()"
   ]
  },
  {
   "cell_type": "code",
   "execution_count": 13,
   "id": "ffcfe526-6c58-4f88-9999-cae4ac4a8045",
   "metadata": {},
   "outputs": [
    {
     "data": {
      "text/html": [
       "<div>\n",
       "<style scoped>\n",
       "    .dataframe tbody tr th:only-of-type {\n",
       "        vertical-align: middle;\n",
       "    }\n",
       "\n",
       "    .dataframe tbody tr th {\n",
       "        vertical-align: top;\n",
       "    }\n",
       "\n",
       "    .dataframe thead th {\n",
       "        text-align: right;\n",
       "    }\n",
       "</style>\n",
       "<table border=\"1\" class=\"dataframe\">\n",
       "  <thead>\n",
       "    <tr style=\"text-align: right;\">\n",
       "      <th></th>\n",
       "      <th>Attendance_Date</th>\n",
       "      <th>Hours_Worked</th>\n",
       "    </tr>\n",
       "  </thead>\n",
       "  <tbody>\n",
       "    <tr>\n",
       "      <th>count</th>\n",
       "      <td>1000</td>\n",
       "      <td>1000.000000</td>\n",
       "    </tr>\n",
       "    <tr>\n",
       "      <th>mean</th>\n",
       "      <td>2023-02-14 13:00:28.799999744</td>\n",
       "      <td>2.253000</td>\n",
       "    </tr>\n",
       "    <tr>\n",
       "      <th>min</th>\n",
       "      <td>2023-01-01 00:00:00</td>\n",
       "      <td>0.000000</td>\n",
       "    </tr>\n",
       "    <tr>\n",
       "      <th>25%</th>\n",
       "      <td>2023-01-24 00:00:00</td>\n",
       "      <td>0.000000</td>\n",
       "    </tr>\n",
       "    <tr>\n",
       "      <th>50%</th>\n",
       "      <td>2023-02-15 00:00:00</td>\n",
       "      <td>0.000000</td>\n",
       "    </tr>\n",
       "    <tr>\n",
       "      <th>75%</th>\n",
       "      <td>2023-03-07 00:00:00</td>\n",
       "      <td>5.000000</td>\n",
       "    </tr>\n",
       "    <tr>\n",
       "      <th>max</th>\n",
       "      <td>2023-03-31 00:00:00</td>\n",
       "      <td>8.000000</td>\n",
       "    </tr>\n",
       "    <tr>\n",
       "      <th>std</th>\n",
       "      <td>NaN</td>\n",
       "      <td>2.846593</td>\n",
       "    </tr>\n",
       "  </tbody>\n",
       "</table>\n",
       "</div>"
      ],
      "text/plain": [
       "                     Attendance_Date  Hours_Worked\n",
       "count                           1000   1000.000000\n",
       "mean   2023-02-14 13:00:28.799999744      2.253000\n",
       "min              2023-01-01 00:00:00      0.000000\n",
       "25%              2023-01-24 00:00:00      0.000000\n",
       "50%              2023-02-15 00:00:00      0.000000\n",
       "75%              2023-03-07 00:00:00      5.000000\n",
       "max              2023-03-31 00:00:00      8.000000\n",
       "std                              NaN      2.846593"
      ]
     },
     "execution_count": 13,
     "metadata": {},
     "output_type": "execute_result"
    }
   ],
   "source": [
    "df.describe()"
   ]
  },
  {
   "cell_type": "code",
   "execution_count": 14,
   "id": "66c62f11-26ac-4205-9d13-4dd4f4428ba6",
   "metadata": {},
   "outputs": [
    {
     "data": {
      "text/plain": [
       "Employee_Id        0\n",
       "Employee_name      0\n",
       "Attendance_Date    0\n",
       "Present_Status     0\n",
       "Hours_Worked       0\n",
       "dtype: int64"
      ]
     },
     "execution_count": 14,
     "metadata": {},
     "output_type": "execute_result"
    }
   ],
   "source": [
    "df.isnull().sum()"
   ]
  },
  {
   "cell_type": "markdown",
   "id": "43df1a81-37e8-462c-a2d0-8bc99a1f0063",
   "metadata": {},
   "source": [
    "# Feature Engineering"
   ]
  },
  {
   "cell_type": "code",
   "execution_count": 15,
   "id": "b9d216f0-4bf1-48da-8d9e-960afb4862ce",
   "metadata": {},
   "outputs": [],
   "source": [
    "df['Present_Status'] = df['Present_Status'].map({'Yes': 1, 'No': 0})"
   ]
  },
  {
   "cell_type": "code",
   "execution_count": 16,
   "id": "a8ac8924-ca9d-46bb-be9b-7dce0fe2fb3f",
   "metadata": {},
   "outputs": [],
   "source": [
    "total_days_present = df.groupby('Employee_Id')['Present_Status'].sum().reset_index()\n",
    "total_days_present.columns = ['Employee_Id', 'Total_Days_Present']"
   ]
  },
  {
   "cell_type": "code",
   "execution_count": 17,
   "id": "7d2e3bde-5a00-4c4e-b752-94e20e1a76bb",
   "metadata": {},
   "outputs": [],
   "source": [
    "total_hours_worked = df.groupby('Employee_Id')['Hours_Worked'].sum().reset_index()\n",
    "total_hours_worked.columns = ['Employee_Id', 'Total_Hours_Worked']"
   ]
  },
  {
   "cell_type": "code",
   "execution_count": 18,
   "id": "8a72850b-7106-4da3-a744-8baa287519aa",
   "metadata": {},
   "outputs": [],
   "source": [
    "average_hours_per_day = df.groupby('Employee_Id')['Hours_Worked'].mean().reset_index()\n",
    "average_hours_per_day.columns = ['Employee_Id', 'Average_Hours_Per_Day']"
   ]
  },
  {
   "cell_type": "code",
   "execution_count": 19,
   "id": "b7847fcd-6803-4b4a-9db7-16d7bb0c56e3",
   "metadata": {},
   "outputs": [],
   "source": [
    "total_days = df['Attendance_Date'].nunique()\n",
    "attendance_rate = total_days_present.copy()\n",
    "attendance_rate['Attendance_Rate'] = (attendance_rate['Total_Days_Present'] / total_days) * 100"
   ]
  },
  {
   "cell_type": "code",
   "execution_count": 20,
   "id": "869f3354-4aeb-4438-998d-cc9550320d6e",
   "metadata": {},
   "outputs": [],
   "source": [
    "threshold_hours = 8\n",
    "days_worked_more_than_x_hours = df[df['Hours_Worked'] > threshold_hours].groupby('Employee_Id').size().reset_index(name='Days_Worked_More_Than_X_Hours')"
   ]
  },
  {
   "cell_type": "code",
   "execution_count": 21,
   "id": "f62dc8f5-915d-4638-a7d4-7de74ffb72a9",
   "metadata": {},
   "outputs": [],
   "source": [
    "features = total_days_present.merge(total_hours_worked, on='Employee_Id')\n",
    "features = features.merge(average_hours_per_day, on='Employee_Id')\n",
    "features = features.merge(attendance_rate[['Employee_Id', 'Attendance_Rate']], on='Employee_Id')\n",
    "features = features.merge(days_worked_more_than_x_hours, on='Employee_Id', how='left').fillna(0)"
   ]
  },
  {
   "cell_type": "code",
   "execution_count": 22,
   "id": "1d286ad7-e4f3-46cc-a4b1-7672083b0295",
   "metadata": {},
   "outputs": [],
   "source": [
    "final_df = df[['Employee_Id', 'Employee_name']].drop_duplicates().merge(features, on='Employee_Id')"
   ]
  },
  {
   "cell_type": "code",
   "execution_count": 23,
   "id": "5bcbf643-7067-4ab5-a088-c97f2e50e1d2",
   "metadata": {},
   "outputs": [],
   "source": [
    "df['Day_of_Week'] = df['Attendance_Date'].dt.day_name()"
   ]
  },
  {
   "cell_type": "code",
   "execution_count": null,
   "id": "bdfccdb0-d747-41d1-bfc4-59be7f7418ce",
   "metadata": {},
   "outputs": [],
   "source": [
    "df['Is_Weekend'] = df['Day_of_Week'].isin(['Saturday', 'Sunday']).astype(int)"
   ]
  },
  {
   "cell_type": "code",
   "execution_count": null,
   "id": "a9ce0cbe-d191-41a9-b9b8-7e9b15a679c7",
   "metadata": {},
   "outputs": [],
   "source": []
  },
  {
   "cell_type": "code",
   "execution_count": null,
   "id": "bacc0793-7b2f-47bb-9b88-dca8ca63634e",
   "metadata": {},
   "outputs": [],
   "source": []
  },
  {
   "cell_type": "code",
   "execution_count": null,
   "id": "27fafc51-6102-425c-9056-2a6c6ee88435",
   "metadata": {},
   "outputs": [],
   "source": []
  },
  {
   "cell_type": "code",
   "execution_count": null,
   "id": "2cfe6e1b-9783-4081-b501-68b2915ceee7",
   "metadata": {},
   "outputs": [],
   "source": []
  }
 ],
 "metadata": {
  "kernelspec": {
   "display_name": "Python 3 (ipykernel)",
   "language": "python",
   "name": "python3"
  },
  "language_info": {
   "codemirror_mode": {
    "name": "ipython",
    "version": 3
   },
   "file_extension": ".py",
   "mimetype": "text/x-python",
   "name": "python",
   "nbconvert_exporter": "python",
   "pygments_lexer": "ipython3",
   "version": "3.9.19"
  }
 },
 "nbformat": 4,
 "nbformat_minor": 5
}
