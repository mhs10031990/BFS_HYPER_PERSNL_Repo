{
 "cells": [
  {
   "cell_type": "code",
   "execution_count": 56,
   "id": "4d8f14e7-8dbe-4922-804c-7e24a7cef8e7",
   "metadata": {},
   "outputs": [],
   "source": [
    "import pandas as pd\n",
    "import numpy as np\n",
    "import datetime as dt\n",
    "\n",
    "from sklearn.model_selection import train_test_split\n",
    "from sklearn.preprocessing import StandardScaler\n",
    "from sklearn.model_selection import GridSearchCV\n",
    "\n",
    "from sklearn.ensemble import RandomForestRegressor\n",
    "from sklearn.metrics import mean_absolute_error, mean_squared_error, r2_score"
   ]
  },
  {
   "cell_type": "markdown",
   "id": "199c94e8-f0c9-4cb9-97b5-d47a6df5b1f7",
   "metadata": {},
   "source": [
    "# Read Data from Snowflake using Fosforml SDK"
   ]
  },
  {
   "cell_type": "code",
   "execution_count": 2,
   "id": "a9017b88-3000-41b2-9d0d-7c4050b3283d",
   "metadata": {},
   "outputs": [],
   "source": [
    "from fosforml.model_manager.snowflakesession import get_session\n",
    "my_session = get_session()"
   ]
  },
  {
   "cell_type": "code",
   "execution_count": null,
   "id": "8fec9a7c-c985-44fa-9f3d-1c5890e41a22",
   "metadata": {},
   "outputs": [],
   "source": [
    "#table_name = 'YOUR_SNOWFLAKE_TABLE_NAME'\n",
    "\n",
    "#sf_df = my_session.sql(\"select * from {}\".format(table_name))\n",
    "#df = sf_df.to_pandas()"
   ]
  },
  {
   "cell_type": "code",
   "execution_count": 4,
   "id": "2ee9ebf2-9746-488a-921b-696551feeff8",
   "metadata": {},
   "outputs": [],
   "source": [
    "df = pd.read_csv('Attendance_dataset.csv')"
   ]
  },
  {
   "cell_type": "markdown",
   "id": "ca7945b7-e2dc-4b07-a4f0-4b1b89738a45",
   "metadata": {},
   "source": [
    "# Data Exploration"
   ]
  },
  {
   "cell_type": "code",
   "execution_count": 6,
   "id": "e77f8940-c1cc-43c9-91d2-dbd6f1cd0602",
   "metadata": {},
   "outputs": [
    {
     "data": {
      "text/plain": [
       "(1000, 5)"
      ]
     },
     "execution_count": 6,
     "metadata": {},
     "output_type": "execute_result"
    }
   ],
   "source": [
    "df.shape"
   ]
  },
  {
   "cell_type": "code",
   "execution_count": 10,
   "id": "af36f73b-aca9-4853-a58e-afc05d2b5e75",
   "metadata": {},
   "outputs": [],
   "source": [
    "df['Attendance_Date'] = pd.to_datetime(df['Attendance_Date'])"
   ]
  },
  {
   "cell_type": "code",
   "execution_count": 11,
   "id": "b810af97-5831-4ce1-bf73-e0487865708a",
   "metadata": {},
   "outputs": [
    {
     "name": "stdout",
     "output_type": "stream",
     "text": [
      "<class 'pandas.core.frame.DataFrame'>\n",
      "RangeIndex: 1000 entries, 0 to 999\n",
      "Data columns (total 5 columns):\n",
      " #   Column           Non-Null Count  Dtype         \n",
      "---  ------           --------------  -----         \n",
      " 0   Employee_Id      1000 non-null   object        \n",
      " 1   Employee_name    1000 non-null   object        \n",
      " 2   Attendance_Date  1000 non-null   datetime64[ns]\n",
      " 3   Present_Status   1000 non-null   object        \n",
      " 4   Hours_Worked     1000 non-null   int64         \n",
      "dtypes: datetime64[ns](1), int64(1), object(3)\n",
      "memory usage: 39.2+ KB\n"
     ]
    }
   ],
   "source": [
    "df.info()"
   ]
  },
  {
   "cell_type": "code",
   "execution_count": 13,
   "id": "ffcfe526-6c58-4f88-9999-cae4ac4a8045",
   "metadata": {},
   "outputs": [
    {
     "data": {
      "text/html": [
       "<div>\n",
       "<style scoped>\n",
       "    .dataframe tbody tr th:only-of-type {\n",
       "        vertical-align: middle;\n",
       "    }\n",
       "\n",
       "    .dataframe tbody tr th {\n",
       "        vertical-align: top;\n",
       "    }\n",
       "\n",
       "    .dataframe thead th {\n",
       "        text-align: right;\n",
       "    }\n",
       "</style>\n",
       "<table border=\"1\" class=\"dataframe\">\n",
       "  <thead>\n",
       "    <tr style=\"text-align: right;\">\n",
       "      <th></th>\n",
       "      <th>Attendance_Date</th>\n",
       "      <th>Hours_Worked</th>\n",
       "    </tr>\n",
       "  </thead>\n",
       "  <tbody>\n",
       "    <tr>\n",
       "      <th>count</th>\n",
       "      <td>1000</td>\n",
       "      <td>1000.000000</td>\n",
       "    </tr>\n",
       "    <tr>\n",
       "      <th>mean</th>\n",
       "      <td>2023-02-14 13:00:28.799999744</td>\n",
       "      <td>2.253000</td>\n",
       "    </tr>\n",
       "    <tr>\n",
       "      <th>min</th>\n",
       "      <td>2023-01-01 00:00:00</td>\n",
       "      <td>0.000000</td>\n",
       "    </tr>\n",
       "    <tr>\n",
       "      <th>25%</th>\n",
       "      <td>2023-01-24 00:00:00</td>\n",
       "      <td>0.000000</td>\n",
       "    </tr>\n",
       "    <tr>\n",
       "      <th>50%</th>\n",
       "      <td>2023-02-15 00:00:00</td>\n",
       "      <td>0.000000</td>\n",
       "    </tr>\n",
       "    <tr>\n",
       "      <th>75%</th>\n",
       "      <td>2023-03-07 00:00:00</td>\n",
       "      <td>5.000000</td>\n",
       "    </tr>\n",
       "    <tr>\n",
       "      <th>max</th>\n",
       "      <td>2023-03-31 00:00:00</td>\n",
       "      <td>8.000000</td>\n",
       "    </tr>\n",
       "    <tr>\n",
       "      <th>std</th>\n",
       "      <td>NaN</td>\n",
       "      <td>2.846593</td>\n",
       "    </tr>\n",
       "  </tbody>\n",
       "</table>\n",
       "</div>"
      ],
      "text/plain": [
       "                     Attendance_Date  Hours_Worked\n",
       "count                           1000   1000.000000\n",
       "mean   2023-02-14 13:00:28.799999744      2.253000\n",
       "min              2023-01-01 00:00:00      0.000000\n",
       "25%              2023-01-24 00:00:00      0.000000\n",
       "50%              2023-02-15 00:00:00      0.000000\n",
       "75%              2023-03-07 00:00:00      5.000000\n",
       "max              2023-03-31 00:00:00      8.000000\n",
       "std                              NaN      2.846593"
      ]
     },
     "execution_count": 13,
     "metadata": {},
     "output_type": "execute_result"
    }
   ],
   "source": [
    "df.describe()"
   ]
  },
  {
   "cell_type": "code",
   "execution_count": 14,
   "id": "66c62f11-26ac-4205-9d13-4dd4f4428ba6",
   "metadata": {},
   "outputs": [
    {
     "data": {
      "text/plain": [
       "Employee_Id        0\n",
       "Employee_name      0\n",
       "Attendance_Date    0\n",
       "Present_Status     0\n",
       "Hours_Worked       0\n",
       "dtype: int64"
      ]
     },
     "execution_count": 14,
     "metadata": {},
     "output_type": "execute_result"
    }
   ],
   "source": [
    "df.isnull().sum()"
   ]
  },
  {
   "cell_type": "markdown",
   "id": "43df1a81-37e8-462c-a2d0-8bc99a1f0063",
   "metadata": {},
   "source": [
    "# Feature Engineering"
   ]
  },
  {
   "cell_type": "code",
   "execution_count": 15,
   "id": "b9d216f0-4bf1-48da-8d9e-960afb4862ce",
   "metadata": {},
   "outputs": [],
   "source": [
    "df['Present_Status'] = df['Present_Status'].map({'Yes': 1, 'No': 0})"
   ]
  },
  {
   "cell_type": "code",
   "execution_count": 16,
   "id": "a8ac8924-ca9d-46bb-be9b-7dce0fe2fb3f",
   "metadata": {},
   "outputs": [],
   "source": [
    "total_days_present = df.groupby('Employee_Id')['Present_Status'].sum().reset_index()\n",
    "total_days_present.columns = ['Employee_Id', 'Total_Days_Present']"
   ]
  },
  {
   "cell_type": "code",
   "execution_count": 17,
   "id": "7d2e3bde-5a00-4c4e-b752-94e20e1a76bb",
   "metadata": {},
   "outputs": [],
   "source": [
    "total_hours_worked = df.groupby('Employee_Id')['Hours_Worked'].sum().reset_index()\n",
    "total_hours_worked.columns = ['Employee_Id', 'Total_Hours_Worked']"
   ]
  },
  {
   "cell_type": "code",
   "execution_count": 18,
   "id": "8a72850b-7106-4da3-a744-8baa287519aa",
   "metadata": {},
   "outputs": [],
   "source": [
    "average_hours_per_day = df.groupby('Employee_Id')['Hours_Worked'].mean().reset_index()\n",
    "average_hours_per_day.columns = ['Employee_Id', 'Average_Hours_Per_Day']"
   ]
  },
  {
   "cell_type": "code",
   "execution_count": 19,
   "id": "b7847fcd-6803-4b4a-9db7-16d7bb0c56e3",
   "metadata": {},
   "outputs": [],
   "source": [
    "total_days = df['Attendance_Date'].nunique()\n",
    "attendance_rate = total_days_present.copy()\n",
    "attendance_rate['Attendance_Rate'] = (attendance_rate['Total_Days_Present'] / total_days) * 100"
   ]
  },
  {
   "cell_type": "code",
   "execution_count": 20,
   "id": "869f3354-4aeb-4438-998d-cc9550320d6e",
   "metadata": {},
   "outputs": [],
   "source": [
    "threshold_hours = 8\n",
    "days_worked_more_than_x_hours = df[df['Hours_Worked'] > threshold_hours].groupby('Employee_Id').size().reset_index(name='Days_Worked_More_Than_X_Hours')"
   ]
  },
  {
   "cell_type": "code",
   "execution_count": 21,
   "id": "f62dc8f5-915d-4638-a7d4-7de74ffb72a9",
   "metadata": {},
   "outputs": [],
   "source": [
    "features = total_days_present.merge(total_hours_worked, on='Employee_Id')\n",
    "features = features.merge(average_hours_per_day, on='Employee_Id')\n",
    "features = features.merge(attendance_rate[['Employee_Id', 'Attendance_Rate']], on='Employee_Id')\n",
    "features = features.merge(days_worked_more_than_x_hours, on='Employee_Id', how='left').fillna(0)"
   ]
  },
  {
   "cell_type": "code",
   "execution_count": 22,
   "id": "1d286ad7-e4f3-46cc-a4b1-7672083b0295",
   "metadata": {},
   "outputs": [],
   "source": [
    "final_df = df[['Employee_Id', 'Employee_name']].drop_duplicates().merge(features, on='Employee_Id')"
   ]
  },
  {
   "cell_type": "code",
   "execution_count": 23,
   "id": "5bcbf643-7067-4ab5-a088-c97f2e50e1d2",
   "metadata": {},
   "outputs": [],
   "source": [
    "df['Day_of_Week'] = df['Attendance_Date'].dt.day_name()"
   ]
  },
  {
   "cell_type": "code",
   "execution_count": 24,
   "id": "bdfccdb0-d747-41d1-bfc4-59be7f7418ce",
   "metadata": {},
   "outputs": [],
   "source": [
    "df['Is_Weekend'] = df['Day_of_Week'].isin(['Saturday', 'Sunday']).astype(int)"
   ]
  },
  {
   "cell_type": "code",
   "execution_count": 25,
   "id": "a9ce0cbe-d191-41a9-b9b8-7e9b15a679c7",
   "metadata": {},
   "outputs": [],
   "source": [
    "df['Week_of_Month'] = df['Attendance_Date'].apply(lambda x: (x.day - 1) // 7 + 1)"
   ]
  },
  {
   "cell_type": "code",
   "execution_count": 26,
   "id": "bacc0793-7b2f-47bb-9b88-dca8ca63634e",
   "metadata": {},
   "outputs": [],
   "source": [
    "df['Month'] = df['Attendance_Date'].dt.month"
   ]
  },
  {
   "cell_type": "code",
   "execution_count": 27,
   "id": "27fafc51-6102-425c-9056-2a6c6ee88435",
   "metadata": {},
   "outputs": [],
   "source": [
    "df['Quarter'] = df['Attendance_Date'].dt.quarter"
   ]
  },
  {
   "cell_type": "code",
   "execution_count": 28,
   "id": "2cfe6e1b-9783-4081-b501-68b2915ceee7",
   "metadata": {},
   "outputs": [],
   "source": [
    "start_date = df['Attendance_Date'].min()\n",
    "df['Days_Since_Start'] = (df['Attendance_Date'] - start_date).dt.days"
   ]
  },
  {
   "cell_type": "code",
   "execution_count": 29,
   "id": "af15ed09-a247-479a-9d7b-0f03869f2856",
   "metadata": {},
   "outputs": [],
   "source": [
    "df['Cumulative_Days_Present'] = df.sort_values('Attendance_Date').groupby('Employee_Id')['Present_Status'].cumsum()"
   ]
  },
  {
   "cell_type": "code",
   "execution_count": 30,
   "id": "3c2afe89-d5e5-4917-bc45-61e513b6b361",
   "metadata": {},
   "outputs": [],
   "source": [
    "df['Rolling_Avg_Hours_Worked'] = df.groupby('Employee_Id')['Hours_Worked'].rolling(window=7, min_periods=1).mean().reset_index(level=0, drop=True)"
   ]
  },
  {
   "cell_type": "code",
   "execution_count": 31,
   "id": "4392a87c-face-4a5c-9062-3188f3f0eb7b",
   "metadata": {},
   "outputs": [],
   "source": [
    "final_df = df.copy()"
   ]
  },
  {
   "cell_type": "code",
   "execution_count": 32,
   "id": "5718d764-78a2-4b50-850c-688437e02040",
   "metadata": {},
   "outputs": [
    {
     "data": {
      "text/plain": [
       "(1000, 13)"
      ]
     },
     "execution_count": 32,
     "metadata": {},
     "output_type": "execute_result"
    }
   ],
   "source": [
    "final_df.shape"
   ]
  },
  {
   "cell_type": "code",
   "execution_count": 33,
   "id": "123cb0e8-d1bf-4ce7-9845-b675e3d2727b",
   "metadata": {
    "scrolled": true
   },
   "outputs": [
    {
     "data": {
      "text/html": [
       "<div>\n",
       "<style scoped>\n",
       "    .dataframe tbody tr th:only-of-type {\n",
       "        vertical-align: middle;\n",
       "    }\n",
       "\n",
       "    .dataframe tbody tr th {\n",
       "        vertical-align: top;\n",
       "    }\n",
       "\n",
       "    .dataframe thead th {\n",
       "        text-align: right;\n",
       "    }\n",
       "</style>\n",
       "<table border=\"1\" class=\"dataframe\">\n",
       "  <thead>\n",
       "    <tr style=\"text-align: right;\">\n",
       "      <th></th>\n",
       "      <th>Employee_Id</th>\n",
       "      <th>Employee_name</th>\n",
       "      <th>Attendance_Date</th>\n",
       "      <th>Present_Status</th>\n",
       "      <th>Hours_Worked</th>\n",
       "      <th>Day_of_Week</th>\n",
       "      <th>Is_Weekend</th>\n",
       "      <th>Week_of_Month</th>\n",
       "      <th>Month</th>\n",
       "      <th>Quarter</th>\n",
       "      <th>Days_Since_Start</th>\n",
       "      <th>Cumulative_Days_Present</th>\n",
       "      <th>Rolling_Avg_Hours_Worked</th>\n",
       "    </tr>\n",
       "  </thead>\n",
       "  <tbody>\n",
       "    <tr>\n",
       "      <th>0</th>\n",
       "      <td>E0044</td>\n",
       "      <td>Matthew Nelson</td>\n",
       "      <td>2023-01-01</td>\n",
       "      <td>0</td>\n",
       "      <td>0</td>\n",
       "      <td>Sunday</td>\n",
       "      <td>1</td>\n",
       "      <td>1</td>\n",
       "      <td>1</td>\n",
       "      <td>1</td>\n",
       "      <td>0</td>\n",
       "      <td>0</td>\n",
       "      <td>0.0</td>\n",
       "    </tr>\n",
       "    <tr>\n",
       "      <th>1</th>\n",
       "      <td>E0071</td>\n",
       "      <td>Kenneth Clark</td>\n",
       "      <td>2023-01-01</td>\n",
       "      <td>0</td>\n",
       "      <td>0</td>\n",
       "      <td>Sunday</td>\n",
       "      <td>1</td>\n",
       "      <td>1</td>\n",
       "      <td>1</td>\n",
       "      <td>1</td>\n",
       "      <td>0</td>\n",
       "      <td>0</td>\n",
       "      <td>0.0</td>\n",
       "    </tr>\n",
       "    <tr>\n",
       "      <th>2</th>\n",
       "      <td>E0059</td>\n",
       "      <td>Jennifer Kane</td>\n",
       "      <td>2023-01-01</td>\n",
       "      <td>0</td>\n",
       "      <td>0</td>\n",
       "      <td>Sunday</td>\n",
       "      <td>1</td>\n",
       "      <td>1</td>\n",
       "      <td>1</td>\n",
       "      <td>1</td>\n",
       "      <td>0</td>\n",
       "      <td>0</td>\n",
       "      <td>0.0</td>\n",
       "    </tr>\n",
       "    <tr>\n",
       "      <th>3</th>\n",
       "      <td>E0036</td>\n",
       "      <td>Jill Bush</td>\n",
       "      <td>2023-01-01</td>\n",
       "      <td>0</td>\n",
       "      <td>0</td>\n",
       "      <td>Sunday</td>\n",
       "      <td>1</td>\n",
       "      <td>1</td>\n",
       "      <td>1</td>\n",
       "      <td>1</td>\n",
       "      <td>0</td>\n",
       "      <td>0</td>\n",
       "      <td>0.0</td>\n",
       "    </tr>\n",
       "    <tr>\n",
       "      <th>4</th>\n",
       "      <td>E0024</td>\n",
       "      <td>Madison Edwards</td>\n",
       "      <td>2023-01-02</td>\n",
       "      <td>0</td>\n",
       "      <td>0</td>\n",
       "      <td>Monday</td>\n",
       "      <td>0</td>\n",
       "      <td>1</td>\n",
       "      <td>1</td>\n",
       "      <td>1</td>\n",
       "      <td>1</td>\n",
       "      <td>0</td>\n",
       "      <td>0.0</td>\n",
       "    </tr>\n",
       "  </tbody>\n",
       "</table>\n",
       "</div>"
      ],
      "text/plain": [
       "  Employee_Id    Employee_name Attendance_Date  Present_Status  Hours_Worked  \\\n",
       "0       E0044   Matthew Nelson      2023-01-01               0             0   \n",
       "1       E0071    Kenneth Clark      2023-01-01               0             0   \n",
       "2       E0059    Jennifer Kane      2023-01-01               0             0   \n",
       "3       E0036        Jill Bush      2023-01-01               0             0   \n",
       "4       E0024  Madison Edwards      2023-01-02               0             0   \n",
       "\n",
       "  Day_of_Week  Is_Weekend  Week_of_Month  Month  Quarter  Days_Since_Start  \\\n",
       "0      Sunday           1              1      1        1                 0   \n",
       "1      Sunday           1              1      1        1                 0   \n",
       "2      Sunday           1              1      1        1                 0   \n",
       "3      Sunday           1              1      1        1                 0   \n",
       "4      Monday           0              1      1        1                 1   \n",
       "\n",
       "   Cumulative_Days_Present  Rolling_Avg_Hours_Worked  \n",
       "0                        0                       0.0  \n",
       "1                        0                       0.0  \n",
       "2                        0                       0.0  \n",
       "3                        0                       0.0  \n",
       "4                        0                       0.0  "
      ]
     },
     "execution_count": 33,
     "metadata": {},
     "output_type": "execute_result"
    }
   ],
   "source": [
    "final_df.head()"
   ]
  },
  {
   "cell_type": "markdown",
   "id": "e0e46363-2e8f-47c1-bde8-5947003db437",
   "metadata": {},
   "source": [
    "# Model Training"
   ]
  },
  {
   "cell_type": "code",
   "execution_count": 46,
   "id": "a19fe2fb-c2e2-478b-82d1-73bd895a570d",
   "metadata": {},
   "outputs": [],
   "source": [
    "# Assuming df is your dataframe with all the engineered features\n",
    "df = final_df.copy()"
   ]
  },
  {
   "cell_type": "code",
   "execution_count": 47,
   "id": "f1811d4c-f384-4477-a5d7-46f1aadddf43",
   "metadata": {},
   "outputs": [],
   "source": [
    "# Handle missing values if any\n",
    "df.fillna(0, inplace=True)"
   ]
  },
  {
   "cell_type": "code",
   "execution_count": 48,
   "id": "76153155-b7b6-42bd-826a-7d2fc4a2d248",
   "metadata": {},
   "outputs": [],
   "source": [
    "# Define the target variable and features\n",
    "X = df.drop(columns=['Hours_Worked', 'Employee_name', 'Attendance_Date','Employee_Id','Present_Status','Day_of_Week'])\n",
    "y = df['Hours_Worked']"
   ]
  },
  {
   "cell_type": "code",
   "execution_count": 49,
   "id": "f97728bc-cc02-4a93-98e5-2a5993e50cf5",
   "metadata": {},
   "outputs": [],
   "source": [
    "X.columns = X.columns.str.upper()"
   ]
  },
  {
   "cell_type": "code",
   "execution_count": 50,
   "id": "c3801367-16a5-4900-9359-b87b1abb7010",
   "metadata": {},
   "outputs": [],
   "source": [
    "y.name = 'HOURS_WORKED'"
   ]
  },
  {
   "cell_type": "code",
   "execution_count": 51,
   "id": "16ea844b-7cba-4348-9691-08fb498bea8a",
   "metadata": {},
   "outputs": [],
   "source": [
    "# Split the data into training and testing sets\n",
    "X_train, X_test, y_train, y_test = train_test_split(X, y, test_size=0.2, random_state=42)"
   ]
  },
  {
   "cell_type": "code",
   "execution_count": 52,
   "id": "0c6bbf82-86ec-4eef-ac78-e8d4cbf31c51",
   "metadata": {},
   "outputs": [],
   "source": [
    "# Standardize the features\n",
    "scaler = StandardScaler()\n",
    "X_train = scaler.fit_transform(X_train)\n",
    "X_test = scaler.transform(X_test)"
   ]
  },
  {
   "cell_type": "code",
   "execution_count": 53,
   "id": "12787819-6ef9-4eef-aa1a-b8089e10e4ee",
   "metadata": {},
   "outputs": [],
   "source": [
    "# Initialize the model\n",
    "model = RandomForestRegressor(n_estimators=100, random_state=42)\n",
    "\n",
    "# Train the model\n",
    "model.fit(X_train, y_train)\n",
    "\n",
    "# Make predictions\n",
    "y_pred = model.predict(X_test)"
   ]
  },
  {
   "cell_type": "code",
   "execution_count": 57,
   "id": "f6edfb84-2a8f-4520-8b1f-92a4e9645b0e",
   "metadata": {},
   "outputs": [],
   "source": [
    "# Evaluate the model\n",
    "mae = mean_absolute_error(y_test, y_pred)\n",
    "mse = mean_squared_error(y_test, y_pred)\n",
    "rmse = mse ** 0.5\n",
    "r2 = r2_score(y_test, y_pred)"
   ]
  },
  {
   "cell_type": "code",
   "execution_count": 58,
   "id": "49c7c9fb-42e9-4c39-8bfa-a30e6b8beeaf",
   "metadata": {},
   "outputs": [
    {
     "name": "stdout",
     "output_type": "stream",
     "text": [
      "Mean Absolute Error: 0.8299850000000001\n",
      "Root Mean Squared Error: 1.4625459166736219\n",
      "R2 Score: 0.7219416194573889\n"
     ]
    }
   ],
   "source": [
    "print(f'Mean Absolute Error: {mae}')\n",
    "print(f'Root Mean Squared Error: {rmse}')\n",
    "print(f'R2 Score: {r2}')"
   ]
  },
  {
   "cell_type": "markdown",
   "id": "6715f1ff-dc9a-45d5-ac5a-71294402c947",
   "metadata": {},
   "source": [
    "# Tunning the Model"
   ]
  },
  {
   "cell_type": "code",
   "execution_count": null,
   "id": "767c51f8-1081-4cd6-8804-fb48b19071e3",
   "metadata": {},
   "outputs": [],
   "source": []
  },
  {
   "cell_type": "code",
   "execution_count": null,
   "id": "b66bcc6d-5115-403d-8551-8c34a6635d3e",
   "metadata": {},
   "outputs": [],
   "source": []
  },
  {
   "cell_type": "code",
   "execution_count": null,
   "id": "889a7388-359a-43c7-a189-fbfef1f763da",
   "metadata": {},
   "outputs": [],
   "source": []
  },
  {
   "cell_type": "code",
   "execution_count": null,
   "id": "450d5fb4-e9e1-4041-8086-7762a425126f",
   "metadata": {},
   "outputs": [],
   "source": []
  },
  {
   "cell_type": "code",
   "execution_count": null,
   "id": "bbb566cb-98a4-4322-b2c4-6e1e26716b49",
   "metadata": {},
   "outputs": [],
   "source": []
  },
  {
   "cell_type": "code",
   "execution_count": null,
   "id": "c35e0e25-a435-44a7-b219-5ac5ac1d9a08",
   "metadata": {},
   "outputs": [],
   "source": []
  },
  {
   "cell_type": "code",
   "execution_count": null,
   "id": "9be59c81-a733-4473-a66b-6b03e070e777",
   "metadata": {},
   "outputs": [],
   "source": []
  }
 ],
 "metadata": {
  "kernelspec": {
   "display_name": "Python 3 (ipykernel)",
   "language": "python",
   "name": "python3"
  },
  "language_info": {
   "codemirror_mode": {
    "name": "ipython",
    "version": 3
   },
   "file_extension": ".py",
   "mimetype": "text/x-python",
   "name": "python",
   "nbconvert_exporter": "python",
   "pygments_lexer": "ipython3",
   "version": "3.9.19"
  }
 },
 "nbformat": 4,
 "nbformat_minor": 5
}
