{
 "cells": [
  {
   "cell_type": "code",
   "execution_count": null,
   "id": "b4f938a0-59a9-487e-8453-1c651ab7b38f",
   "metadata": {},
   "outputs": [],
   "source": []
  }
 ],
 "metadata": {
  "kernelspec": {
   "display_name": "",
   "name": ""
  },
  "language_info": {
   "name": ""
  }
 },
 "nbformat": 4,
 "nbformat_minor": 5
}
