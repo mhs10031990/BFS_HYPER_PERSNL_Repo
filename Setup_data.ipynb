{
 "cells": [
  {
   "cell_type": "code",
   "execution_count": 1,
   "id": "b4f938a0-59a9-487e-8453-1c651ab7b38f",
   "metadata": {},
   "outputs": [],
   "source": [
    "import pandas as pd\n",
    "import numpy as np\n",
    "import fosforml\n",
    "\n",
    "from snowflake.snowpark import Session\n",
    "from snowflake.connector.pandas_tools import write_pandas\n",
    "\n",
    "from fosforml.model_manager.snowflakesession import get_session\n",
    "my_session = get_session()"
   ]
  },
  {
   "cell_type": "code",
   "execution_count": null,
   "id": "bdf44fe8-a65d-4764-ab01-3d0269b458b8",
   "metadata": {},
   "outputs": [],
   "source": [
    "cust1 = pd.read_csv('Customer_details_file1.csv')"
   ]
  },
  {
   "cell_type": "code",
   "execution_count": null,
   "id": "7c75a33c-ff82-4c96-84a7-ce8c72ab76b5",
   "metadata": {},
   "outputs": [],
   "source": [
    "cust1.shape"
   ]
  },
  {
   "cell_type": "code",
   "execution_count": null,
   "id": "03df5c35-7425-4c5c-8856-8a30144e8595",
   "metadata": {},
   "outputs": [],
   "source": [
    "cust1.info()"
   ]
  },
  {
   "cell_type": "code",
   "execution_count": null,
   "id": "7994fc31-440e-41ff-96c1-acc60edf9fff",
   "metadata": {},
   "outputs": [],
   "source": [
    "cust1.head()"
   ]
  },
  {
   "cell_type": "code",
   "execution_count": null,
   "id": "68a03a2a-c3d8-42ab-bf25-667a13d4ff5e",
   "metadata": {},
   "outputs": [],
   "source": [
    "cust1.isnull().sum()"
   ]
  },
  {
   "cell_type": "code",
   "execution_count": null,
   "id": "0b28d684-bc9a-4e65-b5eb-8f228badc062",
   "metadata": {},
   "outputs": [],
   "source": [
    "df_snowflake=my_session.createDataFrame(\n",
    "        fc.values.tolist(),\n",
    "        schema=fc.columns.tolist())\n",
    "df_snowflake.write.mode(\"overwrite\").save_as_table(\"BFS_HYPER_PERSNL_DB.BFS_HYPER_PERSNL_SCHEMA.CUSTOMER_DATA_FILE1\")"
   ]
  },
  {
   "cell_type": "code",
   "execution_count": 8,
   "id": "3f431e88-e7c1-48e9-86db-f65b0f06ed1c",
   "metadata": {},
   "outputs": [],
   "source": [
    "loan =  pd.read_csv('loan.csv')\n",
    "fc =  pd.read_csv('Final_classification.csv')\n",
    "fb =  pd.read_csv('Financial_breakdown.csv')\n",
    "ac =  pd.read_csv('account.csv')\n",
    "cc =  pd.read_csv('credit_card.csv')\n",
    "db =  pd.read_csv('direct_debit.csv')\n",
    "kyc =  pd.read_csv('kyc.csv')\n",
    "sub =  pd.read_csv('subscriptions.csv')\n",
    "td =  pd.read_csv('term_deposit.csv')\n",
    "tr =  pd.read_csv('transactions.csv')"
   ]
  },
  {
   "cell_type": "markdown",
   "id": "5a0cdd89-1f84-4a49-bb4e-f69865eb4d4f",
   "metadata": {},
   "source": [
    "# final Classification dataset"
   ]
  },
  {
   "cell_type": "code",
   "execution_count": 9,
   "id": "f26a9533-13d2-4481-9905-73fea3012fda",
   "metadata": {},
   "outputs": [
    {
     "data": {
      "text/plain": [
       "(1016, 18)"
      ]
     },
     "execution_count": 9,
     "metadata": {},
     "output_type": "execute_result"
    }
   ],
   "source": [
    "fc.shape"
   ]
  },
  {
   "cell_type": "code",
   "execution_count": 56,
   "id": "e788c31a-a081-41aa-9848-10b76b0fb9ae",
   "metadata": {},
   "outputs": [
    {
     "name": "stdout",
     "output_type": "stream",
     "text": [
      "<class 'pandas.core.frame.DataFrame'>\n",
      "RangeIndex: 1016 entries, 0 to 1015\n",
      "Data columns (total 18 columns):\n",
      " #   Column                    Non-Null Count  Dtype  \n",
      "---  ------                    --------------  -----  \n",
      " 0   Cust_ID                   1016 non-null   int64  \n",
      " 1   Emp_Status                1016 non-null   object \n",
      " 2   Slope_Balance_6M          1016 non-null   float64\n",
      " 3   Slope_Income_6M           1016 non-null   float64\n",
      " 4   Slope_Expense_6M          1016 non-null   float64\n",
      " 5   Anomaly                   1016 non-null   int64  \n",
      " 6   Fees_Charges              1016 non-null   float64\n",
      " 7   Mortgage_Mthly_Payment    55 non-null     float64\n",
      " 8   Car_Mthly_Payment         44 non-null     float64\n",
      " 9   Loan_Late_Payment         99 non-null     object \n",
      " 10  CC_Mthly_Payment          374 non-null    float64\n",
      " 11  CC_Annual_Fee             374 non-null    float64\n",
      " 12  CC_Outstanding            374 non-null    float64\n",
      " 13  CC_Late_Payment           374 non-null    object \n",
      " 14  Subscriptions_Count       223 non-null    float64\n",
      " 15  Flag_Negative_Bal_Months  794 non-null    float64\n",
      " 16  HH_Amount                 89 non-null     float64\n",
      " 17  Others_Amount             89 non-null     float64\n",
      "dtypes: float64(13), int64(2), object(3)\n",
      "memory usage: 143.0+ KB\n"
     ]
    }
   ],
   "source": [
    "fc.info()"
   ]
  },
  {
   "cell_type": "code",
   "execution_count": 10,
   "id": "9c6b7a91-3477-44a5-9744-b7be52b6cc68",
   "metadata": {},
   "outputs": [
    {
     "data": {
      "text/html": [
       "<div>\n",
       "<style scoped>\n",
       "    .dataframe tbody tr th:only-of-type {\n",
       "        vertical-align: middle;\n",
       "    }\n",
       "\n",
       "    .dataframe tbody tr th {\n",
       "        vertical-align: top;\n",
       "    }\n",
       "\n",
       "    .dataframe thead th {\n",
       "        text-align: right;\n",
       "    }\n",
       "</style>\n",
       "<table border=\"1\" class=\"dataframe\">\n",
       "  <thead>\n",
       "    <tr style=\"text-align: right;\">\n",
       "      <th></th>\n",
       "      <th>Cust_ID</th>\n",
       "      <th>Emp_Status</th>\n",
       "      <th>Slope_Balance_6M</th>\n",
       "      <th>Slope_Income_6M</th>\n",
       "      <th>Slope_Expense_6M</th>\n",
       "      <th>Anomaly</th>\n",
       "      <th>Fees_Charges</th>\n",
       "      <th>Mortgage_Mthly_Payment</th>\n",
       "      <th>Car_Mthly_Payment</th>\n",
       "      <th>Loan_Late_Payment</th>\n",
       "      <th>CC_Mthly_Payment</th>\n",
       "      <th>CC_Annual_Fee</th>\n",
       "      <th>CC_Outstanding</th>\n",
       "      <th>CC_Late_Payment</th>\n",
       "      <th>Subscriptions_Count</th>\n",
       "      <th>Flag_Negative_Bal_Months</th>\n",
       "      <th>HH_Amount</th>\n",
       "      <th>Others_Amount</th>\n",
       "    </tr>\n",
       "  </thead>\n",
       "  <tbody>\n",
       "    <tr>\n",
       "      <th>0</th>\n",
       "      <td>100011</td>\n",
       "      <td>Non-working</td>\n",
       "      <td>-441.660571</td>\n",
       "      <td>-3912.310857</td>\n",
       "      <td>-3134.786571</td>\n",
       "      <td>0</td>\n",
       "      <td>14.571429</td>\n",
       "      <td>3337.43</td>\n",
       "      <td>NaN</td>\n",
       "      <td>No</td>\n",
       "      <td>NaN</td>\n",
       "      <td>NaN</td>\n",
       "      <td>NaN</td>\n",
       "      <td>NaN</td>\n",
       "      <td>NaN</td>\n",
       "      <td>0.0</td>\n",
       "      <td>NaN</td>\n",
       "      <td>NaN</td>\n",
       "    </tr>\n",
       "    <tr>\n",
       "      <th>1</th>\n",
       "      <td>100012</td>\n",
       "      <td>Working</td>\n",
       "      <td>1140.641429</td>\n",
       "      <td>-43.326286</td>\n",
       "      <td>11.750857</td>\n",
       "      <td>0</td>\n",
       "      <td>17.857143</td>\n",
       "      <td>NaN</td>\n",
       "      <td>NaN</td>\n",
       "      <td>NaN</td>\n",
       "      <td>NaN</td>\n",
       "      <td>NaN</td>\n",
       "      <td>NaN</td>\n",
       "      <td>NaN</td>\n",
       "      <td>4.0</td>\n",
       "      <td>0.0</td>\n",
       "      <td>NaN</td>\n",
       "      <td>NaN</td>\n",
       "    </tr>\n",
       "    <tr>\n",
       "      <th>2</th>\n",
       "      <td>100013</td>\n",
       "      <td>Unknown</td>\n",
       "      <td>3502.731429</td>\n",
       "      <td>1997.372286</td>\n",
       "      <td>560.880000</td>\n",
       "      <td>0</td>\n",
       "      <td>7.657143</td>\n",
       "      <td>NaN</td>\n",
       "      <td>NaN</td>\n",
       "      <td>NaN</td>\n",
       "      <td>NaN</td>\n",
       "      <td>NaN</td>\n",
       "      <td>NaN</td>\n",
       "      <td>NaN</td>\n",
       "      <td>NaN</td>\n",
       "      <td>0.0</td>\n",
       "      <td>NaN</td>\n",
       "      <td>NaN</td>\n",
       "    </tr>\n",
       "    <tr>\n",
       "      <th>3</th>\n",
       "      <td>100014</td>\n",
       "      <td>Retired</td>\n",
       "      <td>60473.149140</td>\n",
       "      <td>-199.484000</td>\n",
       "      <td>1341.280571</td>\n",
       "      <td>0</td>\n",
       "      <td>-5.257143</td>\n",
       "      <td>NaN</td>\n",
       "      <td>NaN</td>\n",
       "      <td>NaN</td>\n",
       "      <td>110088.0</td>\n",
       "      <td>89.81</td>\n",
       "      <td>47301.0</td>\n",
       "      <td>No</td>\n",
       "      <td>NaN</td>\n",
       "      <td>6.0</td>\n",
       "      <td>NaN</td>\n",
       "      <td>NaN</td>\n",
       "    </tr>\n",
       "    <tr>\n",
       "      <th>4</th>\n",
       "      <td>100015</td>\n",
       "      <td>Working</td>\n",
       "      <td>-150.322286</td>\n",
       "      <td>1334.580857</td>\n",
       "      <td>1242.962857</td>\n",
       "      <td>1</td>\n",
       "      <td>9.542857</td>\n",
       "      <td>NaN</td>\n",
       "      <td>NaN</td>\n",
       "      <td>NaN</td>\n",
       "      <td>73190.0</td>\n",
       "      <td>0.00</td>\n",
       "      <td>14793.0</td>\n",
       "      <td>Yes</td>\n",
       "      <td>NaN</td>\n",
       "      <td>0.0</td>\n",
       "      <td>NaN</td>\n",
       "      <td>NaN</td>\n",
       "    </tr>\n",
       "  </tbody>\n",
       "</table>\n",
       "</div>"
      ],
      "text/plain": [
       "   Cust_ID   Emp_Status  Slope_Balance_6M  Slope_Income_6M  Slope_Expense_6M  \\\n",
       "0   100011  Non-working       -441.660571     -3912.310857      -3134.786571   \n",
       "1   100012      Working       1140.641429       -43.326286         11.750857   \n",
       "2   100013      Unknown       3502.731429      1997.372286        560.880000   \n",
       "3   100014      Retired      60473.149140      -199.484000       1341.280571   \n",
       "4   100015      Working       -150.322286      1334.580857       1242.962857   \n",
       "\n",
       "   Anomaly  Fees_Charges   Mortgage_Mthly_Payment  Car_Mthly_Payment  \\\n",
       "0        0      14.571429                 3337.43                NaN   \n",
       "1        0      17.857143                     NaN                NaN   \n",
       "2        0       7.657143                     NaN                NaN   \n",
       "3        0      -5.257143                     NaN                NaN   \n",
       "4        1       9.542857                     NaN                NaN   \n",
       "\n",
       "  Loan_Late_Payment  CC_Mthly_Payment  CC_Annual_Fee  CC_Outstanding  \\\n",
       "0                No               NaN            NaN             NaN   \n",
       "1               NaN               NaN            NaN             NaN   \n",
       "2               NaN               NaN            NaN             NaN   \n",
       "3               NaN          110088.0          89.81         47301.0   \n",
       "4               NaN           73190.0           0.00         14793.0   \n",
       "\n",
       "  CC_Late_Payment  Subscriptions_Count  Flag_Negative_Bal_Months  HH_Amount  \\\n",
       "0             NaN                  NaN                       0.0        NaN   \n",
       "1             NaN                  4.0                       0.0        NaN   \n",
       "2             NaN                  NaN                       0.0        NaN   \n",
       "3              No                  NaN                       6.0        NaN   \n",
       "4             Yes                  NaN                       0.0        NaN   \n",
       "\n",
       "   Others_Amount  \n",
       "0            NaN  \n",
       "1            NaN  \n",
       "2            NaN  \n",
       "3            NaN  \n",
       "4            NaN  "
      ]
     },
     "execution_count": 10,
     "metadata": {},
     "output_type": "execute_result"
    }
   ],
   "source": [
    "fc.head()"
   ]
  },
  {
   "cell_type": "code",
   "execution_count": 55,
   "id": "f9ed20e8-ac0f-4af0-b5af-6b5f12f46299",
   "metadata": {},
   "outputs": [
    {
     "data": {
      "text/plain": [
       "Cust_ID                       0\n",
       "Emp_Status                    0\n",
       "Slope_Balance_6M              0\n",
       "Slope_Income_6M               0\n",
       "Slope_Expense_6M              0\n",
       "Anomaly                       0\n",
       "Fees_Charges                  0\n",
       "Mortgage_Mthly_Payment      961\n",
       "Car_Mthly_Payment           972\n",
       "Loan_Late_Payment           917\n",
       "CC_Mthly_Payment            642\n",
       "CC_Annual_Fee               642\n",
       "CC_Outstanding              642\n",
       "CC_Late_Payment             642\n",
       "Subscriptions_Count         793\n",
       "Flag_Negative_Bal_Months    222\n",
       "HH_Amount                   927\n",
       "Others_Amount               927\n",
       "dtype: int64"
      ]
     },
     "execution_count": 55,
     "metadata": {},
     "output_type": "execute_result"
    }
   ],
   "source": [
    "fc.isnull().sum()"
   ]
  },
  {
   "cell_type": "code",
   "execution_count": 57,
   "id": "a715bc14-a09a-4ab3-ac28-48a62b47a83d",
   "metadata": {},
   "outputs": [],
   "source": [
    "fc['Mortgage_Mthly_Payment'].fillna(0.0, inplace=True)\n",
    "fc['Car_Mthly_Payment'].fillna(0.0, inplace=True)\n",
    "fc['Loan_Late_Payment'].fillna('UNKNOWN', inplace=True)\n",
    "fc['CC_Mthly_Payment'].fillna(0.0, inplace=True)\n",
    "fc['CC_Annual_Fee'].fillna(0.0, inplace=True)\n",
    "fc['CC_Outstanding'].fillna(0.0, inplace=True)\n",
    "fc['CC_Late_Payment'].fillna('UNKNOWN', inplace=True)\n",
    "fc['Subscriptions_Count'].fillna(0.0, inplace=True)\n",
    "fc['Flag_Negative_Bal_Months'].fillna(0.0, inplace=True)\n",
    "fc['HH_Amount'].fillna(0.0, inplace=True)\n",
    "fc['Others_Amount'].fillna(0.0, inplace=True)"
   ]
  },
  {
   "cell_type": "code",
   "execution_count": 58,
   "id": "53f1f75c-d49f-4171-aadd-b9febff2e156",
   "metadata": {
    "scrolled": true
   },
   "outputs": [
    {
     "data": {
      "text/plain": [
       "Cust_ID                     0\n",
       "Emp_Status                  0\n",
       "Slope_Balance_6M            0\n",
       "Slope_Income_6M             0\n",
       "Slope_Expense_6M            0\n",
       "Anomaly                     0\n",
       "Fees_Charges                0\n",
       "Mortgage_Mthly_Payment      0\n",
       "Car_Mthly_Payment           0\n",
       "Loan_Late_Payment           0\n",
       "CC_Mthly_Payment            0\n",
       "CC_Annual_Fee               0\n",
       "CC_Outstanding              0\n",
       "CC_Late_Payment             0\n",
       "Subscriptions_Count         0\n",
       "Flag_Negative_Bal_Months    0\n",
       "HH_Amount                   0\n",
       "Others_Amount               0\n",
       "dtype: int64"
      ]
     },
     "execution_count": 58,
     "metadata": {},
     "output_type": "execute_result"
    }
   ],
   "source": [
    "fc.isnull().sum()"
   ]
  },
  {
   "cell_type": "code",
   "execution_count": 59,
   "id": "a562f85b-5dd8-4477-a699-0a5ffe5cf75a",
   "metadata": {},
   "outputs": [],
   "source": [
    "df_snowflake=my_session.createDataFrame(\n",
    "        fc.values.tolist(),\n",
    "        schema=fc.columns.tolist())\n",
    "df_snowflake.write.mode(\"overwrite\").save_as_table(\"BFS_HYPER_PERSNL_DB.BFS_HYPER_PERSNL_SCHEMA.CUSTOMER_CLASSIFICATION_OUTPUT\")"
   ]
  },
  {
   "cell_type": "markdown",
   "id": "d9ceca20-e809-482f-bfb1-d0d37aeaf8e6",
   "metadata": {},
   "source": [
    "# Loan dataset"
   ]
  },
  {
   "cell_type": "code",
   "execution_count": 4,
   "id": "030376e0-8715-49af-8b56-602c5d84f578",
   "metadata": {},
   "outputs": [
    {
     "data": {
      "text/plain": [
       "(100000, 22)"
      ]
     },
     "execution_count": 4,
     "metadata": {},
     "output_type": "execute_result"
    }
   ],
   "source": [
    "loan.shape"
   ]
  },
  {
   "cell_type": "code",
   "execution_count": 5,
   "id": "b6b5ec04-a913-4cc8-8093-7910e79e3fb6",
   "metadata": {
    "scrolled": true
   },
   "outputs": [
    {
     "data": {
      "text/html": [
       "<div>\n",
       "<style scoped>\n",
       "    .dataframe tbody tr th:only-of-type {\n",
       "        vertical-align: middle;\n",
       "    }\n",
       "\n",
       "    .dataframe tbody tr th {\n",
       "        vertical-align: top;\n",
       "    }\n",
       "\n",
       "    .dataframe thead th {\n",
       "        text-align: right;\n",
       "    }\n",
       "</style>\n",
       "<table border=\"1\" class=\"dataframe\">\n",
       "  <thead>\n",
       "    <tr style=\"text-align: right;\">\n",
       "      <th></th>\n",
       "      <th>Loan ID</th>\n",
       "      <th>Loan Status</th>\n",
       "      <th>Current Loan Amount</th>\n",
       "      <th>Term</th>\n",
       "      <th>Credit Score</th>\n",
       "      <th>Annual Income</th>\n",
       "      <th>Years in current job</th>\n",
       "      <th>Home Ownership</th>\n",
       "      <th>Purpose</th>\n",
       "      <th>Monthly Debt</th>\n",
       "      <th>...</th>\n",
       "      <th>Number of Open Accounts</th>\n",
       "      <th>Number of Credit Problems</th>\n",
       "      <th>Current Credit Balance</th>\n",
       "      <th>Maximum Open Credit</th>\n",
       "      <th>Bankruptcies</th>\n",
       "      <th>Tax Liens</th>\n",
       "      <th>Customer Id</th>\n",
       "      <th>Direct_debit_status</th>\n",
       "      <th>Acc_IBAN</th>\n",
       "      <th>Acc_BBAN</th>\n",
       "    </tr>\n",
       "  </thead>\n",
       "  <tbody>\n",
       "    <tr>\n",
       "      <th>0</th>\n",
       "      <td>14dd8831-6af5-400b-83ec-68e61888a048</td>\n",
       "      <td>Fully Paid</td>\n",
       "      <td>445412</td>\n",
       "      <td>Short Term</td>\n",
       "      <td>709.0</td>\n",
       "      <td>1167493.0</td>\n",
       "      <td>8 years</td>\n",
       "      <td>Home Mortgage</td>\n",
       "      <td>Home Improvements</td>\n",
       "      <td>5214.74</td>\n",
       "      <td>...</td>\n",
       "      <td>6</td>\n",
       "      <td>1</td>\n",
       "      <td>228190</td>\n",
       "      <td>416746.0</td>\n",
       "      <td>1.0</td>\n",
       "      <td>0.0</td>\n",
       "      <td>109431</td>\n",
       "      <td>Yes</td>\n",
       "      <td>GB77BEKP85108114321951</td>\n",
       "      <td>DZEO73686758765150</td>\n",
       "    </tr>\n",
       "    <tr>\n",
       "      <th>1</th>\n",
       "      <td>4771cc26-131a-45db-b5aa-537ea4ba5342</td>\n",
       "      <td>Fully Paid</td>\n",
       "      <td>262328</td>\n",
       "      <td>Short Term</td>\n",
       "      <td>NaN</td>\n",
       "      <td>NaN</td>\n",
       "      <td>10+ years</td>\n",
       "      <td>Home Mortgage</td>\n",
       "      <td>Debt Consolidation</td>\n",
       "      <td>33295.98</td>\n",
       "      <td>...</td>\n",
       "      <td>35</td>\n",
       "      <td>0</td>\n",
       "      <td>229976</td>\n",
       "      <td>850784.0</td>\n",
       "      <td>0.0</td>\n",
       "      <td>0.0</td>\n",
       "      <td>17692</td>\n",
       "      <td>Yes</td>\n",
       "      <td>GB62QYAZ05133954313389</td>\n",
       "      <td>AKML18842042541303</td>\n",
       "    </tr>\n",
       "    <tr>\n",
       "      <th>2</th>\n",
       "      <td>4eed4e6a-aa2f-4c91-8651-ce984ee8fb26</td>\n",
       "      <td>Fully Paid</td>\n",
       "      <td>99999999</td>\n",
       "      <td>Short Term</td>\n",
       "      <td>741.0</td>\n",
       "      <td>2231892.0</td>\n",
       "      <td>8 years</td>\n",
       "      <td>Own Home</td>\n",
       "      <td>Debt Consolidation</td>\n",
       "      <td>29200.53</td>\n",
       "      <td>...</td>\n",
       "      <td>18</td>\n",
       "      <td>1</td>\n",
       "      <td>297996</td>\n",
       "      <td>750090.0</td>\n",
       "      <td>0.0</td>\n",
       "      <td>0.0</td>\n",
       "      <td>18057</td>\n",
       "      <td>No</td>\n",
       "      <td>GB02NDIJ13326012923589</td>\n",
       "      <td>WCXG88711319696828</td>\n",
       "    </tr>\n",
       "    <tr>\n",
       "      <th>3</th>\n",
       "      <td>77598f7b-32e7-4e3b-a6e5-06ba0d98fe8a</td>\n",
       "      <td>Fully Paid</td>\n",
       "      <td>347666</td>\n",
       "      <td>Long Term</td>\n",
       "      <td>721.0</td>\n",
       "      <td>806949.0</td>\n",
       "      <td>3 years</td>\n",
       "      <td>Own Home</td>\n",
       "      <td>Debt Consolidation</td>\n",
       "      <td>8741.90</td>\n",
       "      <td>...</td>\n",
       "      <td>9</td>\n",
       "      <td>0</td>\n",
       "      <td>256329</td>\n",
       "      <td>386958.0</td>\n",
       "      <td>0.0</td>\n",
       "      <td>0.0</td>\n",
       "      <td>71031</td>\n",
       "      <td>Yes</td>\n",
       "      <td>GB31LFAC39388236141938</td>\n",
       "      <td>WWGV47546835245615</td>\n",
       "    </tr>\n",
       "    <tr>\n",
       "      <th>4</th>\n",
       "      <td>d4062e70-befa-4995-8643-a0de73938182</td>\n",
       "      <td>Fully Paid</td>\n",
       "      <td>176220</td>\n",
       "      <td>Short Term</td>\n",
       "      <td>NaN</td>\n",
       "      <td>NaN</td>\n",
       "      <td>5 years</td>\n",
       "      <td>Rent</td>\n",
       "      <td>Debt Consolidation</td>\n",
       "      <td>20639.70</td>\n",
       "      <td>...</td>\n",
       "      <td>15</td>\n",
       "      <td>0</td>\n",
       "      <td>253460</td>\n",
       "      <td>427174.0</td>\n",
       "      <td>0.0</td>\n",
       "      <td>0.0</td>\n",
       "      <td>78850</td>\n",
       "      <td>Yes</td>\n",
       "      <td>GB18EFPE69167475140335</td>\n",
       "      <td>QVOZ42574794211950</td>\n",
       "    </tr>\n",
       "  </tbody>\n",
       "</table>\n",
       "<p>5 rows × 22 columns</p>\n",
       "</div>"
      ],
      "text/plain": [
       "                                Loan ID Loan Status  Current Loan Amount  \\\n",
       "0  14dd8831-6af5-400b-83ec-68e61888a048  Fully Paid               445412   \n",
       "1  4771cc26-131a-45db-b5aa-537ea4ba5342  Fully Paid               262328   \n",
       "2  4eed4e6a-aa2f-4c91-8651-ce984ee8fb26  Fully Paid             99999999   \n",
       "3  77598f7b-32e7-4e3b-a6e5-06ba0d98fe8a  Fully Paid               347666   \n",
       "4  d4062e70-befa-4995-8643-a0de73938182  Fully Paid               176220   \n",
       "\n",
       "         Term  Credit Score  Annual Income Years in current job  \\\n",
       "0  Short Term         709.0      1167493.0              8 years   \n",
       "1  Short Term           NaN            NaN            10+ years   \n",
       "2  Short Term         741.0      2231892.0              8 years   \n",
       "3   Long Term         721.0       806949.0              3 years   \n",
       "4  Short Term           NaN            NaN              5 years   \n",
       "\n",
       "  Home Ownership             Purpose  Monthly Debt  ...  \\\n",
       "0  Home Mortgage   Home Improvements       5214.74  ...   \n",
       "1  Home Mortgage  Debt Consolidation      33295.98  ...   \n",
       "2       Own Home  Debt Consolidation      29200.53  ...   \n",
       "3       Own Home  Debt Consolidation       8741.90  ...   \n",
       "4           Rent  Debt Consolidation      20639.70  ...   \n",
       "\n",
       "   Number of Open Accounts  Number of Credit Problems  Current Credit Balance  \\\n",
       "0                        6                          1                  228190   \n",
       "1                       35                          0                  229976   \n",
       "2                       18                          1                  297996   \n",
       "3                        9                          0                  256329   \n",
       "4                       15                          0                  253460   \n",
       "\n",
       "   Maximum Open Credit  Bankruptcies  Tax Liens  Customer Id  \\\n",
       "0             416746.0           1.0        0.0       109431   \n",
       "1             850784.0           0.0        0.0        17692   \n",
       "2             750090.0           0.0        0.0        18057   \n",
       "3             386958.0           0.0        0.0        71031   \n",
       "4             427174.0           0.0        0.0        78850   \n",
       "\n",
       "   Direct_debit_status                Acc_IBAN            Acc_BBAN  \n",
       "0                  Yes  GB77BEKP85108114321951  DZEO73686758765150  \n",
       "1                  Yes  GB62QYAZ05133954313389  AKML18842042541303  \n",
       "2                   No  GB02NDIJ13326012923589  WCXG88711319696828  \n",
       "3                  Yes  GB31LFAC39388236141938  WWGV47546835245615  \n",
       "4                  Yes  GB18EFPE69167475140335  QVOZ42574794211950  \n",
       "\n",
       "[5 rows x 22 columns]"
      ]
     },
     "execution_count": 5,
     "metadata": {},
     "output_type": "execute_result"
    }
   ],
   "source": [
    "loan.head()"
   ]
  },
  {
   "cell_type": "code",
   "execution_count": 6,
   "id": "2ae5fe3b-e333-4d1e-83f9-4d14d063e4bc",
   "metadata": {
    "scrolled": true
   },
   "outputs": [
    {
     "name": "stdout",
     "output_type": "stream",
     "text": [
      "<class 'pandas.core.frame.DataFrame'>\n",
      "RangeIndex: 100000 entries, 0 to 99999\n",
      "Data columns (total 22 columns):\n",
      " #   Column                        Non-Null Count   Dtype  \n",
      "---  ------                        --------------   -----  \n",
      " 0   Loan ID                       100000 non-null  object \n",
      " 1   Loan Status                   100000 non-null  object \n",
      " 2   Current Loan Amount           100000 non-null  int64  \n",
      " 3   Term                          100000 non-null  object \n",
      " 4   Credit Score                  80846 non-null   float64\n",
      " 5   Annual Income                 80846 non-null   float64\n",
      " 6   Years in current job          95778 non-null   object \n",
      " 7   Home Ownership                100000 non-null  object \n",
      " 8   Purpose                       100000 non-null  object \n",
      " 9   Monthly Debt                  100000 non-null  float64\n",
      " 10  Years of Credit History       100000 non-null  float64\n",
      " 11  Months since last delinquent  46859 non-null   float64\n",
      " 12  Number of Open Accounts       100000 non-null  int64  \n",
      " 13  Number of Credit Problems     100000 non-null  int64  \n",
      " 14  Current Credit Balance        100000 non-null  int64  \n",
      " 15  Maximum Open Credit           99998 non-null   float64\n",
      " 16  Bankruptcies                  99796 non-null   float64\n",
      " 17  Tax Liens                     99990 non-null   float64\n",
      " 18  Customer Id                   100000 non-null  int64  \n",
      " 19  Direct_debit_status           100000 non-null  object \n",
      " 20  Acc_IBAN                      100000 non-null  object \n",
      " 21  Acc_BBAN                      100000 non-null  object \n",
      "dtypes: float64(8), int64(5), object(9)\n",
      "memory usage: 16.8+ MB\n"
     ]
    }
   ],
   "source": [
    "loan.info()"
   ]
  },
  {
   "cell_type": "code",
   "execution_count": 7,
   "id": "a7b402de-a497-4ba2-9947-6c6b9da40295",
   "metadata": {
    "scrolled": true
   },
   "outputs": [
    {
     "data": {
      "text/plain": [
       "Loan ID                             0\n",
       "Loan Status                         0\n",
       "Current Loan Amount                 0\n",
       "Term                                0\n",
       "Credit Score                    19154\n",
       "Annual Income                   19154\n",
       "Years in current job             4222\n",
       "Home Ownership                      0\n",
       "Purpose                             0\n",
       "Monthly Debt                        0\n",
       "Years of Credit History             0\n",
       "Months since last delinquent    53141\n",
       "Number of Open Accounts             0\n",
       "Number of Credit Problems           0\n",
       "Current Credit Balance              0\n",
       "Maximum Open Credit                 2\n",
       "Bankruptcies                      204\n",
       "Tax Liens                          10\n",
       "Customer Id                         0\n",
       "Direct_debit_status                 0\n",
       "Acc_IBAN                            0\n",
       "Acc_BBAN                            0\n",
       "dtype: int64"
      ]
     },
     "execution_count": 7,
     "metadata": {},
     "output_type": "execute_result"
    }
   ],
   "source": [
    "loan.isnull().sum()"
   ]
  },
  {
   "cell_type": "code",
   "execution_count": 60,
   "id": "0320c8fd-a3ac-462e-bdd1-8e01b08823f9",
   "metadata": {},
   "outputs": [],
   "source": [
    "loan['Credit Score'].fillna(0.0, inplace=True)\n",
    "loan['Annual Income'].fillna(0.0, inplace=True)\n",
    "loan['Years in current job'].fillna('UNKNOWN', inplace=True)\n",
    "loan['Months since last delinquent'].fillna(0.0, inplace=True)\n",
    "loan['Bankruptcies'].fillna(0.0, inplace=True)\n",
    "loan['Tax Liens'].fillna(0.0, inplace=True)"
   ]
  },
  {
   "cell_type": "code",
   "execution_count": 61,
   "id": "2229bb95-02dd-43fb-83bd-d8b2257e1a9e",
   "metadata": {
    "scrolled": true
   },
   "outputs": [
    {
     "ename": "SnowparkSQLException",
     "evalue": "(1304): 01b6ea07-0710-da50-0072-f30310afe50e: 000904 (42000): SQL compilation error: error line 1 at position 7,708,783\ninvalid identifier 'NAN'",
     "output_type": "error",
     "traceback": [
      "\u001b[0;31m---------------------------------------------------------------------------\u001b[0m",
      "\u001b[0;31mSnowparkSQLException\u001b[0m                      Traceback (most recent call last)",
      "Cell \u001b[0;32mIn[61], line 4\u001b[0m\n\u001b[1;32m      1\u001b[0m df_snowflake\u001b[38;5;241m=\u001b[39mmy_session\u001b[38;5;241m.\u001b[39mcreateDataFrame(\n\u001b[1;32m      2\u001b[0m         loan\u001b[38;5;241m.\u001b[39mvalues\u001b[38;5;241m.\u001b[39mtolist(),\n\u001b[1;32m      3\u001b[0m         schema\u001b[38;5;241m=\u001b[39mloan\u001b[38;5;241m.\u001b[39mcolumns\u001b[38;5;241m.\u001b[39mtolist())\n\u001b[0;32m----> 4\u001b[0m \u001b[43mdf_snowflake\u001b[49m\u001b[38;5;241;43m.\u001b[39;49m\u001b[43mwrite\u001b[49m\u001b[38;5;241;43m.\u001b[39;49m\u001b[43mmode\u001b[49m\u001b[43m(\u001b[49m\u001b[38;5;124;43m\"\u001b[39;49m\u001b[38;5;124;43moverwrite\u001b[39;49m\u001b[38;5;124;43m\"\u001b[39;49m\u001b[43m)\u001b[49m\u001b[38;5;241;43m.\u001b[39;49m\u001b[43msave_as_table\u001b[49m\u001b[43m(\u001b[49m\u001b[38;5;124;43m\"\u001b[39;49m\u001b[38;5;124;43mBFS_HYPER_PERSNL_DB.BFS_HYPER_PERSNL_SCHEMA.CUSTOMER_LOAN_DETAILS\u001b[39;49m\u001b[38;5;124;43m\"\u001b[39;49m\u001b[43m)\u001b[49m\n",
      "File \u001b[0;32m/opt/conda/lib/python3.9/site-packages/snowflake/snowpark/_internal/telemetry.py:190\u001b[0m, in \u001b[0;36mdfw_collect_api_telemetry.<locals>.wrap\u001b[0;34m(*args, **kwargs)\u001b[0m\n\u001b[1;32m    187\u001b[0m \u001b[38;5;129m@functools\u001b[39m\u001b[38;5;241m.\u001b[39mwraps(func)\n\u001b[1;32m    188\u001b[0m \u001b[38;5;28;01mdef\u001b[39;00m \u001b[38;5;21mwrap\u001b[39m(\u001b[38;5;241m*\u001b[39margs, \u001b[38;5;241m*\u001b[39m\u001b[38;5;241m*\u001b[39mkwargs):\n\u001b[1;32m    189\u001b[0m     \u001b[38;5;28;01mwith\u001b[39;00m args[\u001b[38;5;241m0\u001b[39m]\u001b[38;5;241m.\u001b[39m_dataframe\u001b[38;5;241m.\u001b[39m_session\u001b[38;5;241m.\u001b[39mquery_history() \u001b[38;5;28;01mas\u001b[39;00m query_history:\n\u001b[0;32m--> 190\u001b[0m         result \u001b[38;5;241m=\u001b[39m \u001b[43mfunc\u001b[49m\u001b[43m(\u001b[49m\u001b[38;5;241;43m*\u001b[39;49m\u001b[43margs\u001b[49m\u001b[43m,\u001b[49m\u001b[43m \u001b[49m\u001b[38;5;241;43m*\u001b[39;49m\u001b[38;5;241;43m*\u001b[39;49m\u001b[43mkwargs\u001b[49m\u001b[43m)\u001b[49m\n\u001b[1;32m    191\u001b[0m     plan \u001b[38;5;241m=\u001b[39m args[\u001b[38;5;241m0\u001b[39m]\u001b[38;5;241m.\u001b[39m_dataframe\u001b[38;5;241m.\u001b[39m_select_statement \u001b[38;5;129;01mor\u001b[39;00m args[\u001b[38;5;241m0\u001b[39m]\u001b[38;5;241m.\u001b[39m_dataframe\u001b[38;5;241m.\u001b[39m_plan\n\u001b[1;32m    192\u001b[0m     api_calls \u001b[38;5;241m=\u001b[39m [\n\u001b[1;32m    193\u001b[0m         \u001b[38;5;241m*\u001b[39mplan\u001b[38;5;241m.\u001b[39mapi_calls,\n\u001b[1;32m    194\u001b[0m         {TelemetryField\u001b[38;5;241m.\u001b[39mNAME\u001b[38;5;241m.\u001b[39mvalue: \u001b[38;5;124mf\u001b[39m\u001b[38;5;124m\"\u001b[39m\u001b[38;5;124mDataFrameWriter.\u001b[39m\u001b[38;5;132;01m{\u001b[39;00mfunc\u001b[38;5;241m.\u001b[39m\u001b[38;5;18m__name__\u001b[39m\u001b[38;5;132;01m}\u001b[39;00m\u001b[38;5;124m\"\u001b[39m},\n\u001b[1;32m    195\u001b[0m     ]\n",
      "File \u001b[0;32m/opt/conda/lib/python3.9/site-packages/snowflake/snowpark/dataframe_writer.py:234\u001b[0m, in \u001b[0;36mDataFrameWriter.save_as_table\u001b[0;34m(self, table_name, mode, column_order, create_temp_table, table_type, clustering_keys, statement_params, block, comment)\u001b[0m\n\u001b[1;32m    232\u001b[0m session \u001b[38;5;241m=\u001b[39m \u001b[38;5;28mself\u001b[39m\u001b[38;5;241m.\u001b[39m_dataframe\u001b[38;5;241m.\u001b[39m_session\n\u001b[1;32m    233\u001b[0m snowflake_plan \u001b[38;5;241m=\u001b[39m session\u001b[38;5;241m.\u001b[39m_analyzer\u001b[38;5;241m.\u001b[39mresolve(create_table_logic_plan)\n\u001b[0;32m--> 234\u001b[0m result \u001b[38;5;241m=\u001b[39m \u001b[43msession\u001b[49m\u001b[38;5;241;43m.\u001b[39;49m\u001b[43m_conn\u001b[49m\u001b[38;5;241;43m.\u001b[39;49m\u001b[43mexecute\u001b[49m\u001b[43m(\u001b[49m\n\u001b[1;32m    235\u001b[0m \u001b[43m    \u001b[49m\u001b[43msnowflake_plan\u001b[49m\u001b[43m,\u001b[49m\n\u001b[1;32m    236\u001b[0m \u001b[43m    \u001b[49m\u001b[43m_statement_params\u001b[49m\u001b[38;5;241;43m=\u001b[39;49m\u001b[43mstatement_params\u001b[49m\u001b[43m \u001b[49m\u001b[38;5;129;43;01mor\u001b[39;49;00m\u001b[43m \u001b[49m\u001b[38;5;28;43mself\u001b[39;49m\u001b[38;5;241;43m.\u001b[39;49m\u001b[43m_dataframe\u001b[49m\u001b[38;5;241;43m.\u001b[39;49m\u001b[43m_statement_params\u001b[49m\u001b[43m,\u001b[49m\n\u001b[1;32m    237\u001b[0m \u001b[43m    \u001b[49m\u001b[43mblock\u001b[49m\u001b[38;5;241;43m=\u001b[39;49m\u001b[43mblock\u001b[49m\u001b[43m,\u001b[49m\n\u001b[1;32m    238\u001b[0m \u001b[43m    \u001b[49m\u001b[43mdata_type\u001b[49m\u001b[38;5;241;43m=\u001b[39;49m\u001b[43m_AsyncResultType\u001b[49m\u001b[38;5;241;43m.\u001b[39;49m\u001b[43mNO_RESULT\u001b[49m\u001b[43m,\u001b[49m\n\u001b[1;32m    239\u001b[0m \u001b[43m\u001b[49m\u001b[43m)\u001b[49m\n\u001b[1;32m    240\u001b[0m \u001b[38;5;28;01mreturn\u001b[39;00m result \u001b[38;5;28;01mif\u001b[39;00m \u001b[38;5;129;01mnot\u001b[39;00m block \u001b[38;5;28;01melse\u001b[39;00m \u001b[38;5;28;01mNone\u001b[39;00m\n",
      "File \u001b[0;32m/opt/conda/lib/python3.9/site-packages/snowflake/snowpark/_internal/server_connection.py:526\u001b[0m, in \u001b[0;36mServerConnection.execute\u001b[0;34m(self, plan, to_pandas, to_iter, block, data_type, log_on_exception, case_sensitive, **kwargs)\u001b[0m\n\u001b[1;32m    516\u001b[0m \u001b[38;5;28;01mif\u001b[39;00m (\n\u001b[1;32m    517\u001b[0m     is_in_stored_procedure()\n\u001b[1;32m    518\u001b[0m     \u001b[38;5;129;01mand\u001b[39;00m \u001b[38;5;129;01mnot\u001b[39;00m block\n\u001b[0;32m   (...)\u001b[0m\n\u001b[1;32m    521\u001b[0m     )\n\u001b[1;32m    522\u001b[0m ):  \u001b[38;5;66;03m# pragma: no cover\u001b[39;00m\n\u001b[1;32m    523\u001b[0m     \u001b[38;5;28;01mraise\u001b[39;00m \u001b[38;5;167;01mNotImplementedError\u001b[39;00m(\n\u001b[1;32m    524\u001b[0m         \u001b[38;5;124m\"\u001b[39m\u001b[38;5;124mAsync query is not supported in stored procedure yet\u001b[39m\u001b[38;5;124m\"\u001b[39m\n\u001b[1;32m    525\u001b[0m     )\n\u001b[0;32m--> 526\u001b[0m result_set, result_meta \u001b[38;5;241m=\u001b[39m \u001b[38;5;28;43mself\u001b[39;49m\u001b[38;5;241;43m.\u001b[39;49m\u001b[43mget_result_set\u001b[49m\u001b[43m(\u001b[49m\n\u001b[1;32m    527\u001b[0m \u001b[43m    \u001b[49m\u001b[43mplan\u001b[49m\u001b[43m,\u001b[49m\n\u001b[1;32m    528\u001b[0m \u001b[43m    \u001b[49m\u001b[43mto_pandas\u001b[49m\u001b[43m,\u001b[49m\n\u001b[1;32m    529\u001b[0m \u001b[43m    \u001b[49m\u001b[43mto_iter\u001b[49m\u001b[43m,\u001b[49m\n\u001b[1;32m    530\u001b[0m \u001b[43m    \u001b[49m\u001b[38;5;241;43m*\u001b[39;49m\u001b[38;5;241;43m*\u001b[39;49m\u001b[43mkwargs\u001b[49m\u001b[43m,\u001b[49m\n\u001b[1;32m    531\u001b[0m \u001b[43m    \u001b[49m\u001b[43mblock\u001b[49m\u001b[38;5;241;43m=\u001b[39;49m\u001b[43mblock\u001b[49m\u001b[43m,\u001b[49m\n\u001b[1;32m    532\u001b[0m \u001b[43m    \u001b[49m\u001b[43mdata_type\u001b[49m\u001b[38;5;241;43m=\u001b[39;49m\u001b[43mdata_type\u001b[49m\u001b[43m,\u001b[49m\n\u001b[1;32m    533\u001b[0m \u001b[43m    \u001b[49m\u001b[43mlog_on_exception\u001b[49m\u001b[38;5;241;43m=\u001b[39;49m\u001b[43mlog_on_exception\u001b[49m\u001b[43m,\u001b[49m\n\u001b[1;32m    534\u001b[0m \u001b[43m    \u001b[49m\u001b[43mcase_sensitive\u001b[49m\u001b[38;5;241;43m=\u001b[39;49m\u001b[43mcase_sensitive\u001b[49m\u001b[43m,\u001b[49m\n\u001b[1;32m    535\u001b[0m \u001b[43m\u001b[49m\u001b[43m)\u001b[49m\n\u001b[1;32m    536\u001b[0m \u001b[38;5;28;01mif\u001b[39;00m \u001b[38;5;129;01mnot\u001b[39;00m block:\n\u001b[1;32m    537\u001b[0m     \u001b[38;5;28;01mreturn\u001b[39;00m result_set\n",
      "File \u001b[0;32m/opt/conda/lib/python3.9/site-packages/snowflake/snowpark/_internal/analyzer/snowflake_plan.py:201\u001b[0m, in \u001b[0;36mSnowflakePlan.Decorator.wrap_exception.<locals>.wrap\u001b[0;34m(*args, **kwargs)\u001b[0m\n\u001b[1;32m    197\u001b[0m     \u001b[38;5;28;01melse\u001b[39;00m:\n\u001b[1;32m    198\u001b[0m         ne \u001b[38;5;241m=\u001b[39m SnowparkClientExceptionMessages\u001b[38;5;241m.\u001b[39mSQL_EXCEPTION_FROM_PROGRAMMING_ERROR(\n\u001b[1;32m    199\u001b[0m             e\n\u001b[1;32m    200\u001b[0m         )\n\u001b[0;32m--> 201\u001b[0m         \u001b[38;5;28;01mraise\u001b[39;00m ne\u001b[38;5;241m.\u001b[39mwith_traceback(tb) \u001b[38;5;28;01mfrom\u001b[39;00m \u001b[38;5;28;01mNone\u001b[39;00m\n\u001b[1;32m    202\u001b[0m \u001b[38;5;28;01melse\u001b[39;00m:\n\u001b[1;32m    203\u001b[0m     ne \u001b[38;5;241m=\u001b[39m SnowparkClientExceptionMessages\u001b[38;5;241m.\u001b[39mSQL_EXCEPTION_FROM_PROGRAMMING_ERROR(\n\u001b[1;32m    204\u001b[0m         e\n\u001b[1;32m    205\u001b[0m     )\n",
      "File \u001b[0;32m/opt/conda/lib/python3.9/site-packages/snowflake/snowpark/_internal/analyzer/snowflake_plan.py:137\u001b[0m, in \u001b[0;36mSnowflakePlan.Decorator.wrap_exception.<locals>.wrap\u001b[0;34m(*args, **kwargs)\u001b[0m\n\u001b[1;32m    135\u001b[0m \u001b[38;5;28;01mdef\u001b[39;00m \u001b[38;5;21mwrap\u001b[39m(\u001b[38;5;241m*\u001b[39margs, \u001b[38;5;241m*\u001b[39m\u001b[38;5;241m*\u001b[39mkwargs):\n\u001b[1;32m    136\u001b[0m     \u001b[38;5;28;01mtry\u001b[39;00m:\n\u001b[0;32m--> 137\u001b[0m         \u001b[38;5;28;01mreturn\u001b[39;00m \u001b[43mfunc\u001b[49m\u001b[43m(\u001b[49m\u001b[38;5;241;43m*\u001b[39;49m\u001b[43margs\u001b[49m\u001b[43m,\u001b[49m\u001b[43m \u001b[49m\u001b[38;5;241;43m*\u001b[39;49m\u001b[38;5;241;43m*\u001b[39;49m\u001b[43mkwargs\u001b[49m\u001b[43m)\u001b[49m\n\u001b[1;32m    138\u001b[0m     \u001b[38;5;28;01mexcept\u001b[39;00m snowflake\u001b[38;5;241m.\u001b[39mconnector\u001b[38;5;241m.\u001b[39merrors\u001b[38;5;241m.\u001b[39mProgrammingError \u001b[38;5;28;01mas\u001b[39;00m e:\n\u001b[1;32m    139\u001b[0m         query \u001b[38;5;241m=\u001b[39m \u001b[38;5;28mgetattr\u001b[39m(e, \u001b[38;5;124m\"\u001b[39m\u001b[38;5;124mquery\u001b[39m\u001b[38;5;124m\"\u001b[39m, \u001b[38;5;28;01mNone\u001b[39;00m)\n",
      "File \u001b[0;32m/opt/conda/lib/python3.9/site-packages/snowflake/snowpark/_internal/server_connection.py:624\u001b[0m, in \u001b[0;36mServerConnection.get_result_set\u001b[0;34m(self, plan, to_pandas, to_iter, block, data_type, log_on_exception, case_sensitive, ignore_results, **kwargs)\u001b[0m\n\u001b[1;32m    622\u001b[0m \u001b[38;5;28;01mfor\u001b[39;00m i, query \u001b[38;5;129;01min\u001b[39;00m \u001b[38;5;28menumerate\u001b[39m(main_queries):\n\u001b[1;32m    623\u001b[0m     \u001b[38;5;28;01mif\u001b[39;00m \u001b[38;5;28misinstance\u001b[39m(query, BatchInsertQuery):\n\u001b[0;32m--> 624\u001b[0m         \u001b[38;5;28;43mself\u001b[39;49m\u001b[38;5;241;43m.\u001b[39;49m\u001b[43mrun_batch_insert\u001b[49m\u001b[43m(\u001b[49m\u001b[43mquery\u001b[49m\u001b[38;5;241;43m.\u001b[39;49m\u001b[43msql\u001b[49m\u001b[43m,\u001b[49m\u001b[43m \u001b[49m\u001b[43mquery\u001b[49m\u001b[38;5;241;43m.\u001b[39;49m\u001b[43mrows\u001b[49m\u001b[43m,\u001b[49m\u001b[43m \u001b[49m\u001b[38;5;241;43m*\u001b[39;49m\u001b[38;5;241;43m*\u001b[39;49m\u001b[43mkwargs\u001b[49m\u001b[43m)\u001b[49m\n\u001b[1;32m    625\u001b[0m     \u001b[38;5;28;01melse\u001b[39;00m:\n\u001b[1;32m    626\u001b[0m         is_last \u001b[38;5;241m=\u001b[39m i \u001b[38;5;241m==\u001b[39m \u001b[38;5;28mlen\u001b[39m(main_queries) \u001b[38;5;241m-\u001b[39m \u001b[38;5;241m1\u001b[39m \u001b[38;5;129;01mand\u001b[39;00m \u001b[38;5;129;01mnot\u001b[39;00m block\n",
      "File \u001b[0;32m/opt/conda/lib/python3.9/site-packages/snowflake/snowpark/_internal/server_connection.py:125\u001b[0m, in \u001b[0;36mServerConnection._Decorator.wrap_exception.<locals>.wrap\u001b[0;34m(*args, **kwargs)\u001b[0m\n\u001b[1;32m    121\u001b[0m     \u001b[38;5;28;01mraise\u001b[39;00m SnowparkClientExceptionMessages\u001b[38;5;241m.\u001b[39mSERVER_SESSION_EXPIRED(\n\u001b[1;32m    122\u001b[0m         ex\u001b[38;5;241m.\u001b[39mcause\n\u001b[1;32m    123\u001b[0m     )\n\u001b[1;32m    124\u001b[0m \u001b[38;5;28;01mexcept\u001b[39;00m \u001b[38;5;167;01mException\u001b[39;00m \u001b[38;5;28;01mas\u001b[39;00m ex:\n\u001b[0;32m--> 125\u001b[0m     \u001b[38;5;28;01mraise\u001b[39;00m ex\n",
      "File \u001b[0;32m/opt/conda/lib/python3.9/site-packages/snowflake/snowpark/_internal/server_connection.py:119\u001b[0m, in \u001b[0;36mServerConnection._Decorator.wrap_exception.<locals>.wrap\u001b[0;34m(*args, **kwargs)\u001b[0m\n\u001b[1;32m    117\u001b[0m     \u001b[38;5;28;01mraise\u001b[39;00m SnowparkClientExceptionMessages\u001b[38;5;241m.\u001b[39mSERVER_SESSION_HAS_BEEN_CLOSED()\n\u001b[1;32m    118\u001b[0m \u001b[38;5;28;01mtry\u001b[39;00m:\n\u001b[0;32m--> 119\u001b[0m     \u001b[38;5;28;01mreturn\u001b[39;00m \u001b[43mfunc\u001b[49m\u001b[43m(\u001b[49m\u001b[38;5;241;43m*\u001b[39;49m\u001b[43margs\u001b[49m\u001b[43m,\u001b[49m\u001b[43m \u001b[49m\u001b[38;5;241;43m*\u001b[39;49m\u001b[38;5;241;43m*\u001b[39;49m\u001b[43mkwargs\u001b[49m\u001b[43m)\u001b[49m\n\u001b[1;32m    120\u001b[0m \u001b[38;5;28;01mexcept\u001b[39;00m ReauthenticationRequest \u001b[38;5;28;01mas\u001b[39;00m ex:\n\u001b[1;32m    121\u001b[0m     \u001b[38;5;28;01mraise\u001b[39;00m SnowparkClientExceptionMessages\u001b[38;5;241m.\u001b[39mSERVER_SESSION_EXPIRED(\n\u001b[1;32m    122\u001b[0m         ex\u001b[38;5;241m.\u001b[39mcause\n\u001b[1;32m    123\u001b[0m     )\n",
      "File \u001b[0;32m/opt/conda/lib/python3.9/site-packages/snowflake/snowpark/_internal/server_connection.py:698\u001b[0m, in \u001b[0;36mServerConnection.run_batch_insert\u001b[0;34m(self, query, rows, **kwargs)\u001b[0m\n\u001b[1;32m    694\u001b[0m \u001b[38;5;28;01mif\u001b[39;00m query_tag:\n\u001b[1;32m    695\u001b[0m     \u001b[38;5;28mself\u001b[39m\u001b[38;5;241m.\u001b[39mexecute_and_notify_query_listener(\n\u001b[1;32m    696\u001b[0m         \u001b[38;5;124mf\u001b[39m\u001b[38;5;124m\"\u001b[39m\u001b[38;5;124malter session set query_tag = \u001b[39m\u001b[38;5;132;01m{\u001b[39;00mstr_to_sql(query_tag)\u001b[38;5;132;01m}\u001b[39;00m\u001b[38;5;124m\"\u001b[39m\n\u001b[1;32m    697\u001b[0m     )\n\u001b[0;32m--> 698\u001b[0m results_cursor \u001b[38;5;241m=\u001b[39m \u001b[38;5;28;43mself\u001b[39;49m\u001b[38;5;241;43m.\u001b[39;49m\u001b[43m_cursor\u001b[49m\u001b[38;5;241;43m.\u001b[39;49m\u001b[43mexecutemany\u001b[49m\u001b[43m(\u001b[49m\u001b[43mquery\u001b[49m\u001b[43m,\u001b[49m\u001b[43m \u001b[49m\u001b[43mparams\u001b[49m\u001b[43m)\u001b[49m\n\u001b[1;32m    699\u001b[0m \u001b[38;5;28mself\u001b[39m\u001b[38;5;241m.\u001b[39mnotify_query_listeners(\n\u001b[1;32m    700\u001b[0m     QueryRecord(results_cursor\u001b[38;5;241m.\u001b[39msfqid, results_cursor\u001b[38;5;241m.\u001b[39mquery)\n\u001b[1;32m    701\u001b[0m )\n\u001b[1;32m    702\u001b[0m \u001b[38;5;28;01mif\u001b[39;00m query_tag:\n",
      "File \u001b[0;32m/opt/conda/lib/python3.9/site-packages/snowflake/connector/cursor.py:1392\u001b[0m, in \u001b[0;36mSnowflakeCursor.executemany\u001b[0;34m(self, command, seqparams, **kwargs)\u001b[0m\n\u001b[1;32m   1388\u001b[0m         values\u001b[38;5;241m.\u001b[39mappend(\n\u001b[1;32m   1389\u001b[0m             fmt \u001b[38;5;241m%\u001b[39m \u001b[38;5;28mself\u001b[39m\u001b[38;5;241m.\u001b[39m_connection\u001b[38;5;241m.\u001b[39m_process_params_pyformat(param, \u001b[38;5;28mself\u001b[39m)\n\u001b[1;32m   1390\u001b[0m         )\n\u001b[1;32m   1391\u001b[0m     command \u001b[38;5;241m=\u001b[39m command\u001b[38;5;241m.\u001b[39mreplace(fmt, \u001b[38;5;124m\"\u001b[39m\u001b[38;5;124m,\u001b[39m\u001b[38;5;124m\"\u001b[39m\u001b[38;5;241m.\u001b[39mjoin(values), \u001b[38;5;241m1\u001b[39m)\n\u001b[0;32m-> 1392\u001b[0m     \u001b[38;5;28;43mself\u001b[39;49m\u001b[38;5;241;43m.\u001b[39;49m\u001b[43mexecute\u001b[49m\u001b[43m(\u001b[49m\u001b[43mcommand\u001b[49m\u001b[43m,\u001b[49m\u001b[43m \u001b[49m\u001b[38;5;241;43m*\u001b[39;49m\u001b[38;5;241;43m*\u001b[39;49m\u001b[43mkwargs\u001b[49m\u001b[43m)\u001b[49m\n\u001b[1;32m   1393\u001b[0m     \u001b[38;5;28;01mreturn\u001b[39;00m \u001b[38;5;28mself\u001b[39m\n\u001b[1;32m   1394\u001b[0m \u001b[38;5;28;01melse\u001b[39;00m:\n",
      "File \u001b[0;32m/opt/conda/lib/python3.9/site-packages/snowflake/connector/cursor.py:1087\u001b[0m, in \u001b[0;36mSnowflakeCursor.execute\u001b[0;34m(self, command, params, _bind_stage, timeout, _exec_async, _no_retry, _do_reset, _put_callback, _put_azure_callback, _put_callback_output_stream, _get_callback, _get_azure_callback, _get_callback_output_stream, _show_progress_bar, _statement_params, _is_internal, _describe_only, _no_results, _is_put_get, _raise_put_get_error, _force_put_overwrite, _skip_upload_on_content_match, file_stream, num_statements, _dataframe_ast)\u001b[0m\n\u001b[1;32m   1083\u001b[0m     is_integrity_error \u001b[38;5;241m=\u001b[39m (\n\u001b[1;32m   1084\u001b[0m         code \u001b[38;5;241m==\u001b[39m \u001b[38;5;124m\"\u001b[39m\u001b[38;5;124m100072\u001b[39m\u001b[38;5;124m\"\u001b[39m\n\u001b[1;32m   1085\u001b[0m     )  \u001b[38;5;66;03m# NULL result in a non-nullable column\u001b[39;00m\n\u001b[1;32m   1086\u001b[0m     error_class \u001b[38;5;241m=\u001b[39m IntegrityError \u001b[38;5;28;01mif\u001b[39;00m is_integrity_error \u001b[38;5;28;01melse\u001b[39;00m ProgrammingError\n\u001b[0;32m-> 1087\u001b[0m     \u001b[43mError\u001b[49m\u001b[38;5;241;43m.\u001b[39;49m\u001b[43merrorhandler_wrapper\u001b[49m\u001b[43m(\u001b[49m\u001b[38;5;28;43mself\u001b[39;49m\u001b[38;5;241;43m.\u001b[39;49m\u001b[43mconnection\u001b[49m\u001b[43m,\u001b[49m\u001b[43m \u001b[49m\u001b[38;5;28;43mself\u001b[39;49m\u001b[43m,\u001b[49m\u001b[43m \u001b[49m\u001b[43merror_class\u001b[49m\u001b[43m,\u001b[49m\u001b[43m \u001b[49m\u001b[43merrvalue\u001b[49m\u001b[43m)\u001b[49m\n\u001b[1;32m   1088\u001b[0m \u001b[38;5;28;01mreturn\u001b[39;00m \u001b[38;5;28mself\u001b[39m\n",
      "File \u001b[0;32m/opt/conda/lib/python3.9/site-packages/snowflake/connector/errors.py:284\u001b[0m, in \u001b[0;36mError.errorhandler_wrapper\u001b[0;34m(connection, cursor, error_class, error_value)\u001b[0m\n\u001b[1;32m    261\u001b[0m \u001b[38;5;129m@staticmethod\u001b[39m\n\u001b[1;32m    262\u001b[0m \u001b[38;5;28;01mdef\u001b[39;00m \u001b[38;5;21merrorhandler_wrapper\u001b[39m(\n\u001b[1;32m    263\u001b[0m     connection: SnowflakeConnection \u001b[38;5;241m|\u001b[39m \u001b[38;5;28;01mNone\u001b[39;00m,\n\u001b[0;32m   (...)\u001b[0m\n\u001b[1;32m    266\u001b[0m     error_value: \u001b[38;5;28mdict\u001b[39m[\u001b[38;5;28mstr\u001b[39m, Any],\n\u001b[1;32m    267\u001b[0m ) \u001b[38;5;241m-\u001b[39m\u001b[38;5;241m>\u001b[39m \u001b[38;5;28;01mNone\u001b[39;00m:\n\u001b[1;32m    268\u001b[0m \u001b[38;5;250m    \u001b[39m\u001b[38;5;124;03m\"\"\"Error handler wrapper that calls the errorhandler method.\u001b[39;00m\n\u001b[1;32m    269\u001b[0m \n\u001b[1;32m    270\u001b[0m \u001b[38;5;124;03m    Args:\u001b[39;00m\n\u001b[0;32m   (...)\u001b[0m\n\u001b[1;32m    281\u001b[0m \u001b[38;5;124;03m        exception to the first handler in that order.\u001b[39;00m\n\u001b[1;32m    282\u001b[0m \u001b[38;5;124;03m    \"\"\"\u001b[39;00m\n\u001b[0;32m--> 284\u001b[0m     handed_over \u001b[38;5;241m=\u001b[39m \u001b[43mError\u001b[49m\u001b[38;5;241;43m.\u001b[39;49m\u001b[43mhand_to_other_handler\u001b[49m\u001b[43m(\u001b[49m\n\u001b[1;32m    285\u001b[0m \u001b[43m        \u001b[49m\u001b[43mconnection\u001b[49m\u001b[43m,\u001b[49m\n\u001b[1;32m    286\u001b[0m \u001b[43m        \u001b[49m\u001b[43mcursor\u001b[49m\u001b[43m,\u001b[49m\n\u001b[1;32m    287\u001b[0m \u001b[43m        \u001b[49m\u001b[43merror_class\u001b[49m\u001b[43m,\u001b[49m\n\u001b[1;32m    288\u001b[0m \u001b[43m        \u001b[49m\u001b[43merror_value\u001b[49m\u001b[43m,\u001b[49m\n\u001b[1;32m    289\u001b[0m \u001b[43m    \u001b[49m\u001b[43m)\u001b[49m\n\u001b[1;32m    290\u001b[0m     \u001b[38;5;28;01mif\u001b[39;00m \u001b[38;5;129;01mnot\u001b[39;00m handed_over:\n\u001b[1;32m    291\u001b[0m         \u001b[38;5;28;01mraise\u001b[39;00m Error\u001b[38;5;241m.\u001b[39merrorhandler_make_exception(\n\u001b[1;32m    292\u001b[0m             error_class,\n\u001b[1;32m    293\u001b[0m             error_value,\n\u001b[1;32m    294\u001b[0m         )\n",
      "File \u001b[0;32m/opt/conda/lib/python3.9/site-packages/snowflake/connector/errors.py:339\u001b[0m, in \u001b[0;36mError.hand_to_other_handler\u001b[0;34m(connection, cursor, error_class, error_value)\u001b[0m\n\u001b[1;32m    337\u001b[0m \u001b[38;5;28;01mif\u001b[39;00m cursor \u001b[38;5;129;01mis\u001b[39;00m \u001b[38;5;129;01mnot\u001b[39;00m \u001b[38;5;28;01mNone\u001b[39;00m:\n\u001b[1;32m    338\u001b[0m     cursor\u001b[38;5;241m.\u001b[39mmessages\u001b[38;5;241m.\u001b[39mappend((error_class, error_value))\n\u001b[0;32m--> 339\u001b[0m     \u001b[43mcursor\u001b[49m\u001b[38;5;241;43m.\u001b[39;49m\u001b[43merrorhandler\u001b[49m\u001b[43m(\u001b[49m\u001b[43mconnection\u001b[49m\u001b[43m,\u001b[49m\u001b[43m \u001b[49m\u001b[43mcursor\u001b[49m\u001b[43m,\u001b[49m\u001b[43m \u001b[49m\u001b[43merror_class\u001b[49m\u001b[43m,\u001b[49m\u001b[43m \u001b[49m\u001b[43merror_value\u001b[49m\u001b[43m)\u001b[49m\n\u001b[1;32m    340\u001b[0m     \u001b[38;5;28;01mreturn\u001b[39;00m \u001b[38;5;28;01mTrue\u001b[39;00m\n\u001b[1;32m    341\u001b[0m \u001b[38;5;28;01melif\u001b[39;00m connection \u001b[38;5;129;01mis\u001b[39;00m \u001b[38;5;129;01mnot\u001b[39;00m \u001b[38;5;28;01mNone\u001b[39;00m:\n",
      "File \u001b[0;32m/opt/conda/lib/python3.9/site-packages/snowflake/connector/errors.py:215\u001b[0m, in \u001b[0;36mError.default_errorhandler\u001b[0;34m(connection, cursor, error_class, error_value)\u001b[0m\n\u001b[1;32m    213\u001b[0m errno \u001b[38;5;241m=\u001b[39m error_value\u001b[38;5;241m.\u001b[39mget(\u001b[38;5;124m\"\u001b[39m\u001b[38;5;124merrno\u001b[39m\u001b[38;5;124m\"\u001b[39m)\n\u001b[1;32m    214\u001b[0m done_format_msg \u001b[38;5;241m=\u001b[39m error_value\u001b[38;5;241m.\u001b[39mget(\u001b[38;5;124m\"\u001b[39m\u001b[38;5;124mdone_format_msg\u001b[39m\u001b[38;5;124m\"\u001b[39m)\n\u001b[0;32m--> 215\u001b[0m \u001b[38;5;28;01mraise\u001b[39;00m error_class(\n\u001b[1;32m    216\u001b[0m     msg\u001b[38;5;241m=\u001b[39merror_value\u001b[38;5;241m.\u001b[39mget(\u001b[38;5;124m\"\u001b[39m\u001b[38;5;124mmsg\u001b[39m\u001b[38;5;124m\"\u001b[39m),\n\u001b[1;32m    217\u001b[0m     errno\u001b[38;5;241m=\u001b[39m\u001b[38;5;28;01mNone\u001b[39;00m \u001b[38;5;28;01mif\u001b[39;00m errno \u001b[38;5;129;01mis\u001b[39;00m \u001b[38;5;28;01mNone\u001b[39;00m \u001b[38;5;28;01melse\u001b[39;00m \u001b[38;5;28mint\u001b[39m(errno),\n\u001b[1;32m    218\u001b[0m     sqlstate\u001b[38;5;241m=\u001b[39merror_value\u001b[38;5;241m.\u001b[39mget(\u001b[38;5;124m\"\u001b[39m\u001b[38;5;124msqlstate\u001b[39m\u001b[38;5;124m\"\u001b[39m),\n\u001b[1;32m    219\u001b[0m     sfqid\u001b[38;5;241m=\u001b[39merror_value\u001b[38;5;241m.\u001b[39mget(\u001b[38;5;124m\"\u001b[39m\u001b[38;5;124msfqid\u001b[39m\u001b[38;5;124m\"\u001b[39m),\n\u001b[1;32m    220\u001b[0m     query\u001b[38;5;241m=\u001b[39merror_value\u001b[38;5;241m.\u001b[39mget(\u001b[38;5;124m\"\u001b[39m\u001b[38;5;124mquery\u001b[39m\u001b[38;5;124m\"\u001b[39m),\n\u001b[1;32m    221\u001b[0m     done_format_msg\u001b[38;5;241m=\u001b[39m(\n\u001b[1;32m    222\u001b[0m         \u001b[38;5;28;01mNone\u001b[39;00m \u001b[38;5;28;01mif\u001b[39;00m done_format_msg \u001b[38;5;129;01mis\u001b[39;00m \u001b[38;5;28;01mNone\u001b[39;00m \u001b[38;5;28;01melse\u001b[39;00m \u001b[38;5;28mbool\u001b[39m(done_format_msg)\n\u001b[1;32m    223\u001b[0m     ),\n\u001b[1;32m    224\u001b[0m     connection\u001b[38;5;241m=\u001b[39mconnection,\n\u001b[1;32m    225\u001b[0m     cursor\u001b[38;5;241m=\u001b[39mcursor,\n\u001b[1;32m    226\u001b[0m )\n",
      "\u001b[0;31mSnowparkSQLException\u001b[0m: (1304): 01b6ea07-0710-da50-0072-f30310afe50e: 000904 (42000): SQL compilation error: error line 1 at position 7,708,783\ninvalid identifier 'NAN'"
     ]
    }
   ],
   "source": [
    "df_snowflake=my_session.createDataFrame(\n",
    "        loan.values.tolist(),\n",
    "        schema=loan.columns.tolist())\n",
    "df_snowflake.write.mode(\"overwrite\").save_as_table(\"BFS_HYPER_PERSNL_DB.BFS_HYPER_PERSNL_SCHEMA.CUSTOMER_LOAN_DETAILS\")"
   ]
  },
  {
   "cell_type": "markdown",
   "id": "d335dfaa-fc01-4b84-9668-e0a7e1a4c98f",
   "metadata": {},
   "source": [
    "# Financial Breakdown"
   ]
  },
  {
   "cell_type": "code",
   "execution_count": 14,
   "id": "5bb9c92d-d26d-4b67-b9d5-3eb4179ce74e",
   "metadata": {},
   "outputs": [
    {
     "data": {
      "text/plain": [
       "(180, 7)"
      ]
     },
     "execution_count": 14,
     "metadata": {},
     "output_type": "execute_result"
    }
   ],
   "source": [
    "fb.shape"
   ]
  },
  {
   "cell_type": "code",
   "execution_count": 15,
   "id": "b0db663b-1951-4116-a081-6bfa2083f1ff",
   "metadata": {},
   "outputs": [
    {
     "data": {
      "text/html": [
       "<div>\n",
       "<style scoped>\n",
       "    .dataframe tbody tr th:only-of-type {\n",
       "        vertical-align: middle;\n",
       "    }\n",
       "\n",
       "    .dataframe tbody tr th {\n",
       "        vertical-align: top;\n",
       "    }\n",
       "\n",
       "    .dataframe thead th {\n",
       "        text-align: right;\n",
       "    }\n",
       "</style>\n",
       "<table border=\"1\" class=\"dataframe\">\n",
       "  <thead>\n",
       "    <tr style=\"text-align: right;\">\n",
       "      <th></th>\n",
       "      <th>Cust_ID</th>\n",
       "      <th>Yr_MthNum</th>\n",
       "      <th>Balance</th>\n",
       "      <th>Income</th>\n",
       "      <th>Expense</th>\n",
       "      <th>Bank_Name</th>\n",
       "      <th>Fees_Charges</th>\n",
       "    </tr>\n",
       "  </thead>\n",
       "  <tbody>\n",
       "    <tr>\n",
       "      <th>0</th>\n",
       "      <td>100001</td>\n",
       "      <td>2021-10</td>\n",
       "      <td>159425.04</td>\n",
       "      <td>37244.76</td>\n",
       "      <td>32510.54</td>\n",
       "      <td>All</td>\n",
       "      <td>0.0</td>\n",
       "    </tr>\n",
       "    <tr>\n",
       "      <th>1</th>\n",
       "      <td>100001</td>\n",
       "      <td>2021-10</td>\n",
       "      <td>131040.54</td>\n",
       "      <td>19647.84</td>\n",
       "      <td>23232.06</td>\n",
       "      <td>JPMorgan Chase</td>\n",
       "      <td>0.0</td>\n",
       "    </tr>\n",
       "    <tr>\n",
       "      <th>2</th>\n",
       "      <td>100001</td>\n",
       "      <td>2021-10</td>\n",
       "      <td>18883.39</td>\n",
       "      <td>5690.71</td>\n",
       "      <td>3511.60</td>\n",
       "      <td>Citigroup</td>\n",
       "      <td>0.0</td>\n",
       "    </tr>\n",
       "    <tr>\n",
       "      <th>3</th>\n",
       "      <td>100001</td>\n",
       "      <td>2021-10</td>\n",
       "      <td>2953.41</td>\n",
       "      <td>2414.71</td>\n",
       "      <td>1653.99</td>\n",
       "      <td>Bank of America</td>\n",
       "      <td>0.0</td>\n",
       "    </tr>\n",
       "    <tr>\n",
       "      <th>4</th>\n",
       "      <td>100001</td>\n",
       "      <td>2021-10</td>\n",
       "      <td>6547.70</td>\n",
       "      <td>9491.50</td>\n",
       "      <td>4112.89</td>\n",
       "      <td>Goldman Sachs</td>\n",
       "      <td>0.0</td>\n",
       "    </tr>\n",
       "  </tbody>\n",
       "</table>\n",
       "</div>"
      ],
      "text/plain": [
       "   Cust_ID Yr_MthNum    Balance    Income   Expense        Bank_Name  \\\n",
       "0   100001   2021-10  159425.04  37244.76  32510.54              All   \n",
       "1   100001   2021-10  131040.54  19647.84  23232.06   JPMorgan Chase   \n",
       "2   100001   2021-10   18883.39   5690.71   3511.60        Citigroup   \n",
       "3   100001   2021-10    2953.41   2414.71   1653.99  Bank of America   \n",
       "4   100001   2021-10    6547.70   9491.50   4112.89    Goldman Sachs   \n",
       "\n",
       "   Fees_Charges  \n",
       "0           0.0  \n",
       "1           0.0  \n",
       "2           0.0  \n",
       "3           0.0  \n",
       "4           0.0  "
      ]
     },
     "execution_count": 15,
     "metadata": {},
     "output_type": "execute_result"
    }
   ],
   "source": [
    "fb.head()"
   ]
  },
  {
   "cell_type": "code",
   "execution_count": 16,
   "id": "e4e7e8e6-1c34-4f37-b9a6-135df297fe9a",
   "metadata": {},
   "outputs": [
    {
     "name": "stdout",
     "output_type": "stream",
     "text": [
      "<class 'pandas.core.frame.DataFrame'>\n",
      "RangeIndex: 180 entries, 0 to 179\n",
      "Data columns (total 7 columns):\n",
      " #   Column        Non-Null Count  Dtype  \n",
      "---  ------        --------------  -----  \n",
      " 0   Cust_ID       180 non-null    int64  \n",
      " 1   Yr_MthNum     180 non-null    object \n",
      " 2   Balance       180 non-null    float64\n",
      " 3   Income        180 non-null    float64\n",
      " 4   Expense       180 non-null    float64\n",
      " 5   Bank_Name     180 non-null    object \n",
      " 6   Fees_Charges  180 non-null    float64\n",
      "dtypes: float64(4), int64(1), object(2)\n",
      "memory usage: 10.0+ KB\n"
     ]
    }
   ],
   "source": [
    "fb.info()"
   ]
  },
  {
   "cell_type": "code",
   "execution_count": 17,
   "id": "250ef94e-7282-4823-91bd-9deeb18afcff",
   "metadata": {},
   "outputs": [
    {
     "data": {
      "text/plain": [
       "Cust_ID         0\n",
       "Yr_MthNum       0\n",
       "Balance         0\n",
       "Income          0\n",
       "Expense         0\n",
       "Bank_Name       0\n",
       "Fees_Charges    0\n",
       "dtype: int64"
      ]
     },
     "execution_count": 17,
     "metadata": {},
     "output_type": "execute_result"
    }
   ],
   "source": [
    "fb.isnull().sum()"
   ]
  },
  {
   "cell_type": "code",
   "execution_count": 18,
   "id": "2923d431-8e6e-4e46-bac2-873ae3de10fe",
   "metadata": {},
   "outputs": [],
   "source": [
    "df_snowflake=my_session.createDataFrame(\n",
    "        fb.values.tolist(),\n",
    "        schema=fb.columns.tolist())\n",
    "df_snowflake.write.mode(\"overwrite\").save_as_table(\"BFS_HYPER_PERSNL_DB.BFS_HYPER_PERSNL_SCHEMA.CUSTOMER_FINANCE_BREAKDOWN\")"
   ]
  },
  {
   "cell_type": "markdown",
   "id": "cd7c63e4-f0ae-45c2-bdfc-1ca353a6b995",
   "metadata": {},
   "source": [
    "# Account Datasets"
   ]
  },
  {
   "cell_type": "code",
   "execution_count": 19,
   "id": "cdb5fc1f-d815-4d31-b27e-5bfc87c02523",
   "metadata": {},
   "outputs": [
    {
     "data": {
      "text/plain": [
       "(3106, 7)"
      ]
     },
     "execution_count": 19,
     "metadata": {},
     "output_type": "execute_result"
    }
   ],
   "source": [
    "ac.shape"
   ]
  },
  {
   "cell_type": "code",
   "execution_count": 21,
   "id": "6d021686-0206-45f9-b65d-31290b8e396b",
   "metadata": {},
   "outputs": [
    {
     "data": {
      "text/html": [
       "<div>\n",
       "<style scoped>\n",
       "    .dataframe tbody tr th:only-of-type {\n",
       "        vertical-align: middle;\n",
       "    }\n",
       "\n",
       "    .dataframe tbody tr th {\n",
       "        vertical-align: top;\n",
       "    }\n",
       "\n",
       "    .dataframe thead th {\n",
       "        text-align: right;\n",
       "    }\n",
       "</style>\n",
       "<table border=\"1\" class=\"dataframe\">\n",
       "  <thead>\n",
       "    <tr style=\"text-align: right;\">\n",
       "      <th></th>\n",
       "      <th>Cust_ID</th>\n",
       "      <th>Acc_IBAN</th>\n",
       "      <th>Acc_BBAN</th>\n",
       "      <th>Acc_Open_Dt</th>\n",
       "      <th>Balance</th>\n",
       "      <th>Acc_Status</th>\n",
       "      <th>Acc_Type</th>\n",
       "    </tr>\n",
       "  </thead>\n",
       "  <tbody>\n",
       "    <tr>\n",
       "      <th>0</th>\n",
       "      <td>4185</td>\n",
       "      <td>GB90EMIC89482763544524</td>\n",
       "      <td>GDJY66571183273954</td>\n",
       "      <td>2001-03-22</td>\n",
       "      <td>$50.57</td>\n",
       "      <td>Active</td>\n",
       "      <td>Credit</td>\n",
       "    </tr>\n",
       "    <tr>\n",
       "      <th>1</th>\n",
       "      <td>291</td>\n",
       "      <td>GB83VYSJ52094207716710</td>\n",
       "      <td>OVWN34297715684777</td>\n",
       "      <td>2010-08-29</td>\n",
       "      <td>$74,111.13</td>\n",
       "      <td>Closed</td>\n",
       "      <td>Current</td>\n",
       "    </tr>\n",
       "    <tr>\n",
       "      <th>2</th>\n",
       "      <td>7497</td>\n",
       "      <td>GB17OCSO08226852523762</td>\n",
       "      <td>DLFO12501444293678</td>\n",
       "      <td>2000-09-04</td>\n",
       "      <td>$669.14</td>\n",
       "      <td>Active</td>\n",
       "      <td>Loan</td>\n",
       "    </tr>\n",
       "    <tr>\n",
       "      <th>3</th>\n",
       "      <td>7497</td>\n",
       "      <td>GB26RRMJ41734703010562</td>\n",
       "      <td>SZPN32742192244415</td>\n",
       "      <td>2010-09-05</td>\n",
       "      <td>$0.03</td>\n",
       "      <td>Active</td>\n",
       "      <td>Credit</td>\n",
       "    </tr>\n",
       "    <tr>\n",
       "      <th>4</th>\n",
       "      <td>7497</td>\n",
       "      <td>GB13JBDZ14742645466984</td>\n",
       "      <td>DAGC95804976124339</td>\n",
       "      <td>2006-02-14</td>\n",
       "      <td>$0.71</td>\n",
       "      <td>Closed</td>\n",
       "      <td>Credit</td>\n",
       "    </tr>\n",
       "  </tbody>\n",
       "</table>\n",
       "</div>"
      ],
      "text/plain": [
       "   Cust_ID                Acc_IBAN            Acc_BBAN Acc_Open_Dt  \\\n",
       "0     4185  GB90EMIC89482763544524  GDJY66571183273954  2001-03-22   \n",
       "1      291  GB83VYSJ52094207716710  OVWN34297715684777  2010-08-29   \n",
       "2     7497  GB17OCSO08226852523762  DLFO12501444293678  2000-09-04   \n",
       "3     7497  GB26RRMJ41734703010562  SZPN32742192244415  2010-09-05   \n",
       "4     7497  GB13JBDZ14742645466984  DAGC95804976124339  2006-02-14   \n",
       "\n",
       "      Balance Acc_Status Acc_Type  \n",
       "0      $50.57     Active   Credit  \n",
       "1  $74,111.13     Closed  Current  \n",
       "2     $669.14     Active     Loan  \n",
       "3       $0.03     Active   Credit  \n",
       "4       $0.71     Closed   Credit  "
      ]
     },
     "execution_count": 21,
     "metadata": {},
     "output_type": "execute_result"
    }
   ],
   "source": [
    "ac.head()"
   ]
  },
  {
   "cell_type": "code",
   "execution_count": 22,
   "id": "96995665-90c2-49b8-b465-9f043a4fcb33",
   "metadata": {},
   "outputs": [
    {
     "name": "stdout",
     "output_type": "stream",
     "text": [
      "<class 'pandas.core.frame.DataFrame'>\n",
      "RangeIndex: 3106 entries, 0 to 3105\n",
      "Data columns (total 7 columns):\n",
      " #   Column       Non-Null Count  Dtype \n",
      "---  ------       --------------  ----- \n",
      " 0   Cust_ID      3106 non-null   int64 \n",
      " 1   Acc_IBAN     3106 non-null   object\n",
      " 2   Acc_BBAN     3106 non-null   object\n",
      " 3   Acc_Open_Dt  3106 non-null   object\n",
      " 4   Balance      3106 non-null   object\n",
      " 5   Acc_Status   3106 non-null   object\n",
      " 6   Acc_Type     3106 non-null   object\n",
      "dtypes: int64(1), object(6)\n",
      "memory usage: 170.0+ KB\n"
     ]
    }
   ],
   "source": [
    "ac.info()"
   ]
  },
  {
   "cell_type": "code",
   "execution_count": 23,
   "id": "6d81e0be-de02-4b1f-a073-3be488990f6a",
   "metadata": {},
   "outputs": [
    {
     "data": {
      "text/plain": [
       "Cust_ID        0\n",
       "Acc_IBAN       0\n",
       "Acc_BBAN       0\n",
       "Acc_Open_Dt    0\n",
       "Balance        0\n",
       "Acc_Status     0\n",
       "Acc_Type       0\n",
       "dtype: int64"
      ]
     },
     "execution_count": 23,
     "metadata": {},
     "output_type": "execute_result"
    }
   ],
   "source": [
    "ac.isnull().sum()"
   ]
  },
  {
   "cell_type": "code",
   "execution_count": 24,
   "id": "e70e36fc-09cb-4b4e-8430-f1ad8e5a876c",
   "metadata": {},
   "outputs": [],
   "source": [
    "df_snowflake=my_session.createDataFrame(\n",
    "        ac.values.tolist(),\n",
    "        schema=ac.columns.tolist())\n",
    "df_snowflake.write.mode(\"overwrite\").save_as_table(\"BFS_HYPER_PERSNL_DB.BFS_HYPER_PERSNL_SCHEMA.CUSTOMER_ACCOUNT_DETAILS\")"
   ]
  },
  {
   "cell_type": "markdown",
   "id": "b54238ca-02e5-44b6-8b7f-a68802170174",
   "metadata": {},
   "source": [
    "# Credit Card Datasets"
   ]
  },
  {
   "cell_type": "code",
   "execution_count": 25,
   "id": "f81afbea-b804-4a37-bd98-93b01b0459e9",
   "metadata": {},
   "outputs": [
    {
     "data": {
      "text/plain": [
       "(284, 12)"
      ]
     },
     "execution_count": 25,
     "metadata": {},
     "output_type": "execute_result"
    }
   ],
   "source": [
    "cc.shape"
   ]
  },
  {
   "cell_type": "code",
   "execution_count": 26,
   "id": "17e650d8-c4dd-4c44-aac0-c702ec25adbf",
   "metadata": {},
   "outputs": [
    {
     "data": {
      "text/html": [
       "<div>\n",
       "<style scoped>\n",
       "    .dataframe tbody tr th:only-of-type {\n",
       "        vertical-align: middle;\n",
       "    }\n",
       "\n",
       "    .dataframe tbody tr th {\n",
       "        vertical-align: top;\n",
       "    }\n",
       "\n",
       "    .dataframe thead th {\n",
       "        text-align: right;\n",
       "    }\n",
       "</style>\n",
       "<table border=\"1\" class=\"dataframe\">\n",
       "  <thead>\n",
       "    <tr style=\"text-align: right;\">\n",
       "      <th></th>\n",
       "      <th>Cust_ID</th>\n",
       "      <th>Bal_OutStanding</th>\n",
       "      <th>Acc_Number</th>\n",
       "      <th>Card_Number</th>\n",
       "      <th>Card_Sec_Code</th>\n",
       "      <th>Card_Provider</th>\n",
       "      <th>Expiry_Dt</th>\n",
       "      <th>Credit_Limit</th>\n",
       "      <th>Limit_Utilized</th>\n",
       "      <th>Status</th>\n",
       "      <th>Default</th>\n",
       "      <th>Due_Date</th>\n",
       "    </tr>\n",
       "  </thead>\n",
       "  <tbody>\n",
       "    <tr>\n",
       "      <th>0</th>\n",
       "      <td>486</td>\n",
       "      <td>$7,604.87</td>\n",
       "      <td>EJEY19489241157815</td>\n",
       "      <td>345139332871151</td>\n",
       "      <td>947</td>\n",
       "      <td>JCB 16 digit</td>\n",
       "      <td>02/24</td>\n",
       "      <td>$52.09</td>\n",
       "      <td>$76,848.33</td>\n",
       "      <td>Closed</td>\n",
       "      <td>N</td>\n",
       "      <td>2021-09-08</td>\n",
       "    </tr>\n",
       "    <tr>\n",
       "      <th>1</th>\n",
       "      <td>486</td>\n",
       "      <td>$975.93</td>\n",
       "      <td>NKTU38778408016097</td>\n",
       "      <td>180014841858395</td>\n",
       "      <td>965</td>\n",
       "      <td>VISA 13 digit</td>\n",
       "      <td>03/23</td>\n",
       "      <td>$2,112.20</td>\n",
       "      <td>$24,775.15</td>\n",
       "      <td>Freezed</td>\n",
       "      <td>N</td>\n",
       "      <td>2021-09-11</td>\n",
       "    </tr>\n",
       "    <tr>\n",
       "      <th>2</th>\n",
       "      <td>7867</td>\n",
       "      <td>$233.04</td>\n",
       "      <td>BDZE30989101399161</td>\n",
       "      <td>4456208709162</td>\n",
       "      <td>972</td>\n",
       "      <td>JCB 15 digit</td>\n",
       "      <td>03/27</td>\n",
       "      <td>$2,428.07</td>\n",
       "      <td>$3,594.59</td>\n",
       "      <td>Active</td>\n",
       "      <td>Y</td>\n",
       "      <td>2021-09-13</td>\n",
       "    </tr>\n",
       "    <tr>\n",
       "      <th>3</th>\n",
       "      <td>7867</td>\n",
       "      <td>$75.25</td>\n",
       "      <td>LDBT03217300869141</td>\n",
       "      <td>4579230225848</td>\n",
       "      <td>769</td>\n",
       "      <td>VISA 19 digit</td>\n",
       "      <td>09/24</td>\n",
       "      <td>$408.42</td>\n",
       "      <td>$466.10</td>\n",
       "      <td>Freezed</td>\n",
       "      <td>Y</td>\n",
       "      <td>2021-09-05</td>\n",
       "    </tr>\n",
       "    <tr>\n",
       "      <th>4</th>\n",
       "      <td>6967</td>\n",
       "      <td>$73.37</td>\n",
       "      <td>OCIW27878900754706</td>\n",
       "      <td>3544217610471424</td>\n",
       "      <td>776</td>\n",
       "      <td>JCB 16 digit</td>\n",
       "      <td>09/21</td>\n",
       "      <td>$64.55</td>\n",
       "      <td>$4.22</td>\n",
       "      <td>Active</td>\n",
       "      <td>N</td>\n",
       "      <td>2021-09-08</td>\n",
       "    </tr>\n",
       "  </tbody>\n",
       "</table>\n",
       "</div>"
      ],
      "text/plain": [
       "   Cust_ID Bal_OutStanding          Acc_Number       Card_Number  \\\n",
       "0      486       $7,604.87  EJEY19489241157815   345139332871151   \n",
       "1      486         $975.93  NKTU38778408016097   180014841858395   \n",
       "2     7867         $233.04  BDZE30989101399161     4456208709162   \n",
       "3     7867          $75.25  LDBT03217300869141     4579230225848   \n",
       "4     6967          $73.37  OCIW27878900754706  3544217610471424   \n",
       "\n",
       "   Card_Sec_Code  Card_Provider Expiry_Dt Credit_Limit Limit_Utilized  \\\n",
       "0            947   JCB 16 digit     02/24       $52.09     $76,848.33   \n",
       "1            965  VISA 13 digit     03/23    $2,112.20     $24,775.15   \n",
       "2            972   JCB 15 digit     03/27    $2,428.07      $3,594.59   \n",
       "3            769  VISA 19 digit     09/24      $408.42        $466.10   \n",
       "4            776   JCB 16 digit     09/21       $64.55          $4.22   \n",
       "\n",
       "    Status Default    Due_Date  \n",
       "0   Closed       N  2021-09-08  \n",
       "1  Freezed       N  2021-09-11  \n",
       "2   Active       Y  2021-09-13  \n",
       "3  Freezed       Y  2021-09-05  \n",
       "4   Active       N  2021-09-08  "
      ]
     },
     "execution_count": 26,
     "metadata": {},
     "output_type": "execute_result"
    }
   ],
   "source": [
    "cc.head()"
   ]
  },
  {
   "cell_type": "code",
   "execution_count": 27,
   "id": "6ff88972-c959-49f3-b086-a8e7b9ff991f",
   "metadata": {},
   "outputs": [
    {
     "name": "stdout",
     "output_type": "stream",
     "text": [
      "<class 'pandas.core.frame.DataFrame'>\n",
      "RangeIndex: 284 entries, 0 to 283\n",
      "Data columns (total 12 columns):\n",
      " #   Column           Non-Null Count  Dtype \n",
      "---  ------           --------------  ----- \n",
      " 0   Cust_ID          284 non-null    int64 \n",
      " 1   Bal_OutStanding  284 non-null    object\n",
      " 2   Acc_Number       284 non-null    object\n",
      " 3   Card_Number      284 non-null    int64 \n",
      " 4   Card_Sec_Code    284 non-null    int64 \n",
      " 5   Card_Provider    284 non-null    object\n",
      " 6   Expiry_Dt        284 non-null    object\n",
      " 7   Credit_Limit     284 non-null    object\n",
      " 8   Limit_Utilized   284 non-null    object\n",
      " 9   Status           284 non-null    object\n",
      " 10  Default          284 non-null    object\n",
      " 11  Due_Date         284 non-null    object\n",
      "dtypes: int64(3), object(9)\n",
      "memory usage: 26.8+ KB\n"
     ]
    }
   ],
   "source": [
    "cc.info()"
   ]
  },
  {
   "cell_type": "code",
   "execution_count": 28,
   "id": "60d05661-2c38-45c6-9e89-fc22e571215d",
   "metadata": {},
   "outputs": [
    {
     "data": {
      "text/plain": [
       "Cust_ID            0\n",
       "Bal_OutStanding    0\n",
       "Acc_Number         0\n",
       "Card_Number        0\n",
       "Card_Sec_Code      0\n",
       "Card_Provider      0\n",
       "Expiry_Dt          0\n",
       "Credit_Limit       0\n",
       "Limit_Utilized     0\n",
       "Status             0\n",
       "Default            0\n",
       "Due_Date           0\n",
       "dtype: int64"
      ]
     },
     "execution_count": 28,
     "metadata": {},
     "output_type": "execute_result"
    }
   ],
   "source": [
    "cc.isnull().sum()"
   ]
  },
  {
   "cell_type": "code",
   "execution_count": 29,
   "id": "c33d34fc-76aa-4d05-96f6-0454bf7bcab0",
   "metadata": {},
   "outputs": [],
   "source": [
    "df_snowflake=my_session.createDataFrame(\n",
    "        cc.values.tolist(),\n",
    "        schema=cc.columns.tolist())\n",
    "df_snowflake.write.mode(\"overwrite\").save_as_table(\"BFS_HYPER_PERSNL_DB.BFS_HYPER_PERSNL_SCHEMA.CUSTOMER_CREDITCARD_DETAILS\")"
   ]
  },
  {
   "cell_type": "markdown",
   "id": "adcedbe9-ad9d-4548-b8a6-ea349fdf1d0e",
   "metadata": {},
   "source": [
    "# Direct Debit Datasets"
   ]
  },
  {
   "cell_type": "code",
   "execution_count": 30,
   "id": "86d61b85-c3fb-40cc-9997-c81882d7242a",
   "metadata": {},
   "outputs": [
    {
     "data": {
      "text/plain": [
       "(514, 10)"
      ]
     },
     "execution_count": 30,
     "metadata": {},
     "output_type": "execute_result"
    }
   ],
   "source": [
    "db.shape"
   ]
  },
  {
   "cell_type": "code",
   "execution_count": 31,
   "id": "6cb629e1-1989-4a68-ad14-d318911b7988",
   "metadata": {},
   "outputs": [
    {
     "data": {
      "text/html": [
       "<div>\n",
       "<style scoped>\n",
       "    .dataframe tbody tr th:only-of-type {\n",
       "        vertical-align: middle;\n",
       "    }\n",
       "\n",
       "    .dataframe tbody tr th {\n",
       "        vertical-align: top;\n",
       "    }\n",
       "\n",
       "    .dataframe thead th {\n",
       "        text-align: right;\n",
       "    }\n",
       "</style>\n",
       "<table border=\"1\" class=\"dataframe\">\n",
       "  <thead>\n",
       "    <tr style=\"text-align: right;\">\n",
       "      <th></th>\n",
       "      <th>Cust_ID</th>\n",
       "      <th>Direct_Deb_Status</th>\n",
       "      <th>Bank_Name</th>\n",
       "      <th>DD_Amt</th>\n",
       "      <th>Mandate_Dt</th>\n",
       "      <th>Mandate_Num</th>\n",
       "      <th>Branch_Code</th>\n",
       "      <th>Beneficiary</th>\n",
       "      <th>Frequency</th>\n",
       "      <th>End_Date</th>\n",
       "    </tr>\n",
       "  </thead>\n",
       "  <tbody>\n",
       "    <tr>\n",
       "      <th>0</th>\n",
       "      <td>3394</td>\n",
       "      <td>Active</td>\n",
       "      <td>UBS</td>\n",
       "      <td>$3,254.89</td>\n",
       "      <td>24th</td>\n",
       "      <td>OELMGB0BH8E</td>\n",
       "      <td>75448079</td>\n",
       "      <td>Hiran Banerjee</td>\n",
       "      <td>Half Yearly</td>\n",
       "      <td>2020-11-24</td>\n",
       "    </tr>\n",
       "    <tr>\n",
       "      <th>1</th>\n",
       "      <td>3394</td>\n",
       "      <td>Active</td>\n",
       "      <td>Bank of America</td>\n",
       "      <td>$42,303.38</td>\n",
       "      <td>21th</td>\n",
       "      <td>QIIAGBJ3S2A</td>\n",
       "      <td>61771815</td>\n",
       "      <td>Dhanush Bahl</td>\n",
       "      <td>Monthly</td>\n",
       "      <td>2021-02-13</td>\n",
       "    </tr>\n",
       "    <tr>\n",
       "      <th>2</th>\n",
       "      <td>5288</td>\n",
       "      <td>Closed</td>\n",
       "      <td>Discover Financial</td>\n",
       "      <td>$3.07</td>\n",
       "      <td>9th</td>\n",
       "      <td>NOSPGBMTY7X</td>\n",
       "      <td>115073841</td>\n",
       "      <td>Tiya Sampath</td>\n",
       "      <td>Quarterly</td>\n",
       "      <td>2022-04-28</td>\n",
       "    </tr>\n",
       "    <tr>\n",
       "      <th>3</th>\n",
       "      <td>5288</td>\n",
       "      <td>Closed</td>\n",
       "      <td>Credit Suisse</td>\n",
       "      <td>$7.41</td>\n",
       "      <td>2nd</td>\n",
       "      <td>ZVRQGBHO310</td>\n",
       "      <td>48906810</td>\n",
       "      <td>Adira Savant</td>\n",
       "      <td>Yearly</td>\n",
       "      <td>2021-11-11</td>\n",
       "    </tr>\n",
       "    <tr>\n",
       "      <th>4</th>\n",
       "      <td>5288</td>\n",
       "      <td>Closed</td>\n",
       "      <td>Santander Bank</td>\n",
       "      <td>$122.56</td>\n",
       "      <td>2nd</td>\n",
       "      <td>QTJIGB7ROAT</td>\n",
       "      <td>115073841</td>\n",
       "      <td>Tarini Baria</td>\n",
       "      <td>Quarterly</td>\n",
       "      <td>2021-09-14</td>\n",
       "    </tr>\n",
       "  </tbody>\n",
       "</table>\n",
       "</div>"
      ],
      "text/plain": [
       "   Cust_ID Direct_Deb_Status           Bank_Name      DD_Amt Mandate_Dt  \\\n",
       "0     3394            Active                 UBS   $3,254.89       24th   \n",
       "1     3394            Active     Bank of America  $42,303.38       21th   \n",
       "2     5288            Closed  Discover Financial       $3.07        9th   \n",
       "3     5288            Closed       Credit Suisse       $7.41        2nd   \n",
       "4     5288            Closed      Santander Bank     $122.56        2nd   \n",
       "\n",
       "   Mandate_Num  Branch_Code     Beneficiary    Frequency    End_Date  \n",
       "0  OELMGB0BH8E     75448079  Hiran Banerjee  Half Yearly  2020-11-24  \n",
       "1  QIIAGBJ3S2A     61771815    Dhanush Bahl      Monthly  2021-02-13  \n",
       "2  NOSPGBMTY7X    115073841    Tiya Sampath    Quarterly  2022-04-28  \n",
       "3  ZVRQGBHO310     48906810    Adira Savant       Yearly  2021-11-11  \n",
       "4  QTJIGB7ROAT    115073841    Tarini Baria    Quarterly  2021-09-14  "
      ]
     },
     "execution_count": 31,
     "metadata": {},
     "output_type": "execute_result"
    }
   ],
   "source": [
    "db.head()"
   ]
  },
  {
   "cell_type": "code",
   "execution_count": 32,
   "id": "8c882fff-fab1-4b24-ae74-1eaaf0214e06",
   "metadata": {},
   "outputs": [
    {
     "name": "stdout",
     "output_type": "stream",
     "text": [
      "<class 'pandas.core.frame.DataFrame'>\n",
      "RangeIndex: 514 entries, 0 to 513\n",
      "Data columns (total 10 columns):\n",
      " #   Column             Non-Null Count  Dtype \n",
      "---  ------             --------------  ----- \n",
      " 0   Cust_ID            514 non-null    int64 \n",
      " 1   Direct_Deb_Status  514 non-null    object\n",
      " 2   Bank_Name          514 non-null    object\n",
      " 3   DD_Amt             514 non-null    object\n",
      " 4   Mandate_Dt         514 non-null    object\n",
      " 5   Mandate_Num        514 non-null    object\n",
      " 6   Branch_Code        514 non-null    int64 \n",
      " 7   Beneficiary        514 non-null    object\n",
      " 8   Frequency          514 non-null    object\n",
      " 9   End_Date           514 non-null    object\n",
      "dtypes: int64(2), object(8)\n",
      "memory usage: 40.3+ KB\n"
     ]
    }
   ],
   "source": [
    "db.info()"
   ]
  },
  {
   "cell_type": "code",
   "execution_count": 33,
   "id": "5c709276-99a7-4c20-9781-9576db72abfe",
   "metadata": {},
   "outputs": [
    {
     "data": {
      "text/plain": [
       "Cust_ID              0\n",
       "Direct_Deb_Status    0\n",
       "Bank_Name            0\n",
       "DD_Amt               0\n",
       "Mandate_Dt           0\n",
       "Mandate_Num          0\n",
       "Branch_Code          0\n",
       "Beneficiary          0\n",
       "Frequency            0\n",
       "End_Date             0\n",
       "dtype: int64"
      ]
     },
     "execution_count": 33,
     "metadata": {},
     "output_type": "execute_result"
    }
   ],
   "source": [
    "db.isnull().sum()"
   ]
  },
  {
   "cell_type": "code",
   "execution_count": 34,
   "id": "b61cba3d-d3fc-4a56-bf33-cd905663c70f",
   "metadata": {},
   "outputs": [],
   "source": [
    "df_snowflake=my_session.createDataFrame(\n",
    "        db.values.tolist(),\n",
    "        schema=db.columns.tolist())\n",
    "df_snowflake.write.mode(\"overwrite\").save_as_table(\"BFS_HYPER_PERSNL_DB.BFS_HYPER_PERSNL_SCHEMA.CUSTOMER_DIRECT_DEBIT_DETAILS\")"
   ]
  },
  {
   "cell_type": "markdown",
   "id": "3458f182-4e80-4c83-8ea7-10504d912c9e",
   "metadata": {},
   "source": [
    "# KYC Datasets "
   ]
  },
  {
   "cell_type": "code",
   "execution_count": 35,
   "id": "80adf87e-b88d-42d5-8e1d-c36cd62bc325",
   "metadata": {},
   "outputs": [
    {
     "data": {
      "text/plain": [
       "(200, 8)"
      ]
     },
     "execution_count": 35,
     "metadata": {},
     "output_type": "execute_result"
    }
   ],
   "source": [
    "kyc.shape"
   ]
  },
  {
   "cell_type": "code",
   "execution_count": 36,
   "id": "9bca7a26-e013-470b-832d-be975aa2085c",
   "metadata": {},
   "outputs": [
    {
     "data": {
      "text/html": [
       "<div>\n",
       "<style scoped>\n",
       "    .dataframe tbody tr th:only-of-type {\n",
       "        vertical-align: middle;\n",
       "    }\n",
       "\n",
       "    .dataframe tbody tr th {\n",
       "        vertical-align: top;\n",
       "    }\n",
       "\n",
       "    .dataframe thead th {\n",
       "        text-align: right;\n",
       "    }\n",
       "</style>\n",
       "<table border=\"1\" class=\"dataframe\">\n",
       "  <thead>\n",
       "    <tr style=\"text-align: right;\">\n",
       "      <th></th>\n",
       "      <th>Cust_ID</th>\n",
       "      <th>KYC_Status</th>\n",
       "      <th>Passport_Number</th>\n",
       "      <th>SSN</th>\n",
       "      <th>State_ID</th>\n",
       "      <th>Last_KYC_Dt</th>\n",
       "      <th>Cust_Risk_Category</th>\n",
       "      <th>Next_KYC_Dt</th>\n",
       "    </tr>\n",
       "  </thead>\n",
       "  <tbody>\n",
       "    <tr>\n",
       "      <th>0</th>\n",
       "      <td>4185</td>\n",
       "      <td>Active</td>\n",
       "      <td>J9-0772259c</td>\n",
       "      <td>034-51-6010</td>\n",
       "      <td>MI</td>\n",
       "      <td>2020-11-10</td>\n",
       "      <td>Low</td>\n",
       "      <td>2020-11-10</td>\n",
       "    </tr>\n",
       "    <tr>\n",
       "      <th>1</th>\n",
       "      <td>291</td>\n",
       "      <td>Active</td>\n",
       "      <td>g6-3399040p</td>\n",
       "      <td>710-27-3992</td>\n",
       "      <td>NE</td>\n",
       "      <td>2021-05-30</td>\n",
       "      <td>Medium</td>\n",
       "      <td>2021-05-30</td>\n",
       "    </tr>\n",
       "    <tr>\n",
       "      <th>2</th>\n",
       "      <td>7497</td>\n",
       "      <td>Active</td>\n",
       "      <td>m4-1775446l</td>\n",
       "      <td>194-41-0289</td>\n",
       "      <td>WA</td>\n",
       "      <td>2020-11-11</td>\n",
       "      <td>Medium</td>\n",
       "      <td>2020-11-11</td>\n",
       "    </tr>\n",
       "    <tr>\n",
       "      <th>3</th>\n",
       "      <td>5138</td>\n",
       "      <td>Active</td>\n",
       "      <td>M7-3727798q</td>\n",
       "      <td>640-92-1726</td>\n",
       "      <td>TX</td>\n",
       "      <td>2020-12-29</td>\n",
       "      <td>Low</td>\n",
       "      <td>2020-12-29</td>\n",
       "    </tr>\n",
       "    <tr>\n",
       "      <th>4</th>\n",
       "      <td>7862</td>\n",
       "      <td>Active</td>\n",
       "      <td>y6-5643506K</td>\n",
       "      <td>051-12-3590</td>\n",
       "      <td>FL</td>\n",
       "      <td>2021-02-09</td>\n",
       "      <td>Prohibited</td>\n",
       "      <td>2021-02-09</td>\n",
       "    </tr>\n",
       "  </tbody>\n",
       "</table>\n",
       "</div>"
      ],
      "text/plain": [
       "   Cust_ID KYC_Status Passport_Number          SSN State_ID Last_KYC_Dt  \\\n",
       "0     4185     Active     J9-0772259c  034-51-6010       MI  2020-11-10   \n",
       "1      291     Active     g6-3399040p  710-27-3992       NE  2021-05-30   \n",
       "2     7497     Active     m4-1775446l  194-41-0289       WA  2020-11-11   \n",
       "3     5138     Active     M7-3727798q  640-92-1726       TX  2020-12-29   \n",
       "4     7862     Active     y6-5643506K  051-12-3590       FL  2021-02-09   \n",
       "\n",
       "  Cust_Risk_Category Next_KYC_Dt  \n",
       "0                Low  2020-11-10  \n",
       "1             Medium  2021-05-30  \n",
       "2             Medium  2020-11-11  \n",
       "3                Low  2020-12-29  \n",
       "4         Prohibited  2021-02-09  "
      ]
     },
     "execution_count": 36,
     "metadata": {},
     "output_type": "execute_result"
    }
   ],
   "source": [
    "kyc.head()"
   ]
  },
  {
   "cell_type": "code",
   "execution_count": 37,
   "id": "95937b7b-9cb8-4a01-9af8-95853fd5af9b",
   "metadata": {},
   "outputs": [
    {
     "name": "stdout",
     "output_type": "stream",
     "text": [
      "<class 'pandas.core.frame.DataFrame'>\n",
      "RangeIndex: 200 entries, 0 to 199\n",
      "Data columns (total 8 columns):\n",
      " #   Column              Non-Null Count  Dtype \n",
      "---  ------              --------------  ----- \n",
      " 0   Cust_ID             200 non-null    int64 \n",
      " 1   KYC_Status          200 non-null    object\n",
      " 2   Passport_Number     200 non-null    object\n",
      " 3   SSN                 200 non-null    object\n",
      " 4   State_ID            200 non-null    object\n",
      " 5   Last_KYC_Dt         200 non-null    object\n",
      " 6   Cust_Risk_Category  200 non-null    object\n",
      " 7   Next_KYC_Dt         200 non-null    object\n",
      "dtypes: int64(1), object(7)\n",
      "memory usage: 12.6+ KB\n"
     ]
    }
   ],
   "source": [
    "kyc.info()"
   ]
  },
  {
   "cell_type": "code",
   "execution_count": 38,
   "id": "084b6f30-9fd6-4d8e-b2d9-965170d44ace",
   "metadata": {},
   "outputs": [
    {
     "data": {
      "text/plain": [
       "Cust_ID               0\n",
       "KYC_Status            0\n",
       "Passport_Number       0\n",
       "SSN                   0\n",
       "State_ID              0\n",
       "Last_KYC_Dt           0\n",
       "Cust_Risk_Category    0\n",
       "Next_KYC_Dt           0\n",
       "dtype: int64"
      ]
     },
     "execution_count": 38,
     "metadata": {},
     "output_type": "execute_result"
    }
   ],
   "source": [
    "kyc.isnull().sum()"
   ]
  },
  {
   "cell_type": "code",
   "execution_count": 39,
   "id": "462dc271-dfb2-4e74-8177-615c4775b804",
   "metadata": {},
   "outputs": [],
   "source": [
    "df_snowflake=my_session.createDataFrame(\n",
    "        kyc.values.tolist(),\n",
    "        schema=kyc.columns.tolist())\n",
    "df_snowflake.write.mode(\"overwrite\").save_as_table(\"BFS_HYPER_PERSNL_DB.BFS_HYPER_PERSNL_SCHEMA.CUSTOMER_KYC_DETAILS\")"
   ]
  },
  {
   "cell_type": "markdown",
   "id": "91a6d9df-07b4-4265-ba8b-b7743ac89f19",
   "metadata": {},
   "source": [
    "# Subscriptions Dataset"
   ]
  },
  {
   "cell_type": "code",
   "execution_count": 40,
   "id": "dd750ba1-f77f-46f2-8074-e5d8850b35fa",
   "metadata": {},
   "outputs": [
    {
     "data": {
      "text/plain": [
       "(3977, 10)"
      ]
     },
     "execution_count": 40,
     "metadata": {},
     "output_type": "execute_result"
    }
   ],
   "source": [
    "sub.shape"
   ]
  },
  {
   "cell_type": "code",
   "execution_count": 41,
   "id": "bb2e127a-b03e-4242-aee2-c7bcdf1f1b9f",
   "metadata": {},
   "outputs": [
    {
     "data": {
      "text/html": [
       "<div>\n",
       "<style scoped>\n",
       "    .dataframe tbody tr th:only-of-type {\n",
       "        vertical-align: middle;\n",
       "    }\n",
       "\n",
       "    .dataframe tbody tr th {\n",
       "        vertical-align: top;\n",
       "    }\n",
       "\n",
       "    .dataframe thead th {\n",
       "        text-align: right;\n",
       "    }\n",
       "</style>\n",
       "<table border=\"1\" class=\"dataframe\">\n",
       "  <thead>\n",
       "    <tr style=\"text-align: right;\">\n",
       "      <th></th>\n",
       "      <th>Cust_ID</th>\n",
       "      <th>Acc_BBAN</th>\n",
       "      <th>Subscription</th>\n",
       "      <th>Start_Dt</th>\n",
       "      <th>End_Dt</th>\n",
       "      <th>Due_Dt</th>\n",
       "      <th>Category</th>\n",
       "      <th>Amount</th>\n",
       "      <th>Payment_Freq</th>\n",
       "      <th>Subscriptions_Count</th>\n",
       "    </tr>\n",
       "  </thead>\n",
       "  <tbody>\n",
       "    <tr>\n",
       "      <th>0</th>\n",
       "      <td>22933537019</td>\n",
       "      <td>GHSE85704796654590</td>\n",
       "      <td>Walmart</td>\n",
       "      <td>23-11-2020</td>\n",
       "      <td>26-05-2021</td>\n",
       "      <td>2nd</td>\n",
       "      <td>E-commerce</td>\n",
       "      <td>6.29</td>\n",
       "      <td>Monthly</td>\n",
       "      <td>2</td>\n",
       "    </tr>\n",
       "    <tr>\n",
       "      <th>1</th>\n",
       "      <td>22933537019</td>\n",
       "      <td>OICE68175563652528</td>\n",
       "      <td>eBay</td>\n",
       "      <td>28-07-2019</td>\n",
       "      <td>14-01-2020</td>\n",
       "      <td>3rd</td>\n",
       "      <td>E-commerce</td>\n",
       "      <td>27.44</td>\n",
       "      <td>Monthly</td>\n",
       "      <td>2</td>\n",
       "    </tr>\n",
       "    <tr>\n",
       "      <th>2</th>\n",
       "      <td>22933537019</td>\n",
       "      <td>BTUU34912202642195</td>\n",
       "      <td>Spotify</td>\n",
       "      <td>09-03-2020</td>\n",
       "      <td>04-09-2020</td>\n",
       "      <td>11th</td>\n",
       "      <td>Music</td>\n",
       "      <td>46.76</td>\n",
       "      <td>Monthly</td>\n",
       "      <td>2</td>\n",
       "    </tr>\n",
       "    <tr>\n",
       "      <th>3</th>\n",
       "      <td>22933537019</td>\n",
       "      <td>BTUU34912202642195</td>\n",
       "      <td>YouTube Music</td>\n",
       "      <td>20-03-2020</td>\n",
       "      <td>05-09-2020</td>\n",
       "      <td>8th</td>\n",
       "      <td>Music</td>\n",
       "      <td>17.54</td>\n",
       "      <td>Monthly</td>\n",
       "      <td>2</td>\n",
       "    </tr>\n",
       "    <tr>\n",
       "      <th>4</th>\n",
       "      <td>22933537019</td>\n",
       "      <td>MQHM19431561232015</td>\n",
       "      <td>Prime Video</td>\n",
       "      <td>20-10-2019</td>\n",
       "      <td>31-03-2020</td>\n",
       "      <td>4th</td>\n",
       "      <td>OTT</td>\n",
       "      <td>17.78</td>\n",
       "      <td>Monthly</td>\n",
       "      <td>3</td>\n",
       "    </tr>\n",
       "  </tbody>\n",
       "</table>\n",
       "</div>"
      ],
      "text/plain": [
       "       Cust_ID            Acc_BBAN   Subscription    Start_Dt      End_Dt  \\\n",
       "0  22933537019  GHSE85704796654590        Walmart  23-11-2020  26-05-2021   \n",
       "1  22933537019  OICE68175563652528           eBay  28-07-2019  14-01-2020   \n",
       "2  22933537019  BTUU34912202642195        Spotify  09-03-2020  04-09-2020   \n",
       "3  22933537019  BTUU34912202642195  YouTube Music  20-03-2020  05-09-2020   \n",
       "4  22933537019  MQHM19431561232015    Prime Video  20-10-2019  31-03-2020   \n",
       "\n",
       "  Due_Dt    Category  Amount Payment_Freq  Subscriptions_Count  \n",
       "0    2nd  E-commerce    6.29      Monthly                    2  \n",
       "1    3rd  E-commerce   27.44      Monthly                    2  \n",
       "2   11th       Music   46.76      Monthly                    2  \n",
       "3    8th       Music   17.54      Monthly                    2  \n",
       "4    4th         OTT   17.78      Monthly                    3  "
      ]
     },
     "execution_count": 41,
     "metadata": {},
     "output_type": "execute_result"
    }
   ],
   "source": [
    "sub.head()"
   ]
  },
  {
   "cell_type": "code",
   "execution_count": 42,
   "id": "7b8bcbc6-9fdd-4f03-8f32-fb2378c58f45",
   "metadata": {},
   "outputs": [
    {
     "name": "stdout",
     "output_type": "stream",
     "text": [
      "<class 'pandas.core.frame.DataFrame'>\n",
      "RangeIndex: 3977 entries, 0 to 3976\n",
      "Data columns (total 10 columns):\n",
      " #   Column               Non-Null Count  Dtype  \n",
      "---  ------               --------------  -----  \n",
      " 0   Cust_ID              3977 non-null   int64  \n",
      " 1   Acc_BBAN             3977 non-null   object \n",
      " 2   Subscription         3977 non-null   object \n",
      " 3   Start_Dt             3977 non-null   object \n",
      " 4   End_Dt               3977 non-null   object \n",
      " 5   Due_Dt               3977 non-null   object \n",
      " 6   Category             3977 non-null   object \n",
      " 7   Amount               3977 non-null   float64\n",
      " 8   Payment_Freq         3977 non-null   object \n",
      " 9   Subscriptions_Count  3977 non-null   int64  \n",
      "dtypes: float64(1), int64(2), object(7)\n",
      "memory usage: 310.8+ KB\n"
     ]
    }
   ],
   "source": [
    "sub.info()"
   ]
  },
  {
   "cell_type": "code",
   "execution_count": 43,
   "id": "83271d6a-9dfb-4cf4-9eb5-0ac2ba7aebf3",
   "metadata": {},
   "outputs": [
    {
     "data": {
      "text/plain": [
       "Cust_ID                0\n",
       "Acc_BBAN               0\n",
       "Subscription           0\n",
       "Start_Dt               0\n",
       "End_Dt                 0\n",
       "Due_Dt                 0\n",
       "Category               0\n",
       "Amount                 0\n",
       "Payment_Freq           0\n",
       "Subscriptions_Count    0\n",
       "dtype: int64"
      ]
     },
     "execution_count": 43,
     "metadata": {},
     "output_type": "execute_result"
    }
   ],
   "source": [
    "sub.isnull().sum()"
   ]
  },
  {
   "cell_type": "code",
   "execution_count": 44,
   "id": "93c927ba-a487-46fe-a783-67f3ffe648ff",
   "metadata": {},
   "outputs": [],
   "source": [
    "df_snowflake=my_session.createDataFrame(\n",
    "        sub.values.tolist(),\n",
    "        schema=sub.columns.tolist())\n",
    "df_snowflake.write.mode(\"overwrite\").save_as_table(\"BFS_HYPER_PERSNL_DB.BFS_HYPER_PERSNL_SCHEMA.CUSTOMER_SUBSCRIPTION_DETAILS\")"
   ]
  },
  {
   "cell_type": "markdown",
   "id": "633977d5-32a8-4291-9519-d157c70004a4",
   "metadata": {},
   "source": [
    "# Term Deposits Datasets"
   ]
  },
  {
   "cell_type": "code",
   "execution_count": 45,
   "id": "11d1aef5-99f6-4c45-ae9c-4dd29b87c1b2",
   "metadata": {},
   "outputs": [
    {
     "data": {
      "text/plain": [
       "(1492, 10)"
      ]
     },
     "execution_count": 45,
     "metadata": {},
     "output_type": "execute_result"
    }
   ],
   "source": [
    "td.shape"
   ]
  },
  {
   "cell_type": "code",
   "execution_count": 46,
   "id": "51f28ea5-4005-4399-8987-9fd6d3a16c91",
   "metadata": {},
   "outputs": [
    {
     "data": {
      "text/html": [
       "<div>\n",
       "<style scoped>\n",
       "    .dataframe tbody tr th:only-of-type {\n",
       "        vertical-align: middle;\n",
       "    }\n",
       "\n",
       "    .dataframe tbody tr th {\n",
       "        vertical-align: top;\n",
       "    }\n",
       "\n",
       "    .dataframe thead th {\n",
       "        text-align: right;\n",
       "    }\n",
       "</style>\n",
       "<table border=\"1\" class=\"dataframe\">\n",
       "  <thead>\n",
       "    <tr style=\"text-align: right;\">\n",
       "      <th></th>\n",
       "      <th>Acc_BBAN</th>\n",
       "      <th>Acc_IBAN</th>\n",
       "      <th>Account_Opened_Date</th>\n",
       "      <th>Balance</th>\n",
       "      <th>Customer_Id</th>\n",
       "      <th>Deposit_Type</th>\n",
       "      <th>Maturity_Amt</th>\n",
       "      <th>Principal_Amt</th>\n",
       "      <th>Status</th>\n",
       "      <th>Tenure</th>\n",
       "    </tr>\n",
       "  </thead>\n",
       "  <tbody>\n",
       "    <tr>\n",
       "      <th>0</th>\n",
       "      <td>DVYN03693610633283</td>\n",
       "      <td>GB50VFVX85805793699604</td>\n",
       "      <td>9/2/1979</td>\n",
       "      <td>$43,605.20</td>\n",
       "      <td>72665</td>\n",
       "      <td>Fixed Deposit</td>\n",
       "      <td>$32.44</td>\n",
       "      <td>$648.75</td>\n",
       "      <td>Loan against TD</td>\n",
       "      <td>1-year</td>\n",
       "    </tr>\n",
       "    <tr>\n",
       "      <th>1</th>\n",
       "      <td>FAJA44909414808043</td>\n",
       "      <td>GB68KVHP56561038459937</td>\n",
       "      <td>31-05-2021</td>\n",
       "      <td>$69,026.40</td>\n",
       "      <td>129124</td>\n",
       "      <td>Recurring Deposit</td>\n",
       "      <td>$4,605.20</td>\n",
       "      <td>$92,104.00</td>\n",
       "      <td>Matured</td>\n",
       "      <td>4-years</td>\n",
       "    </tr>\n",
       "    <tr>\n",
       "      <th>2</th>\n",
       "      <td>VAGE07589777836146</td>\n",
       "      <td>GB15ODTP73005001655692</td>\n",
       "      <td>14-01-2023</td>\n",
       "      <td>$3.65</td>\n",
       "      <td>129124</td>\n",
       "      <td>Recurring Deposit</td>\n",
       "      <td>$100.58</td>\n",
       "      <td>$2,011.63</td>\n",
       "      <td>Pre-Matured</td>\n",
       "      <td>2-years</td>\n",
       "    </tr>\n",
       "    <tr>\n",
       "      <th>3</th>\n",
       "      <td>ENBD31658749833277</td>\n",
       "      <td>GB26YVPY53107950590019</td>\n",
       "      <td>2/4/1971</td>\n",
       "      <td>$529.60</td>\n",
       "      <td>196254</td>\n",
       "      <td>Recurring Deposit</td>\n",
       "      <td>$366.15</td>\n",
       "      <td>$7,323.03</td>\n",
       "      <td>Matured</td>\n",
       "      <td>4-years</td>\n",
       "    </tr>\n",
       "    <tr>\n",
       "      <th>4</th>\n",
       "      <td>XFQG10532634859004</td>\n",
       "      <td>GB48VQZQ32738760551634</td>\n",
       "      <td>16-08-1994</td>\n",
       "      <td>$40,278.53</td>\n",
       "      <td>159818</td>\n",
       "      <td>Recurring Deposit</td>\n",
       "      <td>$29.26</td>\n",
       "      <td>$585.12</td>\n",
       "      <td>Loan against TD</td>\n",
       "      <td>1-year</td>\n",
       "    </tr>\n",
       "  </tbody>\n",
       "</table>\n",
       "</div>"
      ],
      "text/plain": [
       "             Acc_BBAN                Acc_IBAN Account_Opened_Date  \\\n",
       "0  DVYN03693610633283  GB50VFVX85805793699604            9/2/1979   \n",
       "1  FAJA44909414808043  GB68KVHP56561038459937          31-05-2021   \n",
       "2  VAGE07589777836146  GB15ODTP73005001655692          14-01-2023   \n",
       "3  ENBD31658749833277  GB26YVPY53107950590019            2/4/1971   \n",
       "4  XFQG10532634859004  GB48VQZQ32738760551634          16-08-1994   \n",
       "\n",
       "       Balance  Customer_Id       Deposit_Type Maturity_Amt Principal_Amt  \\\n",
       "0  $43,605.20         72665      Fixed Deposit      $32.44       $648.75    \n",
       "1  $69,026.40        129124  Recurring Deposit   $4,605.20    $92,104.00    \n",
       "2       $3.65        129124  Recurring Deposit     $100.58     $2,011.63    \n",
       "3     $529.60        196254  Recurring Deposit     $366.15     $7,323.03    \n",
       "4  $40,278.53        159818  Recurring Deposit      $29.26       $585.12    \n",
       "\n",
       "            Status   Tenure  \n",
       "0  Loan against TD   1-year  \n",
       "1          Matured  4-years  \n",
       "2      Pre-Matured  2-years  \n",
       "3          Matured  4-years  \n",
       "4  Loan against TD   1-year  "
      ]
     },
     "execution_count": 46,
     "metadata": {},
     "output_type": "execute_result"
    }
   ],
   "source": [
    "td.head()"
   ]
  },
  {
   "cell_type": "code",
   "execution_count": 47,
   "id": "51feb2cd-58ad-416a-bb90-0049a64617a5",
   "metadata": {},
   "outputs": [
    {
     "name": "stdout",
     "output_type": "stream",
     "text": [
      "<class 'pandas.core.frame.DataFrame'>\n",
      "RangeIndex: 1492 entries, 0 to 1491\n",
      "Data columns (total 10 columns):\n",
      " #   Column               Non-Null Count  Dtype \n",
      "---  ------               --------------  ----- \n",
      " 0   Acc_BBAN             1492 non-null   object\n",
      " 1   Acc_IBAN             1492 non-null   object\n",
      " 2   Account_Opened_Date  1492 non-null   object\n",
      " 3   Balance              1492 non-null   object\n",
      " 4   Customer_Id          1492 non-null   int64 \n",
      " 5   Deposit_Type         1492 non-null   object\n",
      " 6   Maturity_Amt         1492 non-null   object\n",
      " 7   Principal_Amt        1492 non-null   object\n",
      " 8   Status               1492 non-null   object\n",
      " 9   Tenure               1492 non-null   object\n",
      "dtypes: int64(1), object(9)\n",
      "memory usage: 116.7+ KB\n"
     ]
    }
   ],
   "source": [
    "td.info()"
   ]
  },
  {
   "cell_type": "code",
   "execution_count": 48,
   "id": "b0afaf0a-c7d4-4819-b9b4-ea34daeb70a9",
   "metadata": {},
   "outputs": [
    {
     "data": {
      "text/plain": [
       "Acc_BBAN               0\n",
       "Acc_IBAN               0\n",
       "Account_Opened_Date    0\n",
       "Balance                0\n",
       "Customer_Id            0\n",
       "Deposit_Type           0\n",
       "Maturity_Amt           0\n",
       "Principal_Amt          0\n",
       "Status                 0\n",
       "Tenure                 0\n",
       "dtype: int64"
      ]
     },
     "execution_count": 48,
     "metadata": {},
     "output_type": "execute_result"
    }
   ],
   "source": [
    "td.isnull().sum()"
   ]
  },
  {
   "cell_type": "code",
   "execution_count": 49,
   "id": "2b9d3f51-1d35-41a6-952f-675cb2cc419a",
   "metadata": {},
   "outputs": [],
   "source": [
    "df_snowflake=my_session.createDataFrame(\n",
    "        td.values.tolist(),\n",
    "        schema=td.columns.tolist())\n",
    "df_snowflake.write.mode(\"overwrite\").save_as_table(\"BFS_HYPER_PERSNL_DB.BFS_HYPER_PERSNL_SCHEMA.CUSTOMER_TERM_DEPOSIT_DETAILS\")"
   ]
  },
  {
   "cell_type": "markdown",
   "id": "c01a43ce-5336-4e2c-b53e-fdd934bed94c",
   "metadata": {},
   "source": [
    "# Transactions Datasets"
   ]
  },
  {
   "cell_type": "code",
   "execution_count": 50,
   "id": "b3d32eb2-51ff-4300-96eb-428fe2062278",
   "metadata": {},
   "outputs": [
    {
     "data": {
      "text/plain": [
       "(6299, 19)"
      ]
     },
     "execution_count": 50,
     "metadata": {},
     "output_type": "execute_result"
    }
   ],
   "source": [
    "tr.shape"
   ]
  },
  {
   "cell_type": "code",
   "execution_count": 51,
   "id": "2aa3eb45-d952-4ce5-94bd-75c4daa804c0",
   "metadata": {},
   "outputs": [
    {
     "data": {
      "text/html": [
       "<div>\n",
       "<style scoped>\n",
       "    .dataframe tbody tr th:only-of-type {\n",
       "        vertical-align: middle;\n",
       "    }\n",
       "\n",
       "    .dataframe tbody tr th {\n",
       "        vertical-align: top;\n",
       "    }\n",
       "\n",
       "    .dataframe thead th {\n",
       "        text-align: right;\n",
       "    }\n",
       "</style>\n",
       "<table border=\"1\" class=\"dataframe\">\n",
       "  <thead>\n",
       "    <tr style=\"text-align: right;\">\n",
       "      <th></th>\n",
       "      <th>Acc_BBAN</th>\n",
       "      <th>Acc_IBAN</th>\n",
       "      <th>Acc_Open_Dt</th>\n",
       "      <th>Balance</th>\n",
       "      <th>Cust_ID</th>\n",
       "      <th>Expense</th>\n",
       "      <th>Expense_Category</th>\n",
       "      <th>browser</th>\n",
       "      <th>device</th>\n",
       "      <th>dr_cr</th>\n",
       "      <th>login_time</th>\n",
       "      <th>logout_time</th>\n",
       "      <th>txn_Dt</th>\n",
       "      <th>txn_ID</th>\n",
       "      <th>txn_amount</th>\n",
       "      <th>txn_code</th>\n",
       "      <th>txn_remarks</th>\n",
       "      <th>txn_time</th>\n",
       "      <th>txn_type</th>\n",
       "    </tr>\n",
       "  </thead>\n",
       "  <tbody>\n",
       "    <tr>\n",
       "      <th>0</th>\n",
       "      <td>RHOS43398039713911</td>\n",
       "      <td>GB61LNNL27019625918822</td>\n",
       "      <td>8/4/2019</td>\n",
       "      <td>5822.30</td>\n",
       "      <td>100001</td>\n",
       "      <td>N</td>\n",
       "      <td>Credited</td>\n",
       "      <td>SAFARI</td>\n",
       "      <td>PC</td>\n",
       "      <td>Cr</td>\n",
       "      <td>7:14:43</td>\n",
       "      <td>11:24:53</td>\n",
       "      <td>8/4/2019</td>\n",
       "      <td>49760811</td>\n",
       "      <td>466.51</td>\n",
       "      <td>1</td>\n",
       "      <td>Reduce meeting read collection interest health...</td>\n",
       "      <td>9:22:10</td>\n",
       "      <td>NEFT</td>\n",
       "    </tr>\n",
       "    <tr>\n",
       "      <th>1</th>\n",
       "      <td>RHOS43398039713911</td>\n",
       "      <td>GB61LNNL27019625918822</td>\n",
       "      <td>8/4/2019</td>\n",
       "      <td>6288.81</td>\n",
       "      <td>100001</td>\n",
       "      <td>N</td>\n",
       "      <td>Credited</td>\n",
       "      <td>CHROME</td>\n",
       "      <td>MOBILE</td>\n",
       "      <td>Cr</td>\n",
       "      <td>11:59:09</td>\n",
       "      <td>15:18:06</td>\n",
       "      <td>8/4/2019</td>\n",
       "      <td>42666943</td>\n",
       "      <td>466.51</td>\n",
       "      <td>5</td>\n",
       "      <td>Occur environment film method.\\r\\nBox region b...</td>\n",
       "      <td>13:39:29</td>\n",
       "      <td>CARDS</td>\n",
       "    </tr>\n",
       "    <tr>\n",
       "      <th>2</th>\n",
       "      <td>RHOS43398039713911</td>\n",
       "      <td>GB61LNNL27019625918822</td>\n",
       "      <td>8/4/2019</td>\n",
       "      <td>6755.32</td>\n",
       "      <td>100001</td>\n",
       "      <td>N</td>\n",
       "      <td>Credited</td>\n",
       "      <td>SAFARI</td>\n",
       "      <td>POS</td>\n",
       "      <td>Cr</td>\n",
       "      <td>16:58:31</td>\n",
       "      <td>18:27:45</td>\n",
       "      <td>8/4/2019</td>\n",
       "      <td>38399527</td>\n",
       "      <td>466.51</td>\n",
       "      <td>1</td>\n",
       "      <td>Admit space read Mrs fear. Me whether customer...</td>\n",
       "      <td>17:54:01</td>\n",
       "      <td>NEFT</td>\n",
       "    </tr>\n",
       "    <tr>\n",
       "      <th>3</th>\n",
       "      <td>RHOS43398039713911</td>\n",
       "      <td>GB61LNNL27019625918822</td>\n",
       "      <td>8/4/2019</td>\n",
       "      <td>7221.83</td>\n",
       "      <td>100001</td>\n",
       "      <td>N</td>\n",
       "      <td>Credited</td>\n",
       "      <td>SAFARI</td>\n",
       "      <td>MOBILE</td>\n",
       "      <td>Cr</td>\n",
       "      <td>20:43:50</td>\n",
       "      <td>22:28:44</td>\n",
       "      <td>8/4/2019</td>\n",
       "      <td>83195211</td>\n",
       "      <td>466.51</td>\n",
       "      <td>4</td>\n",
       "      <td>Surface important challenge sport during dinne...</td>\n",
       "      <td>21:20:11</td>\n",
       "      <td>UPI</td>\n",
       "    </tr>\n",
       "    <tr>\n",
       "      <th>4</th>\n",
       "      <td>RHOS43398039713911</td>\n",
       "      <td>GB61LNNL27019625918822</td>\n",
       "      <td>8/4/2019</td>\n",
       "      <td>5409.04</td>\n",
       "      <td>100001</td>\n",
       "      <td>Y</td>\n",
       "      <td>Household Consumables</td>\n",
       "      <td>EDGE</td>\n",
       "      <td>MOBILE</td>\n",
       "      <td>Dr</td>\n",
       "      <td>11:38:00</td>\n",
       "      <td>21:00:49</td>\n",
       "      <td>8/12/2019</td>\n",
       "      <td>84209757</td>\n",
       "      <td>1812.79</td>\n",
       "      <td>7</td>\n",
       "      <td>Action general event. Floor certainly series o...</td>\n",
       "      <td>15:02:14</td>\n",
       "      <td>DD</td>\n",
       "    </tr>\n",
       "  </tbody>\n",
       "</table>\n",
       "</div>"
      ],
      "text/plain": [
       "             Acc_BBAN                Acc_IBAN Acc_Open_Dt  Balance  Cust_ID  \\\n",
       "0  RHOS43398039713911  GB61LNNL27019625918822    8/4/2019  5822.30   100001   \n",
       "1  RHOS43398039713911  GB61LNNL27019625918822    8/4/2019  6288.81   100001   \n",
       "2  RHOS43398039713911  GB61LNNL27019625918822    8/4/2019  6755.32   100001   \n",
       "3  RHOS43398039713911  GB61LNNL27019625918822    8/4/2019  7221.83   100001   \n",
       "4  RHOS43398039713911  GB61LNNL27019625918822    8/4/2019  5409.04   100001   \n",
       "\n",
       "  Expense       Expense_Category browser  device dr_cr login_time logout_time  \\\n",
       "0       N               Credited  SAFARI      PC    Cr    7:14:43    11:24:53   \n",
       "1       N               Credited  CHROME  MOBILE    Cr   11:59:09    15:18:06   \n",
       "2       N               Credited  SAFARI     POS    Cr   16:58:31    18:27:45   \n",
       "3       N               Credited  SAFARI  MOBILE    Cr   20:43:50    22:28:44   \n",
       "4       Y  Household Consumables    EDGE  MOBILE    Dr   11:38:00    21:00:49   \n",
       "\n",
       "      txn_Dt    txn_ID  txn_amount  txn_code  \\\n",
       "0   8/4/2019  49760811      466.51         1   \n",
       "1   8/4/2019  42666943      466.51         5   \n",
       "2   8/4/2019  38399527      466.51         1   \n",
       "3   8/4/2019  83195211      466.51         4   \n",
       "4  8/12/2019  84209757     1812.79         7   \n",
       "\n",
       "                                         txn_remarks  txn_time txn_type  \n",
       "0  Reduce meeting read collection interest health...   9:22:10     NEFT  \n",
       "1  Occur environment film method.\\r\\nBox region b...  13:39:29    CARDS  \n",
       "2  Admit space read Mrs fear. Me whether customer...  17:54:01     NEFT  \n",
       "3  Surface important challenge sport during dinne...  21:20:11      UPI  \n",
       "4  Action general event. Floor certainly series o...  15:02:14       DD  "
      ]
     },
     "execution_count": 51,
     "metadata": {},
     "output_type": "execute_result"
    }
   ],
   "source": [
    "tr.head()"
   ]
  },
  {
   "cell_type": "code",
   "execution_count": 52,
   "id": "990498bf-6a2e-4fd1-ab87-c3db876cc113",
   "metadata": {},
   "outputs": [
    {
     "name": "stdout",
     "output_type": "stream",
     "text": [
      "<class 'pandas.core.frame.DataFrame'>\n",
      "RangeIndex: 6299 entries, 0 to 6298\n",
      "Data columns (total 19 columns):\n",
      " #   Column            Non-Null Count  Dtype  \n",
      "---  ------            --------------  -----  \n",
      " 0   Acc_BBAN          6299 non-null   object \n",
      " 1   Acc_IBAN          6299 non-null   object \n",
      " 2   Acc_Open_Dt       6299 non-null   object \n",
      " 3   Balance           6299 non-null   float64\n",
      " 4   Cust_ID           6299 non-null   int64  \n",
      " 5   Expense           6299 non-null   object \n",
      " 6   Expense_Category  6299 non-null   object \n",
      " 7   browser           6299 non-null   object \n",
      " 8   device            6299 non-null   object \n",
      " 9   dr_cr             6299 non-null   object \n",
      " 10  login_time        6299 non-null   object \n",
      " 11  logout_time       6299 non-null   object \n",
      " 12  txn_Dt            6299 non-null   object \n",
      " 13  txn_ID            6299 non-null   int64  \n",
      " 14  txn_amount        6299 non-null   float64\n",
      " 15  txn_code          6299 non-null   int64  \n",
      " 16  txn_remarks       6299 non-null   object \n",
      " 17  txn_time          6299 non-null   object \n",
      " 18  txn_type          6299 non-null   object \n",
      "dtypes: float64(2), int64(3), object(14)\n",
      "memory usage: 935.1+ KB\n"
     ]
    }
   ],
   "source": [
    "tr.info()"
   ]
  },
  {
   "cell_type": "code",
   "execution_count": 53,
   "id": "4f727eac-db52-48ba-b160-701b1e8c4a05",
   "metadata": {
    "scrolled": true
   },
   "outputs": [
    {
     "data": {
      "text/plain": [
       "Acc_BBAN            0\n",
       "Acc_IBAN            0\n",
       "Acc_Open_Dt         0\n",
       "Balance             0\n",
       "Cust_ID             0\n",
       "Expense             0\n",
       "Expense_Category    0\n",
       "browser             0\n",
       "device              0\n",
       "dr_cr               0\n",
       "login_time          0\n",
       "logout_time         0\n",
       "txn_Dt              0\n",
       "txn_ID              0\n",
       "txn_amount          0\n",
       "txn_code            0\n",
       "txn_remarks         0\n",
       "txn_time            0\n",
       "txn_type            0\n",
       "dtype: int64"
      ]
     },
     "execution_count": 53,
     "metadata": {},
     "output_type": "execute_result"
    }
   ],
   "source": [
    "tr.isnull().sum()"
   ]
  },
  {
   "cell_type": "code",
   "execution_count": 54,
   "id": "7ba5be0b-17f0-49ed-863b-afe3d231db35",
   "metadata": {},
   "outputs": [],
   "source": [
    "df_snowflake=my_session.createDataFrame(\n",
    "        tr.values.tolist(),\n",
    "        schema=tr.columns.tolist())\n",
    "df_snowflake.write.mode(\"overwrite\").save_as_table(\"BFS_HYPER_PERSNL_DB.BFS_HYPER_PERSNL_SCHEMA.CUSTOMER_TRANSACTION_DETAILS\")"
   ]
  }
 ],
 "metadata": {
  "kernelspec": {
   "display_name": "Python 3 (ipykernel)",
   "language": "python",
   "name": "python3"
  },
  "language_info": {
   "codemirror_mode": {
    "name": "ipython",
    "version": 3
   },
   "file_extension": ".py",
   "mimetype": "text/x-python",
   "name": "python",
   "nbconvert_exporter": "python",
   "pygments_lexer": "ipython3",
   "version": "3.9.19"
  }
 },
 "nbformat": 4,
 "nbformat_minor": 5
}
